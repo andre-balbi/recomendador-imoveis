{
 "cells": [
  {
   "cell_type": "markdown",
   "id": "a4e3ab14",
   "metadata": {},
   "source": [
    "#### CARGA DA BIBLIOTECA"
   ]
  },
  {
   "cell_type": "code",
   "execution_count": 4,
   "id": "8f3b1eb9",
   "metadata": {},
   "outputs": [],
   "source": [
    "import re\n",
    "import string\n",
    "from pprint import pprint\n",
    "\n",
    "# Gensim\n",
    "import gensim\n",
    "import gensim.corpora as corpora\n",
    "import matplotlib.pyplot as plt\n",
    "import nltk\n",
    "import numpy as np\n",
    "import pandas as pd\n",
    "# Plotting tools\n",
    "import pyLDAvis\n",
    "import pyLDAvis.gensim_models  # don't skip this\n",
    "# spacy for lemmatization\n",
    "import spacy\n",
    "from gensim.models import CoherenceModel\n",
    "from gensim.utils import simple_preprocess\n",
    "\n",
    "%matplotlib inline\n",
    "\n",
    "import warnings\n",
    "import webbrowser\n",
    "\n",
    "from gensim.models.ldamulticore import LdaMulticore\n",
    "from tqdm.auto import tqdm\n",
    "\n",
    "warnings.filterwarnings(\"ignore\")"
   ]
  },
  {
   "cell_type": "code",
   "execution_count": 5,
   "id": "397fc5ea",
   "metadata": {},
   "outputs": [],
   "source": [
    "# OLX1 = pd.read_csv(\"Base_OLX_1.csv\", sep ='|', encoding = 'utf-8')\n",
    "\n",
    "path = './data/04_feat_eng_df/'\n",
    "\n",
    "# Nome dos arquivos dentro do diretorio acima (raw_df)\n",
    "filenames = os.listdir(path)\n",
    "\n",
    "# Dataframe dos dados sem tratamento\n",
    "OLX1 = pd.read_csv(path + filenames[-2], sep='|') # -1 para pegar o ultimo dataframe adquirido"
   ]
  },
  {
   "cell_type": "markdown",
   "id": "75dd4ea4",
   "metadata": {},
   "source": [
    "#### IMPORTAR STOP WORD"
   ]
  },
  {
   "cell_type": "code",
   "execution_count": 6,
   "id": "ff19a4aa",
   "metadata": {},
   "outputs": [
    {
     "name": "stderr",
     "output_type": "stream",
     "text": [
      "[nltk_data] Downloading package stopwords to\n",
      "[nltk_data]     C:\\Users\\andre\\AppData\\Roaming\\nltk_data...\n",
      "[nltk_data]   Package stopwords is already up-to-date!\n"
     ]
    }
   ],
   "source": [
    "nltk.download('stopwords')\n",
    "from nltk.corpus import stopwords\n",
    "stop_words = stopwords.words('portuguese')\n",
    "palavras_comuns = ['apto', 'apartamento', 'dorm', 'dorms', 'sala', 'sendo', 'cidade', 'vila', 'cresci', 'contato','alugar', 'www', 'anuncio', 'agende',\\\n",
    "                   'visita', 'fotos', 'foto', 'ver', 'numero', 'connheca', 'caracteristicas', 'caracteristica', 'corretora','ap', 'residencial', 'deste',\\\n",
    "                   'desta', 'facil', 'possui', 'hoje', 'imovel', 'vender', 'venda', 'alugar', 'informacoes', 'sobre', 'locacao', 'agora', 'adquirir','conheca'\\\n",
    "                   , 'conhecer', 'venha', 'atendimento', 'cliente', 'consultoria', 'imobiliaria', 'ltda', 'ref', 'atualizado', 'm'+chr(178), 'corretor', 'corretora', 'creci','immovel', 'imoveis']\n",
    "stop_words = stop_words + palavras_comuns\n"
   ]
  },
  {
   "cell_type": "markdown",
   "id": "78400cc6",
   "metadata": {},
   "source": [
    "#### ABRIR ARQUIVOS CARREGADOS NO BANCO DE DADOS"
   ]
  },
  {
   "cell_type": "markdown",
   "id": "7a5b8a84",
   "metadata": {},
   "source": [
    "#### CRIA FAIXA DE VALORES E TOTAIS"
   ]
  },
  {
   "cell_type": "code",
   "execution_count": 10,
   "id": "d12378f7",
   "metadata": {},
   "outputs": [],
   "source": [
    "## Comentei tudo abaixo pois essa feature ja foi tratada no notebook 03_limpeza_de_dados\n",
    "# val1 = 0\n",
    "# cond = []\n",
    "# OLX1['condominio'].fillna(0, inplace = True)\n",
    "# for index, row in OLX1.iterrows():\n",
    "#     if row['condominio'] != 0:\n",
    "#         val1 = int(row['condominio'].replace('.','',).split('$ ')[1])\n",
    "#     else:\n",
    "#         val1 = int(row['condominio'])\n",
    "    \n",
    "#     cond.append(val1)\n",
    "# OLX1['condominio'] = cond\n",
    "\n",
    "\n",
    "val2 = 0\n",
    "iptu1 = []\n",
    "OLX1['iptu'].fillna(0, inplace = True)\n",
    "for index, row in OLX1.iterrows():\n",
    "    if row['iptu'] != 0:\n",
    "        val2 = int(row['iptu'].replace('.','',).split('$ ')[1])\n",
    "    else:\n",
    "        val2 = int(row['iptu'])\n",
    "    \n",
    "    iptu1.append(val2)\n",
    "OLX1['iptu'] = iptu1\n",
    "\n",
    "OLX1['TOTAL'] = OLX1['iptu'] + OLX1['condominio'] + OLX1['price']\n",
    "OLX1['FAIXAS'] = pd.cut(OLX1.TOTAL, [0,500,1000, 1500, 2000, 3000, 4000, 5000, 6000, 7000, 8000, 9000, 10000, 20000, 30000, 40000, 100000], labels = ['0 - 500','500-1000', '1000-1500', '1500-2000', '2000-3000', '3000-4000','4000-5000', '5000-6000','6000-7000', '7000-8000', '8000-9000' , '9000-10000','10000-20000', '20000-30000','30000-40000', 'maior que 40000'], include_lowest=True)\n",
    "\n",
    "\n"
   ]
  },
  {
   "cell_type": "markdown",
   "id": "54a419e2",
   "metadata": {},
   "source": [
    "#### UNIFICA FEATURES TABULADAS E ARMAZENA NA DESC_3"
   ]
  },
  {
   "cell_type": "code",
   "execution_count": 11,
   "id": "930ee4a3",
   "metadata": {},
   "outputs": [],
   "source": [
    "desc_1 = []\n",
    "desc_1b = []\n",
    "OLX1['apartment_features'].fillna('', inplace = True)\n",
    "OLX1['apartment_complex_features'].fillna('', inplace = True)\n",
    "OLX1['garage_spaces'].fillna(0, inplace = True)\n",
    "\n",
    "for index, row in OLX1.iterrows():\n",
    "    if (row['apartment_complex_features'] != ''):\n",
    "        desc_1.append (str(row['apartment_features']).replace(' ','_').replace(',_',', ')+ ', '+ str(row['apartment_complex_features']).replace(' ','_').replace(',_',',')\\\n",
    "        + ', ' + str(row['rooms'])+'_quarto'\\\n",
    "        + ', ' + str(row['rooms'])+'_quarto'\\\n",
    "        + ', ' + str(row['size'])+'_area'\\\n",
    "        + ', ' + str(row['size'])+'_area'\\\n",
    "        + ', ' + str(row['bathrooms'])+'_banheiro'\\\n",
    "        + ', ' + str(row['garage_spaces'])+'_vaga'\\\n",
    "        + ', ' + str(row['FAIXAS'])\\\n",
    "        + ', ' + str(row['FAIXAS'])\\\n",
    "        + ', ' + str(row['FAIXAS']))\n",
    "        \n",
    "                  \n",
    "    else:\n",
    "        if (row['apartment_features'] != ''):\n",
    "            desc_1.append (str(row['apartment_features']).replace(' ','_').replace(',_',', ')\\\n",
    "            + ', ' + str(row['rooms'])+'_quarto'\\\n",
    "            + ', ' + str(row['rooms'])+'_quarto'\\\n",
    "            + ', ' + str(row['size'])+'_area'\\\n",
    "            + ', ' + str(row['size'])+'_area'\\\n",
    "            + ', ' + str(row['bathrooms'])+'_banheiro'\\\n",
    "            + ', ' + str(row['garage_spaces'])+'_vaga'\\\n",
    "            + ', ' + str(row['FAIXAS'])\\\n",
    "            + ', ' + str(row['FAIXAS'])\\\n",
    "            + ', ' + str(row['FAIXAS']))\n",
    "            \n",
    "        else:\n",
    "            desc_1.append(str(row['rooms'])+'_quarto'\\\n",
    "            + ', ' + str(row['rooms'])+'_quarto'\\\n",
    "            + ', ' + str(row['size'])+'_area'\\\n",
    "            + ', ' + str(row['size'])+'_area'\\\n",
    "            + ', ' + str(row['bathrooms'])+'_banheiro'\\\n",
    "            + ', ' + str(row['garage_spaces'])+'_vaga'\\\n",
    "            + ', ' + str(row['FAIXAS'])\\\n",
    "            + ', ' + str(row['FAIXAS'])\\\n",
    "            + ', ' + str(row['FAIXAS']))\n",
    "\n",
    "OLX1['DESC_3'] = desc_1"
   ]
  },
  {
   "cell_type": "markdown",
   "id": "d325cfd1",
   "metadata": {},
   "source": [
    "#### EFETUA LIMPEZA DAS FEATURE COM DESCRIÇÃO LIVRE E ARMAZENA NA DESC_4"
   ]
  },
  {
   "cell_type": "code",
   "execution_count": 12,
   "id": "e3a61e3f",
   "metadata": {},
   "outputs": [],
   "source": [
    "import string\n",
    "\n",
    "N_descs = []\n",
    "N_descs2 = []\n",
    "\n",
    "OLX1['desc'].fillna('')\n",
    "\n",
    "for index, row in OLX1.iterrows():\n",
    "    N_descs = [p for p in nltk.word_tokenize(str(row['desc']).lower())\\\n",
    "    if isinstance(p, float) == False\\\n",
    "    and p not in nltk.word_tokenize(row['title'].lower())\\\n",
    "    and p not in stop_words \\\n",
    "    and not p.isdigit()\\\n",
    "    and p not in string.punctuation\\\n",
    "    #and p not in nltk.word_tokenize(str(row['ENDERECO']).lower())\\\n",
    "    and p not in nltk.word_tokenize(str(row['apartment_features']).lower())\\\n",
    "    and p not in nltk.word_tokenize(str(row['apartment_complex_features']).lower())\\\n",
    "    and p not in nltk.word_tokenize(str(row['sellername']).lower())] \n",
    "\n",
    "    N_descs2.append( ', '.join(N_descs))\n",
    "\n",
    "OLX1['DESC_4'] = N_descs2 \n"
   ]
  },
  {
   "cell_type": "markdown",
   "id": "74958b96",
   "metadata": {},
   "source": [
    "#### REMOÇÃO DE CARACTERES ESPECIAIS DAS DUAS BASES"
   ]
  },
  {
   "cell_type": "code",
   "execution_count": 13,
   "id": "b7ab537e",
   "metadata": {},
   "outputs": [],
   "source": [
    "#Carrega em uma lista\n",
    "\n",
    "data = OLX1.DESC_3\n",
    "\n",
    "# Remove Emails\n",
    "data = [re.sub('\\S*@\\S*\\s?', '', sent) for sent in data]\n",
    "\n",
    "# Remove new line characters\n",
    "data = [re.sub('\\s+', ' ', sent) for sent in data]\n",
    "\n",
    "# Remove distracting single quotes\n",
    "data = [re.sub(\"\\'\", \"\", sent) for sent in data]\n",
    "\n",
    "################################################################################################################\n",
    "\n",
    "data2 = OLX1.DESC_4\n",
    "\n",
    "#Remove new line characters\n",
    "data2 = [re.sub('\\s+', ' ', sent) for sent in data2]"
   ]
  },
  {
   "cell_type": "markdown",
   "id": "795f5a0f",
   "metadata": {},
   "source": [
    "#### TOKEZAÇÃO"
   ]
  },
  {
   "cell_type": "code",
   "execution_count": 18,
   "id": "bdc1b362",
   "metadata": {},
   "outputs": [],
   "source": [
    "data_words=[]\n",
    "\n",
    "for w in data: \n",
    "    data_words.append(w.split(','))\n",
    "\n",
    "###############################################################################################################\n",
    "\n",
    "def sent_to_words(sentences):\n",
    "    for sentence in sentences:\n",
    "        yield(gensim.utils.simple_preprocess(str(sentence), deacc=True))  # deacc=True removes punctuations\n",
    "\n",
    "data_words2 = list(sent_to_words(data2))\n",
    "\n",
    "\n",
    "\n"
   ]
  },
  {
   "cell_type": "markdown",
   "id": "b64e8498",
   "metadata": {},
   "source": [
    "#### CRIANDO FUNÇÕES DE BIGRAMAS, TRIGRAMAS STOP WORDS E LEMATIZAÇÃO"
   ]
  },
  {
   "cell_type": "code",
   "execution_count": 19,
   "id": "e69f647b",
   "metadata": {},
   "outputs": [],
   "source": [
    "\n",
    "def remove_stopwords(texts):\n",
    "    return [[word for word in simple_preprocess(str(doc)) if word not in stop_words] for doc in texts]\n",
    "\n",
    "def make_bigrams(texts):\n",
    "    return [bigram_mod[doc] for doc in texts]\n",
    "\n",
    "def make_trigrams(texts):\n",
    "    return [trigram_mod[bigram_mod[doc]] for doc in texts]\n",
    "\n",
    "def lemmatization(texts, allowed_postags=['NOUN', 'ADJ', 'VERB', 'ADV']):\n",
    "    \"\"\"https://spacy.io/api/annotation\"\"\"\n",
    "    texts_out = []\n",
    "    for sent in texts:\n",
    "        doc = nlp(\" \".join(sent)) \n",
    "        texts_out.append([token.lemma_ for token in doc if token.pos_ in allowed_postags])\n",
    "    return texts_out\n",
    "\n",
    "bigram = gensim.models.Phrases(data_words, min_count=4, threshold=1) # higher threshold fewer phrases.\n",
    "trigram = gensim.models.Phrases(bigram[data_words], threshold=50)  \n",
    "\n",
    "bigram_mod = gensim.models.phrases.Phraser(bigram)\n",
    "trigram_mod = gensim.models.phrases.Phraser(trigram)"
   ]
  },
  {
   "cell_type": "markdown",
   "id": "c55873d9",
   "metadata": {},
   "source": [
    "#### APLICANDO FUNÇÕES DE BIGRAMAS E TRIGRAMAS STOP WORDS E LEMALIZAÇÃO NA BASE DE DESC LIVRE\n"
   ]
  },
  {
   "cell_type": "code",
   "execution_count": 20,
   "id": "c2b01dd6",
   "metadata": {},
   "outputs": [],
   "source": [
    "# Remove Stop Words\n",
    "data_words_nostops = remove_stopwords(data_words2)\n",
    "\n",
    "# Aplica bigrama\n",
    "data_words_bigrams = make_bigrams(data_words_nostops)\n",
    "\n",
    "data_words_bigrams = make_trigrams(data_words_nostops)\n",
    "\n",
    "\n",
    "# pip install -U spacy\n",
    "# python -m spacy download pt_core_news_sm\n",
    "# Carrega Spacy em portugues\n",
    "nlp = spacy.load(\"pt_core_news_sm\")\n",
    "\n",
    "# Executa lematização\n",
    "data_lemmatized = lemmatization(data_words_bigrams, allowed_postags=['NOUN', 'ADJ', 'VERB', 'ADV'])\n",
    "\n",
    "\n"
   ]
  },
  {
   "cell_type": "markdown",
   "id": "0732b690",
   "metadata": {},
   "source": [
    "#### UNIFICA AS PALAVRAS DAS DUAS LISTAS"
   ]
  },
  {
   "cell_type": "code",
   "execution_count": 21,
   "id": "c10ca6d0",
   "metadata": {},
   "outputs": [],
   "source": [
    "result_word = []\n",
    "for i in range(0,len(data_words)):\n",
    "    result_word.append (data_lemmatized[i]+data_words[i])    "
   ]
  },
  {
   "cell_type": "markdown",
   "id": "b2475432",
   "metadata": {},
   "source": [
    "#### CRIAÇÃO DE DICIONARIO CORPORA"
   ]
  },
  {
   "cell_type": "code",
   "execution_count": 22,
   "id": "5db129d8",
   "metadata": {},
   "outputs": [],
   "source": [
    "id2word = corpora.Dictionary(result_word)\n",
    "\n",
    "texts = result_word\n",
    "\n",
    "corpus = [id2word.doc2bow(text) for text in texts]"
   ]
  },
  {
   "cell_type": "markdown",
   "id": "a3d98bd5",
   "metadata": {},
   "source": [
    "#### VERIFICAÇÃO DE QUAL É A MELHOR QUANTIDADE DE TOPICOS"
   ]
  },
  {
   "cell_type": "code",
   "execution_count": null,
   "id": "d3413e2c",
   "metadata": {},
   "outputs": [],
   "source": [
    "%%time\n",
    "def compute_coherence_values(dictionary, corpus, texts, limit, start=2, step=3):\n",
    "\n",
    "    from gensim.models.ldamodel import LdaModel\n",
    "    coherence_values = []\n",
    "    model_list = []\n",
    "    for num_topics in range(start, limit, step):\n",
    "        model=gensim.models.ldamodel.LdaModel(corpus=corpus, id2word=id2word, num_topics=num_topics, random_state=1, update_every=1, chunksize=100, passes=10, alpha='auto', per_word_topics=True)\n",
    "        model_list.append(model)\n",
    "        coherencemodel = CoherenceModel(model=model, texts=result_word, dictionary=id2word, coherence='c_v')\n",
    "        coherence_values.append(coherencemodel.get_coherence())\n",
    "\n",
    "    return model_list, coherence_values\n",
    "\n",
    "# Calcula o valor de coerencia de 2 a n\n",
    "model_list, coherence_values = compute_coherence_values(dictionary=id2word, corpus=corpus, texts=result_word, start=2, limit=40, step=1)\n",
    "\n",
    "# Gera grafico\n",
    "limit=40; start=2; step=1;\n",
    "x = range(start, limit, step)\n",
    "plt.plot(x, coherence_values)\n",
    "plt.xlabel(\"Num Topics\")\n",
    "plt.ylabel(\"Coherence score\")\n",
    "plt.legend((\"coherence_values\"), loc='best')\n",
    "plt.show()\n",
    "\n",
    "# Gera dados de coerencia pela quantidade de topicos\n",
    "for m, cv in zip(x, coherence_values):\n",
    "    print(\"Numero Topicos =\", m, \" ;Valor de coerencia:\", round(cv, 4))  #le 4 correspond au nombre de décimales du c"
   ]
  },
  {
   "cell_type": "markdown",
   "id": "9e403da4",
   "metadata": {},
   "source": [
    "#### CRIAÇÃO DE MODELO LDA"
   ]
  },
  {
   "cell_type": "code",
   "execution_count": 24,
   "id": "d1886809",
   "metadata": {},
   "outputs": [],
   "source": [
    "# Build LDA model\n",
    "lda_model = gensim.models.ldamodel.LdaModel(corpus=corpus,\n",
    "                                           id2word=id2word,\n",
    "                                           num_topics=7, \n",
    "                                           random_state=100,\n",
    "                                           update_every=12,\n",
    "                                           chunksize=100,\n",
    "                                           passes=10,\n",
    "                                           alpha='auto',\n",
    "                                           per_word_topics=True)"
   ]
  },
  {
   "cell_type": "markdown",
   "id": "19c46d1a",
   "metadata": {},
   "source": [
    "#### DEMONSTRAÇÃO DOS TOPICOS"
   ]
  },
  {
   "cell_type": "code",
   "execution_count": 33,
   "id": "f58313f1",
   "metadata": {},
   "outputs": [
    {
     "name": "stdout",
     "output_type": "stream",
     "text": [
      "[(0,\n",
      "  '0.022*\"bairro\" + 0.016*\"paulo\" + 0.012*\"regiao\" + 0.011*\"santo\" + '\n",
      "  '0.009*\"alto\" + 0.009*\"visto\" + 0.009*\"higienopolis\" + 0.008*\"tambem\" + '\n",
      "  '0.008*\"localizar\" + 0.008*\"alar\"'),\n",
      " (1,\n",
      "  '0.034*\" 1_quarto\" + 0.022*\" 1500-2000\" + 0.021*\" 2000-3000\" + 0.019*\" '\n",
      "  '1_banheiro\" + 0.014*\" 0_vaga\" + 0.012*\"metro\" + 0.012*\"0\" + 0.012*\" 0\" + '\n",
      "  '0.011*\"banheiro\" + 0.011*\" 1000-1500\"'),\n",
      " (2,\n",
      "  '0.017*\"bairro\" + 0.014*\"morar\" + 0.014*\"paulista\" + 0.012*\"tambem\" + '\n",
      "  '0.011*\"avenida\" + 0.009*\"restaurante\" + 0.009*\"proximo\" + 0.008*\"regiao\" + '\n",
      "  '0.008*\"metro\" + 0.008*\"bom\"'),\n",
      " (3,\n",
      "  '0.018*\" 2000-3000\" + 0.017*\" 3000-4000\" + 0.016*\"banheiro\" + 0.015*\" '\n",
      "  '2_quarto\" + 0.014*\" 1_vaga\" + 0.013*\"cozinhar\" + 0.013*\" 1_quarto\" + '\n",
      "  '0.012*\"metro\" + 0.012*\"vago\" + 0.012*\"codigo\"'),\n",
      " (4,\n",
      "  '0.018*\" 1_quarto\" + 0.017*\" 2000-3000\" + 0.013*\"arouche\" + 0.012*\"espaco\" + '\n",
      "  '0.012*\"bar\" + 0.010*\"piscina\" + 0.010*\"bairro\" + 0.009*\"incluso\" + '\n",
      "  '0.009*\"galeria\" + 0.009*\" 1_banheiro\"'),\n",
      " (5,\n",
      "  '0.011*\"bairro\" + 0.010*\"quot\" + 0.008*\"liberdade\" + 0.008*\"paulo\" + '\n",
      "  '0.008*\"ruir\" + 0.007*\"distrito\" + 0.006*\"nome\" + 0.006*\"luzir\" + '\n",
      "  '0.006*\"jardim\" + 0.006*\"municipio\"'),\n",
      " (6,\n",
      "  '0.024*\"gratuito\" + 0.023*\" 1_quarto\" + 0.023*\" 2000-3000\" + '\n",
      "  '0.021*\"assessoria\" + 0.020*\"departamento\" + 0.016*\" piscina\" + 0.014*\"novo\" '\n",
      "  '+ 0.014*\"segurar\" + 0.013*\"fianca\" + 0.013*\"ponto\"')]\n"
     ]
    }
   ],
   "source": [
    "pprint(lda_model.print_topics())\n",
    "doc_lda = lda_model[corpus]"
   ]
  },
  {
   "cell_type": "markdown",
   "id": "d8ee1ce2",
   "metadata": {},
   "source": [
    "#### PERPLEXIDADE DO MODELO"
   ]
  },
  {
   "cell_type": "code",
   "execution_count": 34,
   "id": "b1dfa1b9",
   "metadata": {},
   "outputs": [
    {
     "name": "stdout",
     "output_type": "stream",
     "text": [
      "\n",
      "Perplexity:  -6.518145570450654\n",
      "\n",
      "Coherence Score:  0.510575060393161\n"
     ]
    }
   ],
   "source": [
    "# Perplexidade\n",
    "print('\\nPerplexity: ', lda_model.log_perplexity(corpus))  # a measure of how good the model is. lower the better.\n",
    "\n",
    "# Coerencia\n",
    "coherence_model_lda = CoherenceModel(model=lda_model, texts=result_word, dictionary=id2word, coherence='c_v')\n",
    "coherence_lda = coherence_model_lda.get_coherence()\n",
    "print('\\nCoherence Score: ', coherence_lda)"
   ]
  },
  {
   "cell_type": "code",
   "execution_count": 35,
   "id": "1094041d",
   "metadata": {},
   "outputs": [
    {
     "data": {
      "text/html": [
       "\n",
       "<link rel=\"stylesheet\" type=\"text/css\" href=\"https://cdn.jsdelivr.net/gh/bmabey/pyLDAvis@3.3.1/pyLDAvis/js/ldavis.v1.0.0.css\">\n",
       "\n",
       "\n",
       "<div id=\"ldavis_el2756017002400845448536599246\"></div>\n",
       "<script type=\"text/javascript\">\n",
       "\n",
       "var ldavis_el2756017002400845448536599246_data = {\"mdsDat\": {\"x\": [-0.11829901286450788, -0.09300161386474119, -0.20060719962116946, 0.07217009010573842, 0.1543166565352536, -0.05712698295262828, 0.24254806266205492], \"y\": [-0.1123515388858308, -0.08162254191082177, 0.09076591611120235, -0.08023664244283907, -0.08530738268586391, 0.16319041548452137, 0.10556177432963207], \"topics\": [1, 2, 3, 4, 5, 6, 7], \"cluster\": [1, 1, 1, 1, 1, 1, 1], \"Freq\": [39.96471686241663, 30.674323561007306, 9.345260574175484, 7.596183952193591, 6.11077633031976, 3.5349557861881515, 2.7737829336990805]}, \"tinfo\": {\"Term\": [\" 1_quarto\", \"bairro\", \" 2000-3000\", \"gratuito\", \" 1500-2000\", \"assessoria\", \"departamento\", \"espaco\", \" piscina\", \"paulo\", \"academia\", \"tambem\", \"piscina\", \"segurar\", \"paulista\", \"fianca\", \"regiao\", \"morar\", \"novo\", \"santo\", \" 1000-1500\", \"lavanderia\", \" 1_banheiro\", \"administracao\", \"avenida\", \" 0_vaga\", \"elevador\", \"bar\", \"ruir\", \"ponto\", \"quente\", \" 7000-8000\", \" 3_banheiro\", \"descontracao\", \" 9000-10000\", \" 98.00000000000004_area\", \"adulto\", \"possibilitar\", \" 119.99999999999996_area\", \" 85.00000000000001_area\", \"dependencia\", \" 4000-5000\", \" 341.00000000000006_area\", \"churrasco\", \"preparar\", \" 3_vaga\", \" 5000-6000\", \"estrategica\", \" 3_quarto\", \" 6000-7000\", \" 129.99999999999997_area\", \" 104.99999999999996_area\", \"iconico\", \"pizza\", \"indoor\", \"outdoor\", \"cruzamento\", \"samaritano\", \" 110.00000000000004_area\", \"espacosa\", \" 10000-20000\", \"playground\", \" 4_quarto\", \"curtir\", \"jogo\", \"suite\", \" 2_vaga\", \" 95.0_area\", \"dormitorios\", \" 2_banheiro\", \" 4_banheiro\", \"ambientar\", \"empregar\", \" area_de_servico\", \"poliesportiva\", \"lavabo\", \" 2_quarto\", \"infantil\", \" 3000-4000\", \"vago\", \"churrasqueira\", \" 1_vaga\", \" salao_de_festas\", \"garagem\", \"amplo\", \"armarios\", \"piscina\", \"banheiro\", \"salao_de_festas\", \"espaco\", \"cozinhar\", \"academia\", \" piscina\", \" 2000-3000\", \"codigo\", \"area\", \"metro\", \"dia\", \"proximo\", \"elevador\", \" 1_quarto\", \" 1_banheiro\", \" 0\", \"localizacao\", \"gestao\", \"seguradora\", \"negociacao\", \"tal\", \"experiencia\", \"creditar\", \"garantidor\", \"necessaria\", \"safra\", \"locacoes\", \"adjacente\", \"cliente\", \"focar\", \"ramo\", \"capacitar\", \"sicred\", \"tokio\", \"credibilidade\", \"imobiliarias\", \"intermediacao\", \"personalizar\", \"transparencia\", \"santander\", \"marinar\", \"honestidade\", \"economica\", \"atua\", \"allianz\", \"bradesco\", \"intermediacoes\", \" 1000-1500\", \" 1500-2000\", \"caixa\", \"federal\", \"aluguel\", \" 34.99999999999999_area\", \" 0_vaga\", \" 1_quarto\", \"0\", \" 1_banheiro\", \" 0\", \"segurar\", \" 2000-3000\", \"portar\", \"contar\", \"banco\", \"total\", \"visitar\", \" 40.0_area\", \"administracao\", \"metro\", \"banheiro\", \"aclimacao\", \"ano\", \"proximo\", \"cozinhar\", \"oferecer\", \"codigo\", \"bem\", \"localizar\", \"ruir\", \"dormitorio\", \"bairro\", \"poder\", \"mercar\", \"paulo\", \"garagem\", \"area\", \" 1_vaga\", \" 3000-4000\", \"localizacao\", \" 2_quarto\", \"vago\", \"gratuito\", \"assessoria\", \"similar\", \"solucao\", \"juridica\", \"gasto\", \"referir\", \"departamento\", \"financiamento\", \"telefone\", \"stay\", \"long\", \"tradicao\", \"bebido\", \"bancario\", \" 22.000000000000004_area\", \"street\", \" 23.0_area\", \"investimento\", \"quality\", \"cardapios\", \"sansiro\", \"preocupacoes\", \"somar\", \"imobiliario\", \"tirar\", \"especialidade\", \"preocupar\", \"mercure\", \"condicoes\", \"genebra\", \"preciso\", \"duvidar\", \"executivo\", \"usar\", \"vender\", \"conferir\", \"microonda\", \"interessar\", \"unidade\", \"fianca\", \"lanchonetes\", \"voce\", \"ponto\", \"novo\", \" piscina\", \"tambem\", \"segurar\", \" 2000-3000\", \" 1_quarto\", \"estacao\", \"academia\", \"mercar\", \"administracao\", \"oferecer\", \"codigo\", \" 1_banheiro\", \"pretender\", \"baldeacoes\", \"simbolicas\", \"degustar\", \"locomover\", \"reunem\", \"grupo\", \"pizzaria\", \"simbolica\", \"ganhar\", \"natureza\", \"ir\", \"apreciar\", \"quesito\", \"colecao\", \"balar\", \"potenciar\", \"anuncios\", \"cartaz\", \"setima\", \"recontar\", \"tematica\", \"sustentavel\", \"acervar\", \" 93.00000000000004_area\", \"traduzir\", \"fabricar\", \"nativo\", \"milhar\", \"producao\", \"historico\", \"reune\", \"ciclovias\", \"logo\", \"alimentacao\", \"preferir\", \"possivel\", \"circulacao\", \"destacar\", \"cruzar\", \"algo\", \"escolher\", \"considerar\", \"morador\", \"espacos\", \"morar\", \"italiano\", \"capital\", \"ainda\", \"tambem\", \"facilidade\", \"bom\", \"paulista\", \"otimas\", \"regioes\", \"avenida\", \"onibus\", \"bairro\", \"desfrutar\", \"encontrar\", \"central\", \"restaurante\", \"perto\", \"grande\", \"local\", \"regiao\", \"partir\", \"alar\", \"servicos\", \"acesso\", \"proximo\", \"ruir\", \"ponto\", \"localizar\", \"metro\", \"lazer\", \"dia\", \"paulo\", \"mansoes\", \"principalmente\", \"leforte\", \"palacio\", \"escadaria\", \"inumeras\", \"arranhar\", \"eliseos\", \"observar\", \"fazendeiro\", \"espigao\", \"caracterizar\", \"estabelecer\", \"faixar\", \"goulart\", \"ceus\", \"rino\", \"heep\", \"levi\", \"projetados\", \"fator\", \"franz\", \"temporarias\", \"provir\", \"reunir\", \"programar\", \"razao\", \"compreender\", \"fundar\", \"casaroes\", \"oficial\", \"bixiga\", \"peco\", \"movimentacao\", \"agitar\", \"desenvolvimento\", \"nivel\", \"campo\", \"predios\", \"importancia\", \"transitar\", \"municipio\", \"contribuir\", \"vizinhanca\", \"abrigar\", \"teatro\", \"distrito\", \"paulo\", \"antigo\", \"arte\", \"alto\", \"pertencente\", \"santo\", \"cecilia\", \"bairro\", \"existir\", \"visto\", \"higienopolis\", \"regiao\", \"elevar\", \"alar\", \"casar\", \"linha\", \"consolacao\", \"tambem\", \"situar\", \"belo\", \"variar\", \"localizar\", \"paulista\", \"local\", \"armario\", \"grande\", \"avenida\", \"morar\", \"partir\", \"area\", \"fazer\", \"contar\", \" 500-1000\", \"tematico\", \"noturnas\", \"disco\", \"piano\", \"extravagante\", \"discreto\", \"lgbt\", \"vovo\", \"farma\", \"champs\", \"elysees\", \"karibe\", \"bk\", \"exuberante\", \"arouche\", \"rock\", \"galeria\", \"atrativos\", \"show\", \"artesanato\", \"haddock\", \"kitchen\", \"riema\", \"wireless\", \"lobo\", \"astron\", \"cartoes\", \"conciliar\", \"ocasionar\", \"lanche\", \"imediato\", \"pago\", \"mirante\", \"cacau\", \"acontecer\", \"sf\", \"mobiliados\", \"consulto\", \"modernista\", \"incluso\", \"largar\", \"interfone\", \" 28.0_area\", \"mensal\", \"cafe\", \"bar\", \"pontar\", \"espaco\", \"edificio\", \"partir\", \"seguranca_24h\", \"min\", \"pacote\", \" 1_quarto\", \" 2000-3000\", \"proximos\", \"apartamento\", \"lavanderia\", \"unidade\", \"piscina\", \"cama\", \"bairro\", \"sujeitar\", \"elevador\", \"iptu\", \" 1_banheiro\", \"shopping\", \"centrar\", \"area\", \"codigo\", \"teoria\", \"coimbra\", \"estrar\", \"carlos\", \"zoologico\", \"atual\", \"botelho\", \"dois\", \"limite\", \"nascer\", \"construir\", \"possuia\", \"adquirir\", \"fonte\", \"sitiar\", \"versao\", \"vez\", \"festival\", \"ibge\", \"estrategico\", \"adaptar\", \"noroeste\", \"sudoestar\", \"horacio\", \"milliet\", \"oswald\", \"sabino\", \"raul\", \"surgir\", \"agostar\", \"comunidade\", \"povoar\", \"direcao\", \"abranger\", \"pesquisar\", \"amarar\", \"haver\", \"livro\", \"gloriar\", \"quot\", \"nome\", \"terra\", \"distrito\", \"cesar\", \"municipio\", \"iniciar\", \"luzir\", \"liberdade\", \"seculo\", \"tornar\", \"realizar\", \"chamar\", \"vergueiro\", \"primeiro\", \"passar\", \"caminhar\", \"bairro\", \"paulo\", \"ruir\", \"jardim\", \"sao\", \"ano\", \"partir\", \"x\", \"tambem\", \"paraiso\", \"capital\", \"regiao\", \"avenida\", \"santo\", \"centrar\", \"parque\", \"paulista\", \" 2000-3000\"], \"Freq\": [2412.0, 1045.0, 2188.0, 305.0, 930.0, 260.0, 263.0, 430.0, 701.0, 422.0, 588.0, 409.0, 657.0, 551.0, 546.0, 292.0, 443.0, 354.0, 437.0, 321.0, 470.0, 354.0, 1478.0, 299.0, 444.0, 831.0, 533.0, 232.0, 473.0, 304.0, 94.22742262819861, 97.35584997484152, 131.01106919138059, 32.280196855167844, 48.984747984841775, 22.441738461025363, 66.08657769362276, 87.21835962820512, 36.75252452163426, 30.80864198736348, 62.18450575594887, 446.67769871491345, 20.46529167635025, 24.821823677205057, 24.014495646429328, 35.89229203009602, 230.42646390873767, 22.366922156697342, 557.9175790229108, 147.57881878233252, 20.834640179582834, 15.423739161094229, 18.600303336602963, 34.903634464209794, 17.8124461459406, 17.809698135889047, 18.55186251100634, 29.06953086817597, 28.58074626323391, 42.94915776353835, 180.71327052995602, 152.28153383257347, 72.87023765227913, 79.26610613772384, 133.06216222280662, 378.4319857458224, 159.60529063643358, 42.84578984546548, 376.22018980894995, 313.19891047749985, 53.12363337579741, 360.62411008538373, 189.8458139017259, 170.74775203688546, 78.5063791791993, 101.20749457362851, 774.1257365893737, 88.97092185026273, 897.855656677102, 608.4737402868169, 272.0051983901586, 704.5770635334505, 461.54919470598134, 529.5847466084352, 392.083979287199, 530.7146753679466, 455.05837690499845, 804.1398575369465, 397.1191042280135, 305.65714286963737, 672.7553840443657, 382.27597323883595, 421.0861583252286, 935.3726818088948, 600.3071239531027, 435.6051385033304, 638.2178880585035, 278.4774513214833, 484.6874273005936, 314.1803443586942, 651.4155118327578, 510.8928364153984, 373.9301854458129, 340.1571960898464, 101.16535419730384, 60.8233440266515, 58.69389877850957, 56.35208793662618, 71.55968314525187, 69.79797694746516, 49.81906562761553, 51.603845901836436, 49.802090426009755, 50.87596367250321, 50.87227200508813, 53.06831049785281, 57.758091121124366, 48.6644100118038, 49.75426046220384, 49.75075822953721, 49.74706656212213, 49.74154985261824, 50.83552166388717, 49.335757519621446, 60.212634119779466, 49.73281275239055, 50.832070255177456, 51.913437725134315, 49.71574052323069, 74.26208072064624, 49.695937661477195, 50.38281881866844, 52.93770678968995, 51.6152997735786, 451.8671515157301, 854.9372424921381, 74.89411820797888, 74.94029408300558, 219.8142419766101, 133.78138828142716, 565.8405956479713, 1334.5197141864912, 470.26390843681367, 739.3827112642259, 469.1755734644013, 313.8500577030865, 820.221042379409, 240.23926288836017, 201.6906222406454, 157.83185761277403, 96.01464186815491, 93.08377212504038, 156.62969545833667, 175.0496835480849, 483.1116133359775, 453.10973257698487, 114.12291276913473, 108.7753361530999, 373.3296116888494, 393.65841822982145, 207.81027020636122, 381.5693763964355, 245.71631122442682, 252.76213801787446, 201.36372254984204, 209.9146592437497, 294.3423999727254, 165.1697096218698, 173.85426711883653, 166.1065152769542, 198.34592535898364, 197.80722837868416, 192.6630307567383, 198.65962930243097, 182.27332026493931, 189.13869428922118, 175.30498614469036, 292.0120627729992, 248.19619945953295, 80.27763624231352, 123.66519914617375, 123.32109261860383, 75.91762286887722, 81.03268413860687, 247.3243623235424, 124.54552717858044, 121.97085991026569, 12.544944729055183, 12.53768974229644, 124.35515767736732, 9.679409360450764, 123.03081432030328, 85.4374380046974, 10.802557041842702, 49.537218505737385, 132.36979813695868, 7.42178951794743, 5.7751024821267425, 5.77104671367532, 5.303246814412661, 5.052956105624919, 124.35189194797648, 124.47701442818821, 5.330969619364169, 74.44299402358841, 4.126439820788807, 17.504517865806406, 11.318578884283662, 129.7835318987386, 128.27482122585906, 61.38272845779772, 126.1220073668874, 122.57739594722754, 126.22429226363505, 77.04025113037898, 91.90130181851472, 97.33453521999685, 162.6616904639774, 60.57283883001026, 141.91634720924026, 153.7226458863391, 171.15944491182933, 199.09098064652187, 149.1919756299608, 165.89612515832437, 277.434184606455, 282.58705513973524, 140.4035937885976, 145.2873344366668, 129.39881771536423, 117.21247822626061, 125.41653099051953, 135.82287904458894, 138.0762210631187, 17.531525951164017, 12.860492329030091, 12.83123437319184, 13.224122346279584, 12.806485650624035, 12.804062266694373, 12.063425564810265, 12.264667119256439, 11.310142185601055, 12.449386641623136, 13.751384555478543, 19.776277422910702, 11.876849030112199, 15.134303812601887, 11.739334006046814, 15.54121835018148, 10.036925102419277, 9.115882455795871, 9.104007531285008, 8.374579838214379, 8.369312010257735, 8.363832508067388, 8.2488264643402, 8.35730035563375, 6.656572831932859, 7.629226233473785, 7.627338328146144, 7.626494491673941, 7.622679778727059, 7.621950360759561, 62.19789915792412, 14.648279176683847, 10.396393718652629, 16.045404635351428, 10.233052149705113, 41.18879438399269, 49.82598185328196, 13.759232520716294, 37.36347255335414, 13.880099652347024, 12.46401390326469, 32.95957982345154, 27.54611312890963, 70.53039472592276, 20.797517498289785, 135.07941108593792, 27.562532184334877, 39.84942509813036, 49.13082078609306, 115.53764583027166, 32.61004959853691, 78.41929432791827, 134.31271556960712, 24.096386058557638, 56.930908744736136, 105.54591718139612, 59.17914998087634, 167.51121724947447, 20.48109770026684, 53.4442061904035, 43.19553477062104, 91.16095731888643, 53.61206729028688, 69.7693972511263, 53.67381209216617, 83.26923844493498, 51.524341486027964, 61.07764130857288, 50.80433329635722, 76.73667868141973, 88.3386006400554, 65.17618079822765, 53.40930396972813, 67.85603151781804, 78.65531681942483, 59.27283127578904, 50.33185809976641, 46.76980867171509, 12.450673976608895, 30.987915642836978, 7.7813878538072165, 9.748611460521493, 7.396385165030278, 27.962822524893745, 7.973501001107395, 26.492045696489125, 10.575282107420808, 8.537383159325831, 14.914103205409637, 7.76335176146565, 7.849346966124381, 7.451671609862948, 8.698084327889564, 6.7640252245260895, 6.754565825649117, 6.755288834096899, 6.753211853113549, 6.7545386725629175, 6.752793971719159, 6.748157697306071, 7.135400745805356, 5.7693584333114165, 7.6119507550360925, 8.804814365524997, 6.242567692496033, 5.851296322581446, 4.975137565307522, 6.1173266136214455, 15.614482547286789, 32.047136365270696, 10.536205594827349, 8.43974342268378, 18.035613710894147, 15.216555449700762, 13.058116128196282, 31.16528512455271, 31.12689894465923, 8.645457965060832, 15.053087427675493, 31.470286997615773, 12.10916915125791, 33.207141980127595, 27.97555962343024, 55.54592156527823, 34.462321463222196, 124.71932726082704, 36.295554254200496, 36.783389362188764, 72.87075400117187, 11.567754100871333, 86.07896502632934, 51.90329915433545, 173.53933180750545, 22.168578518191527, 72.61681465726117, 71.48872634467712, 90.94934138286179, 21.076606571583394, 59.95536553936255, 48.89636086595818, 48.34624486222101, 40.79924797114816, 63.44589016807059, 33.03597628827571, 45.587535485660176, 33.745012402210655, 63.06009175580147, 56.924550944001865, 36.351811767031144, 39.723278856969245, 39.22425483657965, 40.3195679934557, 38.87218147781372, 34.348006049879345, 35.374477389025856, 33.52436366242396, 33.54859341974978, 25.871388556652064, 16.169279737525798, 16.168645048431248, 16.165853907295652, 16.164442895466326, 16.146752534327643, 16.14207436454181, 16.130330486463468, 16.130811827857322, 16.11728208801462, 11.641441814276577, 11.641441814276577, 16.089727423045712, 16.079574527362098, 17.8792237408967, 58.262478138508925, 18.830305349079104, 41.35957874119262, 16.16448336222068, 34.83939211493562, 18.338804670054994, 4.928969950321201, 4.9261457968333735, 4.925936541116798, 5.606312068870673, 4.923741752150579, 4.92255969695771, 4.91953054741166, 3.978546459354284, 3.978546459354284, 16.102000563674377, 16.684014723034608, 17.23199847181527, 18.695651159063324, 16.16964926288789, 16.149300874937133, 22.872454897126445, 9.644620469998484, 14.586435420082195, 16.10164275237275, 41.80444894022993, 38.58441132442087, 27.770946991934213, 39.19519095663676, 30.166144364330105, 23.030441365769036, 55.28802686536534, 34.445946641361054, 56.82567833751617, 35.71831298079444, 38.912064244909104, 28.278157290963012, 22.19729265873896, 26.782561425728204, 81.76993521507379, 76.32277782614892, 21.7933322185208, 25.76350418955371, 39.15583597311634, 30.687769347224375, 44.93352155191749, 29.376309993259266, 43.82765034868618, 25.96169757338726, 37.52119208027496, 30.66974247307583, 40.601491603824314, 30.258892035472208, 29.289219148409522, 31.21028885837271, 27.807827113951728, 10.357659641018449, 8.285096236701653, 10.71494862754282, 8.160779299524718, 8.149625586662001, 8.622094958337467, 7.985914684906112, 6.238194393818332, 6.8425471448322455, 7.796934958085153, 5.882033062036861, 6.102841564689202, 6.102145919951547, 5.192998411706424, 5.080297697136698, 5.317686359410108, 4.8283042556143725, 4.212365781732496, 4.212879681448601, 4.206512338624665, 4.199485282262737, 4.203066285894231, 4.203066285894231, 4.200617950661404, 4.200617950661404, 4.200617950661404, 4.200617950661404, 4.192550978532497, 8.941038669947455, 4.195032320332454, 6.707115768429435, 4.916959894930794, 5.441300131365738, 5.255297680461011, 7.5443661995635765, 8.626842054739406, 9.5103593368996, 5.93884780918713, 6.032566823023452, 37.13198024610966, 22.768021924642497, 8.143722006996502, 26.736154986175148, 18.329902086648282, 20.987519009713687, 10.04643278124298, 22.573199617634536, 29.45850990372108, 18.020781797904196, 12.793356283265206, 13.100203714728305, 13.022407653802944, 17.696740869597882, 16.31402140321323, 15.027694482602582, 15.365919043073397, 39.62457603204543, 28.686530585797342, 27.54199653514838, 21.22035652596471, 15.15898040129548, 17.403146201545233, 17.467668608827783, 11.045429596681691, 20.383831403698178, 10.967049444859487, 13.470102045506378, 17.591736534434965, 15.336106174664948, 14.683590575135808, 14.332353906731354, 13.79234808504815, 13.5837641285694, 13.236943655286272], \"Total\": [2412.0, 1045.0, 2188.0, 305.0, 930.0, 260.0, 263.0, 430.0, 701.0, 422.0, 588.0, 409.0, 657.0, 551.0, 546.0, 292.0, 443.0, 354.0, 437.0, 321.0, 470.0, 354.0, 1478.0, 299.0, 444.0, 831.0, 533.0, 232.0, 473.0, 304.0, 96.18487629152769, 100.03077949155897, 134.65706867139076, 33.415772909246265, 50.75539461886723, 23.292087815749603, 68.62576136895976, 90.6607058088998, 38.20423614101492, 32.09843912745876, 65.06808249098668, 467.4651455002684, 21.419594538854522, 25.9941958827023, 25.177032585517907, 37.68057797652946, 241.9616857805734, 23.489497848272773, 588.0088610518017, 155.97767431462174, 22.02235439287723, 16.307974621991256, 19.737317857548604, 37.07711187634939, 18.923055217411267, 18.922852347238994, 19.731195477717165, 30.92294087708845, 30.419221828982966, 45.724151288133996, 193.77420064135703, 163.46469886389008, 77.80037747780703, 84.72685741205045, 143.7664637532738, 421.21112672842924, 174.72551895490227, 45.7726276182442, 420.56154837141946, 350.2238749307671, 57.05215980487151, 416.7151094280362, 213.89224532302026, 192.19470628571915, 85.65939782072505, 112.75742377580195, 1012.822189478801, 99.37491563737855, 1237.339666795449, 815.6311141467934, 342.6111650194578, 994.718627178605, 636.3811303556162, 759.5566192137337, 542.6460481607351, 786.7626624631902, 657.5940842439753, 1301.2265344134782, 573.705989114472, 430.60722917964216, 1223.1082637377494, 588.1224126398697, 701.4882954331666, 2188.301869149922, 1189.3337465879017, 765.7555674891145, 1360.220819365217, 416.3869635131367, 1075.2128628231017, 533.1399224660736, 2412.580524563695, 1478.8327230522666, 890.8501949945735, 699.2536388866216, 102.505721169625, 61.90928312933525, 59.784546281161646, 57.425836633091485, 72.94238557818825, 71.15402064713106, 50.811370158169694, 52.64469087068686, 50.81361461616535, 51.94041226231912, 51.94052951195013, 54.18742201474677, 58.977683719028086, 49.69628891837869, 50.820493483703466, 50.82134905056353, 50.82291848533619, 50.82266408649567, 51.942167720076526, 50.40986793014373, 61.527282439874924, 50.82294841829634, 51.94674149666514, 53.07179062993045, 50.826985444956925, 75.92505091972436, 50.826282671539005, 51.54008423277295, 54.20527619640012, 53.46026721680314, 470.7994686177423, 930.1887529287727, 78.57691419726879, 79.0916291313872, 266.84952426723123, 156.85674453735612, 831.2683814221975, 2412.580524563695, 778.8883429164509, 1478.8327230522666, 890.8501949945735, 551.1115778362549, 2188.301869149922, 434.2636699724781, 349.225827929798, 248.94179886813268, 126.03614281586391, 120.7486395471482, 252.25499948456547, 299.4863008179051, 1360.220819365217, 1301.2265344134782, 168.2093692690619, 156.28339877235916, 1075.2128628231017, 1223.1082637377494, 440.8628606588051, 1189.3337465879017, 601.3065235198567, 691.3075883551809, 473.15775971511675, 514.9615046852019, 1045.9174385160945, 346.19123916250834, 407.81571923036773, 422.6274606462902, 759.5566192137337, 765.7555674891145, 994.718627178605, 1237.339666795449, 699.2536388866216, 1012.822189478801, 815.6311141467934, 305.38226792322155, 260.30030682948154, 84.25502004413451, 129.93086300809352, 129.92242952990088, 80.33167133746248, 85.82426215721651, 263.34736105117065, 133.17016734950965, 131.22542401198203, 13.635779795082424, 13.634150335071656, 135.5571916814357, 10.6649141895702, 135.7288779787785, 95.89770881784348, 12.213852468632046, 56.04805701208073, 150.01714088378688, 8.415404782592834, 6.6875985094922985, 6.685349467483842, 6.180449878172657, 5.934110942859615, 146.4309869985968, 147.02774967229442, 6.308745155495059, 88.56923565772415, 5.005722533835334, 21.304145138822047, 13.833466304569106, 167.08081604435924, 167.50046727301122, 78.92723562181683, 178.03071908842446, 185.94988308274824, 193.09926302331243, 114.64288756924981, 143.44131096783724, 158.16924077834472, 292.73091239862225, 93.43755980556764, 269.85188754626347, 304.27408679413514, 437.72948740403393, 701.4882954331666, 409.8946448586214, 551.1115778362549, 2188.301869149922, 2412.580524563695, 449.4557459844838, 588.1224126398697, 407.81571923036773, 299.4863008179051, 440.8628606588051, 1189.3337465879017, 1478.8327230522666, 18.857922154197745, 14.009789913528502, 14.012897943760956, 14.45832156883123, 14.012295136012773, 14.010349450907817, 13.227282563975733, 13.471535468773462, 12.436016755246547, 13.693483247798586, 15.14273380673152, 21.857873611082113, 13.130467696650625, 16.736137093225228, 13.01139710448069, 17.26978894906768, 11.193985914103681, 10.197912566779557, 10.2022800610357, 9.414362950012958, 9.412717138247922, 9.409187664418225, 9.284665857855828, 9.411701516281738, 7.500696409054504, 8.627124616484915, 8.628173353401758, 8.628385677812318, 8.626118840216517, 8.628098043955042, 71.12945104312844, 16.583306787925004, 11.76884485207057, 18.42535276185946, 11.703223306740833, 51.38152178879206, 66.50259600608345, 16.276436883394155, 50.152639184516715, 16.67027868506193, 14.88499243431652, 47.61246115968679, 38.957683402662525, 126.54211807798903, 29.207917449252108, 354.21278593961375, 43.87490550449294, 80.63125840812798, 111.22608806231437, 409.8946448586214, 60.90145969158196, 236.30127298560015, 546.0394687698565, 38.64438640530956, 155.20211032585138, 444.2305382400405, 176.97836568705927, 1045.9174385160945, 30.807898774296063, 163.16966035763727, 113.09039621143236, 440.4767496972693, 180.59691610586316, 301.8179849065101, 183.2839580354111, 443.1845511316186, 180.07725833186709, 298.69416023064315, 207.3641826211854, 544.0462598435694, 1075.2128628231017, 473.15775971511675, 304.27408679413514, 691.3075883551809, 1360.220819365217, 546.3036182570945, 416.3869635131367, 422.6274606462902, 13.580163913399582, 33.93565098862427, 8.61356042945225, 10.813495223623686, 8.240524969029646, 31.164610050186845, 8.941640362101277, 29.727183432355694, 11.870024520411889, 9.594286661242855, 16.79161255778178, 8.813562452586625, 8.928149045337193, 8.488776209432729, 9.919070979608643, 7.718923775573991, 7.719261605194481, 7.720273165641368, 7.718908132869747, 7.720817725216141, 7.719999987237598, 7.719108214533559, 8.163338195312722, 6.625859761879939, 8.814287681397415, 10.245398377154716, 7.264723345076578, 6.827691896190926, 5.81568514053752, 7.15183127862044, 18.525322139855973, 39.63388031800484, 12.533937403701747, 10.002513267448316, 22.49517695810656, 19.259142952336664, 16.43720214114783, 46.573648881543384, 46.8970229372939, 10.496307565239986, 21.04036011542034, 54.869266038846646, 16.159127076779676, 59.083848741958214, 48.60880170071501, 131.4312347141706, 69.68769745646475, 422.6274606462902, 75.80148881095715, 78.78045476502572, 220.97027936112679, 15.509326895257324, 321.38699165163735, 154.74052563970193, 1045.9174385160945, 42.64183377578354, 282.87642207149327, 279.51778758156104, 443.1845511316186, 39.94488774391697, 298.69416023064315, 207.28359570436933, 220.33728531938064, 156.9992196602576, 409.8946448586214, 102.04878433731702, 211.74006278255868, 109.83004089637342, 691.3075883551809, 546.0394687698565, 183.2839580354111, 327.8420003084989, 301.8179849065101, 444.2305382400405, 354.21278593961375, 180.07725833186709, 765.7555674891145, 152.94702657046656, 349.225827929798, 27.57713145559676, 17.31156011238485, 17.31097509818775, 17.31033543419758, 17.310357780357855, 17.311094484807338, 17.309255566493995, 17.30819494364819, 17.308831432850987, 17.308564435799386, 12.506305135325418, 12.506305135325418, 17.311800173159934, 17.31095345537477, 19.726850547885387, 64.566454802544, 20.93493460151786, 47.35422492470243, 18.550414003044455, 40.420264954893774, 21.681374870500086, 5.873069632886982, 5.871657971670043, 5.873011555505089, 6.685465985315387, 5.873146464663469, 5.872199710096617, 5.871860237465056, 4.812960620427136, 4.812960620427136, 19.675847902123753, 20.467182046240758, 21.592560037678872, 23.816972672245633, 21.18503470537979, 21.44230053950473, 33.1498436227265, 12.619633992618855, 21.306820194860975, 24.061978279585343, 84.13276035005303, 78.52609843971007, 50.37120975554011, 87.50628017063133, 61.33228318914414, 39.38058387220202, 232.8210341439474, 103.95882054499694, 430.60722917964216, 136.89297895586716, 180.07725833186709, 86.88046258124723, 43.463658562591306, 77.32931432295173, 2412.580524563695, 2188.301869149922, 45.47156272145914, 79.22859341907511, 354.4746910246472, 158.16924077834472, 657.5940842439753, 161.6984367567976, 1045.9174385160945, 99.89065976630526, 533.1399224660736, 227.287266053792, 1478.8327230522666, 330.4184709261342, 368.61375178455506, 765.7555674891145, 1189.3337465879017, 11.216872441196214, 9.153018633158123, 11.866814653341518, 9.125149159993164, 9.12799009344923, 9.694183433225362, 9.039779618581425, 7.108730843699626, 7.816191302909434, 8.95665820318975, 6.780200068274485, 7.063560943124857, 7.065608039430743, 6.064040071681765, 6.033296116158192, 6.3161314263099255, 5.75314179146678, 5.0670553938392615, 5.069053235286655, 5.064584714886157, 5.059200890432708, 5.065028921332651, 5.065028921332651, 5.062282422551481, 5.062282422551481, 5.062282422551481, 5.062282422551481, 5.054560726305038, 10.78267607400533, 5.0617855084670555, 8.12881850194097, 5.943331474809089, 6.619386511688332, 6.421061063254473, 9.450049945311758, 11.283345983095797, 12.66704570142014, 7.480697564902368, 7.740117656275075, 70.47432343119513, 49.3751167514349, 12.340436388836384, 69.68769745646475, 43.9026929855536, 54.869266038846646, 17.805051112238004, 64.52082854366421, 129.2988171034193, 55.062932379694516, 31.895308327973353, 34.62439214463326, 38.088506518885, 80.23144689971033, 74.68377733731546, 61.18542127334127, 69.30417263697532, 1045.9174385160945, 422.6274606462902, 473.15775971511675, 250.62684027713587, 84.24881232937277, 156.28339877235916, 180.07725833186709, 30.250668994441426, 409.8946448586214, 30.18500450912844, 80.63125840812798, 443.1845511316186, 444.2305382400405, 321.38699165163735, 368.61375178455506, 261.5917902076389, 546.0394687698565, 2188.301869149922], \"Category\": [\"Default\", \"Default\", \"Default\", \"Default\", \"Default\", \"Default\", \"Default\", \"Default\", \"Default\", \"Default\", \"Default\", \"Default\", \"Default\", \"Default\", \"Default\", \"Default\", \"Default\", \"Default\", \"Default\", \"Default\", \"Default\", \"Default\", \"Default\", \"Default\", \"Default\", \"Default\", \"Default\", \"Default\", \"Default\", \"Default\", \"Topic1\", \"Topic1\", \"Topic1\", \"Topic1\", \"Topic1\", \"Topic1\", \"Topic1\", \"Topic1\", \"Topic1\", \"Topic1\", \"Topic1\", \"Topic1\", \"Topic1\", \"Topic1\", \"Topic1\", \"Topic1\", \"Topic1\", \"Topic1\", \"Topic1\", \"Topic1\", \"Topic1\", \"Topic1\", \"Topic1\", \"Topic1\", \"Topic1\", \"Topic1\", \"Topic1\", \"Topic1\", \"Topic1\", \"Topic1\", \"Topic1\", \"Topic1\", \"Topic1\", \"Topic1\", \"Topic1\", \"Topic1\", \"Topic1\", \"Topic1\", \"Topic1\", \"Topic1\", \"Topic1\", \"Topic1\", \"Topic1\", \"Topic1\", \"Topic1\", \"Topic1\", \"Topic1\", \"Topic1\", \"Topic1\", \"Topic1\", \"Topic1\", \"Topic1\", \"Topic1\", \"Topic1\", \"Topic1\", \"Topic1\", \"Topic1\", \"Topic1\", \"Topic1\", \"Topic1\", \"Topic1\", \"Topic1\", \"Topic1\", \"Topic1\", \"Topic1\", \"Topic1\", \"Topic1\", \"Topic1\", \"Topic1\", \"Topic1\", \"Topic1\", \"Topic1\", \"Topic1\", \"Topic1\", \"Topic2\", \"Topic2\", \"Topic2\", \"Topic2\", \"Topic2\", \"Topic2\", \"Topic2\", \"Topic2\", \"Topic2\", \"Topic2\", \"Topic2\", \"Topic2\", \"Topic2\", \"Topic2\", \"Topic2\", \"Topic2\", \"Topic2\", \"Topic2\", \"Topic2\", \"Topic2\", \"Topic2\", \"Topic2\", \"Topic2\", \"Topic2\", \"Topic2\", \"Topic2\", \"Topic2\", \"Topic2\", \"Topic2\", \"Topic2\", \"Topic2\", \"Topic2\", \"Topic2\", \"Topic2\", \"Topic2\", \"Topic2\", \"Topic2\", \"Topic2\", \"Topic2\", \"Topic2\", \"Topic2\", \"Topic2\", \"Topic2\", \"Topic2\", \"Topic2\", \"Topic2\", \"Topic2\", \"Topic2\", \"Topic2\", \"Topic2\", \"Topic2\", \"Topic2\", \"Topic2\", \"Topic2\", \"Topic2\", \"Topic2\", \"Topic2\", \"Topic2\", \"Topic2\", \"Topic2\", \"Topic2\", \"Topic2\", \"Topic2\", \"Topic2\", \"Topic2\", \"Topic2\", \"Topic2\", \"Topic2\", \"Topic2\", \"Topic2\", \"Topic2\", \"Topic2\", \"Topic2\", \"Topic3\", \"Topic3\", \"Topic3\", \"Topic3\", \"Topic3\", \"Topic3\", \"Topic3\", \"Topic3\", \"Topic3\", \"Topic3\", \"Topic3\", \"Topic3\", \"Topic3\", \"Topic3\", \"Topic3\", \"Topic3\", \"Topic3\", \"Topic3\", \"Topic3\", \"Topic3\", \"Topic3\", \"Topic3\", \"Topic3\", \"Topic3\", \"Topic3\", \"Topic3\", \"Topic3\", \"Topic3\", \"Topic3\", \"Topic3\", \"Topic3\", \"Topic3\", \"Topic3\", \"Topic3\", \"Topic3\", \"Topic3\", \"Topic3\", \"Topic3\", \"Topic3\", \"Topic3\", \"Topic3\", \"Topic3\", \"Topic3\", \"Topic3\", \"Topic3\", \"Topic3\", \"Topic3\", \"Topic3\", \"Topic3\", \"Topic3\", \"Topic3\", \"Topic3\", \"Topic3\", \"Topic3\", \"Topic3\", \"Topic3\", \"Topic3\", \"Topic4\", \"Topic4\", \"Topic4\", \"Topic4\", \"Topic4\", \"Topic4\", \"Topic4\", \"Topic4\", \"Topic4\", \"Topic4\", \"Topic4\", \"Topic4\", \"Topic4\", \"Topic4\", \"Topic4\", \"Topic4\", \"Topic4\", \"Topic4\", \"Topic4\", \"Topic4\", \"Topic4\", \"Topic4\", \"Topic4\", \"Topic4\", \"Topic4\", \"Topic4\", \"Topic4\", \"Topic4\", \"Topic4\", \"Topic4\", \"Topic4\", \"Topic4\", \"Topic4\", \"Topic4\", \"Topic4\", \"Topic4\", \"Topic4\", \"Topic4\", \"Topic4\", \"Topic4\", \"Topic4\", \"Topic4\", \"Topic4\", \"Topic4\", \"Topic4\", \"Topic4\", \"Topic4\", \"Topic4\", \"Topic4\", \"Topic4\", \"Topic4\", \"Topic4\", \"Topic4\", \"Topic4\", \"Topic4\", \"Topic4\", \"Topic4\", \"Topic4\", \"Topic4\", \"Topic4\", \"Topic4\", \"Topic4\", \"Topic4\", \"Topic4\", \"Topic4\", \"Topic4\", \"Topic4\", \"Topic4\", \"Topic4\", \"Topic4\", \"Topic4\", \"Topic4\", \"Topic4\", \"Topic4\", \"Topic4\", \"Topic4\", \"Topic4\", \"Topic4\", \"Topic5\", \"Topic5\", \"Topic5\", \"Topic5\", \"Topic5\", \"Topic5\", \"Topic5\", \"Topic5\", \"Topic5\", \"Topic5\", \"Topic5\", \"Topic5\", \"Topic5\", \"Topic5\", \"Topic5\", \"Topic5\", \"Topic5\", \"Topic5\", \"Topic5\", \"Topic5\", \"Topic5\", \"Topic5\", \"Topic5\", \"Topic5\", \"Topic5\", \"Topic5\", \"Topic5\", \"Topic5\", \"Topic5\", \"Topic5\", \"Topic5\", \"Topic5\", \"Topic5\", \"Topic5\", \"Topic5\", \"Topic5\", \"Topic5\", \"Topic5\", \"Topic5\", \"Topic5\", \"Topic5\", \"Topic5\", \"Topic5\", \"Topic5\", \"Topic5\", \"Topic5\", \"Topic5\", \"Topic5\", \"Topic5\", \"Topic5\", \"Topic5\", \"Topic5\", \"Topic5\", \"Topic5\", \"Topic5\", \"Topic5\", \"Topic5\", \"Topic5\", \"Topic5\", \"Topic5\", \"Topic5\", \"Topic5\", \"Topic5\", \"Topic5\", \"Topic5\", \"Topic5\", \"Topic5\", \"Topic5\", \"Topic5\", \"Topic5\", \"Topic5\", \"Topic5\", \"Topic5\", \"Topic5\", \"Topic5\", \"Topic5\", \"Topic5\", \"Topic5\", \"Topic5\", \"Topic6\", \"Topic6\", \"Topic6\", \"Topic6\", \"Topic6\", \"Topic6\", \"Topic6\", \"Topic6\", \"Topic6\", \"Topic6\", \"Topic6\", \"Topic6\", \"Topic6\", \"Topic6\", \"Topic6\", \"Topic6\", \"Topic6\", \"Topic6\", \"Topic6\", \"Topic6\", \"Topic6\", \"Topic6\", \"Topic6\", \"Topic6\", \"Topic6\", \"Topic6\", \"Topic6\", \"Topic6\", \"Topic6\", \"Topic6\", \"Topic6\", \"Topic6\", \"Topic6\", \"Topic6\", \"Topic6\", \"Topic6\", \"Topic6\", \"Topic6\", \"Topic6\", \"Topic6\", \"Topic6\", \"Topic6\", \"Topic6\", \"Topic6\", \"Topic6\", \"Topic6\", \"Topic6\", \"Topic6\", \"Topic6\", \"Topic6\", \"Topic6\", \"Topic6\", \"Topic6\", \"Topic6\", \"Topic6\", \"Topic6\", \"Topic6\", \"Topic6\", \"Topic6\", \"Topic6\", \"Topic6\", \"Topic6\", \"Topic6\", \"Topic6\", \"Topic6\", \"Topic6\", \"Topic6\", \"Topic6\", \"Topic6\", \"Topic6\", \"Topic6\", \"Topic7\", \"Topic7\", \"Topic7\", \"Topic7\", \"Topic7\", \"Topic7\", \"Topic7\", \"Topic7\", \"Topic7\", \"Topic7\", \"Topic7\", \"Topic7\", \"Topic7\", \"Topic7\", \"Topic7\", \"Topic7\", \"Topic7\", \"Topic7\", \"Topic7\", \"Topic7\", \"Topic7\", \"Topic7\", \"Topic7\", \"Topic7\", \"Topic7\", \"Topic7\", \"Topic7\", \"Topic7\", \"Topic7\", \"Topic7\", \"Topic7\", \"Topic7\", \"Topic7\", \"Topic7\", \"Topic7\", \"Topic7\", \"Topic7\", \"Topic7\", \"Topic7\", \"Topic7\", \"Topic7\", \"Topic7\", \"Topic7\", \"Topic7\", \"Topic7\", \"Topic7\", \"Topic7\", \"Topic7\", \"Topic7\", \"Topic7\", \"Topic7\", \"Topic7\", \"Topic7\", \"Topic7\", \"Topic7\", \"Topic7\", \"Topic7\", \"Topic7\", \"Topic7\", \"Topic7\", \"Topic7\", \"Topic7\", \"Topic7\", \"Topic7\", \"Topic7\", \"Topic7\", \"Topic7\", \"Topic7\", \"Topic7\", \"Topic7\", \"Topic7\", \"Topic7\", \"Topic7\", \"Topic7\"], \"logprob\": [30.0, 29.0, 28.0, 27.0, 26.0, 25.0, 24.0, 23.0, 22.0, 21.0, 20.0, 19.0, 18.0, 17.0, 16.0, 15.0, 14.0, 13.0, 12.0, 11.0, 10.0, 9.0, 8.0, 7.0, 6.0, 5.0, 4.0, 3.0, 2.0, 1.0, -6.3077, -6.275, -5.9781, -7.3789, -6.9619, -7.7425, -6.6624, -6.385, -7.2492, -7.4256, -6.7233, -4.7516, -7.8347, -7.6417, -7.6747, -7.2729, -5.4135, -7.7458, -4.5292, -5.859, -7.8168, -8.1175, -7.9302, -7.3008, -7.9735, -7.9736, -7.9328, -7.4837, -7.5007, -7.0934, -5.6565, -5.8277, -6.5647, -6.4806, -5.9626, -4.9174, -5.7807, -7.0958, -4.9232, -5.1066, -6.8808, -4.9656, -5.6072, -5.7132, -6.4902, -6.2362, -4.2017, -6.3651, -4.0534, -4.4424, -5.2476, -4.2958, -4.7188, -4.5813, -4.8819, -4.5792, -4.733, -4.1636, -4.8692, -5.1309, -4.342, -4.9072, -4.8106, -4.0124, -4.4559, -4.7767, -4.3947, -5.2241, -4.6699, -5.1034, -4.3742, -4.6172, -4.9293, -5.024, -5.9721, -6.4808, -6.5165, -6.5572, -6.3183, -6.3432, -6.6804, -6.6452, -6.6808, -6.6594, -6.6595, -6.6172, -6.5326, -6.7039, -6.6817, -6.6818, -6.6819, -6.682, -6.6602, -6.6902, -6.4909, -6.6822, -6.6603, -6.6392, -6.6825, -6.2812, -6.6829, -6.6692, -6.6197, -6.645, -4.4754, -3.8378, -6.2727, -6.2721, -5.196, -5.6926, -4.2505, -3.3925, -4.4355, -3.983, -4.4378, -4.8399, -3.8792, -5.1072, -5.2821, -5.5273, -6.0243, -6.0553, -5.5349, -5.4237, -4.4086, -4.4727, -5.8515, -5.8995, -4.6664, -4.6133, -5.2522, -4.6445, -5.0846, -5.0564, -5.2837, -5.2421, -4.9041, -5.4818, -5.4306, -5.4762, -5.2988, -5.3015, -5.3279, -5.2972, -5.3833, -5.3463, -5.4223, -3.7235, -3.886, -5.0148, -4.5827, -4.5855, -5.0706, -5.0054, -3.8896, -4.5756, -4.5965, -6.8709, -6.8715, -4.5771, -7.1303, -4.5878, -4.9525, -7.0205, -5.4975, -4.5147, -7.3958, -7.6467, -7.6474, -7.7319, -7.7803, -4.5771, -4.5761, -7.7267, -5.0902, -7.9828, -6.5378, -6.9738, -4.5344, -4.5461, -5.2831, -4.563, -4.5915, -4.5622, -5.0559, -4.8795, -4.8221, -4.3086, -5.2964, -4.445, -4.3651, -4.2577, -4.1065, -4.395, -4.2889, -3.7747, -3.7563, -4.4557, -4.4215, -4.5374, -4.6363, -4.5686, -4.4889, -4.4725, -6.329, -6.6389, -6.6412, -6.611, -6.6431, -6.6433, -6.7029, -6.6863, -6.7673, -6.6714, -6.5719, -6.2086, -6.7184, -6.4761, -6.7301, -6.4495, -6.8868, -6.983, -6.9843, -7.0678, -7.0685, -7.0691, -7.083, -7.0699, -7.2974, -7.1611, -7.1613, -7.1614, -7.1619, -7.162, -5.0627, -6.5087, -6.8516, -6.4176, -6.8674, -5.4749, -5.2845, -6.5713, -5.5723, -6.5626, -6.6702, -5.6978, -5.8772, -4.937, -6.1582, -4.2872, -5.8766, -5.5079, -5.2986, -4.4434, -5.7084, -4.831, -4.2929, -6.011, -5.1512, -4.5339, -5.1125, -4.072, -6.1735, -5.2144, -5.4273, -4.6804, -5.2113, -4.9478, -5.2101, -4.771, -5.251, -5.0809, -5.2651, -4.8527, -4.7119, -5.0159, -5.2151, -4.9757, -4.828, -5.1109, -5.2744, -5.3478, -6.4537, -5.5418, -6.9237, -6.6983, -6.9745, -5.6446, -6.8993, -5.6986, -6.6169, -6.831, -6.2731, -6.926, -6.915, -6.967, -6.8123, -7.0638, -7.0652, -7.0651, -7.0654, -7.0652, -7.0655, -7.0662, -7.0104, -7.2229, -6.9457, -6.8001, -7.1441, -7.2088, -7.371, -7.1643, -6.2272, -5.5082, -6.6206, -6.8425, -6.0831, -6.2531, -6.406, -5.5361, -5.5374, -6.8184, -6.2639, -5.5264, -6.4815, -5.4727, -5.6441, -4.9582, -5.4356, -4.1494, -5.3838, -5.3704, -4.6868, -6.5272, -4.5202, -5.0261, -3.819, -5.8768, -4.6903, -4.7059, -4.4651, -5.9273, -4.8818, -5.0857, -5.0971, -5.2668, -4.8253, -5.4778, -5.1558, -5.4566, -4.8314, -4.9337, -5.3822, -5.2935, -5.3062, -5.2786, -5.3152, -5.4389, -5.4095, -5.4632, -5.4625, -5.175, -5.645, -5.645, -5.6452, -5.6453, -5.6464, -5.6467, -5.6474, -5.6474, -5.6482, -5.9735, -5.9735, -5.6499, -5.6505, -5.5445, -4.3631, -5.4926, -4.7058, -5.6453, -4.8773, -5.5191, -6.833, -6.8335, -6.8336, -6.7042, -6.834, -6.8343, -6.8349, -7.0472, -7.0472, -5.6492, -5.6136, -5.5813, -5.4998, -5.645, -5.6462, -5.2982, -6.1617, -5.748, -5.6492, -4.6951, -4.7752, -5.1041, -4.7595, -5.0214, -5.2913, -4.4155, -4.8887, -4.3881, -4.8524, -4.7668, -5.086, -5.3281, -5.1403, -4.0242, -4.0931, -5.3465, -5.1791, -4.7605, -5.0042, -4.6229, -5.0479, -4.6478, -5.1715, -4.8032, -5.0048, -4.7243, -5.0183, -5.0509, -4.9873, -5.1028, -5.8479, -6.0711, -5.814, -6.0863, -6.0876, -6.0313, -6.1079, -6.3549, -6.2624, -6.1319, -6.4137, -6.3769, -6.377, -6.5383, -6.5602, -6.5146, -6.6111, -6.7476, -6.7475, -6.749, -6.7506, -6.7498, -6.7498, -6.7504, -6.7504, -6.7504, -6.7504, -6.7523, -5.995, -6.7517, -6.2824, -6.5929, -6.4916, -6.5264, -6.1648, -6.0307, -5.9332, -6.4041, -6.3884, -4.5711, -5.0602, -6.0884, -4.8996, -5.2771, -5.1417, -5.8784, -5.0688, -4.8026, -5.2941, -5.6367, -5.613, -5.6189, -5.3122, -5.3936, -5.4757, -5.4535, -4.5062, -4.8292, -4.8699, -5.1306, -5.467, -5.329, -5.3253, -5.7836, -5.1709, -5.7907, -5.5851, -5.3182, -5.4554, -5.4989, -5.5231, -5.5615, -5.5767, -5.6026], \"loglift\": [30.0, 29.0, 28.0, 27.0, 26.0, 25.0, 24.0, 23.0, 22.0, 21.0, 20.0, 19.0, 18.0, 17.0, 16.0, 15.0, 14.0, 13.0, 12.0, 11.0, 10.0, 9.0, 8.0, 7.0, 6.0, 5.0, 4.0, 3.0, 2.0, 1.0, 0.8966, 0.8901, 0.8897, 0.8826, 0.8817, 0.88, 0.8795, 0.8785, 0.8784, 0.8762, 0.8718, 0.8717, 0.8716, 0.871, 0.8699, 0.8686, 0.8683, 0.8682, 0.8646, 0.8618, 0.8617, 0.8614, 0.8578, 0.8568, 0.8567, 0.8565, 0.8555, 0.8554, 0.8548, 0.8546, 0.8474, 0.8463, 0.8517, 0.8506, 0.8398, 0.8101, 0.8267, 0.8511, 0.8058, 0.8054, 0.8458, 0.7726, 0.7979, 0.7989, 0.83, 0.8091, 0.6484, 0.8066, 0.5965, 0.6242, 0.6864, 0.5723, 0.596, 0.5565, 0.5922, 0.5235, 0.549, 0.4359, 0.5493, 0.5744, 0.3194, 0.4864, 0.4068, 0.0672, 0.2335, 0.353, 0.1605, 0.5149, 0.1204, 0.3884, -0.3921, -0.1457, 0.0491, 0.1966, 1.1686, 1.164, 1.1633, 1.1629, 1.1626, 1.1625, 1.162, 1.1618, 1.1616, 1.161, 1.161, 1.1609, 1.1608, 1.1608, 1.1605, 1.1605, 1.1603, 1.1602, 1.1602, 1.1602, 1.1601, 1.1601, 1.1601, 1.1597, 1.1596, 1.1596, 1.1593, 1.159, 1.1581, 1.1466, 1.1407, 1.0974, 1.1337, 1.1278, 0.9878, 1.0226, 0.7971, 0.5896, 0.6772, 0.4886, 0.5405, 0.6187, 0.2004, 0.5897, 0.6328, 0.7261, 0.9097, 0.9215, 0.7052, 0.6447, 0.1466, 0.1268, 0.7938, 0.8194, 0.1239, 0.0481, 0.4296, 0.0449, 0.2868, 0.1756, 0.3274, 0.2844, -0.0862, 0.4417, 0.3291, 0.2479, -0.161, -0.1718, -0.4598, -0.6474, -0.1628, -0.4963, -0.3557, 2.3255, 2.3227, 2.3219, 2.3209, 2.3182, 2.3138, 2.3129, 2.3075, 2.3033, 2.2972, 2.2869, 2.2865, 2.284, 2.2733, 2.2721, 2.2548, 2.2475, 2.2468, 2.2452, 2.2447, 2.2236, 2.2232, 2.2172, 2.2096, 2.2069, 2.2038, 2.2019, 2.1965, 2.1771, 2.1739, 2.1697, 2.1177, 2.1035, 2.1189, 2.0256, 1.9536, 1.9452, 1.9728, 1.9251, 1.8848, 1.7827, 1.9369, 1.7277, 1.6875, 1.4313, 1.1109, 1.3596, 1.1697, 0.305, 0.2258, 1.2068, 0.9721, 1.2224, 1.4322, 1.1132, 0.2005, -0.0009, 2.5046, 2.4919, 2.4894, 2.4883, 2.4875, 2.4875, 2.4854, 2.4837, 2.4826, 2.4823, 2.4811, 2.4774, 2.4772, 2.4769, 2.4746, 2.4721, 2.4684, 2.4654, 2.4636, 2.4605, 2.46, 2.4598, 2.4592, 2.4587, 2.4581, 2.4546, 2.4542, 2.4541, 2.4539, 2.4535, 2.4433, 2.4535, 2.4535, 2.4392, 2.4433, 2.3564, 2.2888, 2.4095, 2.2831, 2.3944, 2.4, 2.2097, 2.2309, 1.993, 2.2379, 1.6135, 2.1126, 1.8727, 1.7604, 1.3112, 1.9529, 1.4745, 1.175, 2.1052, 1.5746, 1.1403, 1.4821, 0.7459, 2.1693, 1.4614, 1.6151, 1.0023, 1.363, 1.1129, 1.3494, 0.9056, 1.3262, 0.9902, 1.171, 0.6189, 0.0784, 0.5952, 0.8376, 0.2563, -0.2728, 0.3565, 0.4645, 0.3763, 2.7083, 2.7042, 2.6935, 2.6914, 2.687, 2.6867, 2.6805, 2.6799, 2.6796, 2.6784, 2.6765, 2.6682, 2.6663, 2.6648, 2.6638, 2.6631, 2.6616, 2.6616, 2.6615, 2.6614, 2.6613, 2.6607, 2.6605, 2.6567, 2.6485, 2.6436, 2.6435, 2.6408, 2.639, 2.6389, 2.6242, 2.5826, 2.6215, 2.6252, 2.5742, 2.5595, 2.565, 2.3934, 2.3852, 2.6011, 2.4603, 2.2392, 2.5066, 2.2189, 2.2426, 1.9338, 2.091, 1.5747, 2.0587, 2.0335, 1.6858, 2.5019, 1.4777, 1.7027, 0.9989, 2.141, 1.4353, 1.4316, 1.2114, 2.1558, 1.1893, 1.3507, 1.2783, 1.4475, 0.9294, 1.6673, 1.2594, 1.615, 0.4006, 0.5342, 1.1773, 0.6845, 0.7546, 0.3956, 0.5855, 1.1383, -0.2798, 1.2773, 0.4524, 3.2786, 3.2742, 3.2742, 3.2741, 3.274, 3.2728, 3.2727, 3.272, 3.272, 3.2712, 3.2708, 3.2708, 3.2693, 3.2687, 3.2441, 3.2397, 3.2365, 3.2071, 3.2048, 3.1939, 3.175, 3.1672, 3.1669, 3.1666, 3.1664, 3.1661, 3.1661, 3.1655, 3.1521, 3.1521, 3.142, 3.1381, 3.1169, 3.1004, 3.0723, 3.059, 2.9714, 3.0736, 2.9635, 2.9408, 2.6431, 2.6319, 2.747, 2.5393, 2.6329, 2.806, 1.9048, 2.2379, 1.3173, 1.9989, 1.8104, 2.22, 2.6705, 2.2821, -0.0421, -0.0134, 2.607, 2.2191, 1.1394, 1.7027, 0.6591, 1.6369, 0.1701, 1.995, 0.6886, 1.3395, -0.2527, 0.9519, 0.8099, 0.1424, -0.4134, 3.5053, 3.4853, 3.4829, 3.4733, 3.4716, 3.4678, 3.461, 3.4543, 3.4519, 3.4463, 3.4429, 3.4388, 3.4384, 3.4299, 3.413, 3.4129, 3.4097, 3.4002, 3.4, 3.3993, 3.3987, 3.3984, 3.3984, 3.3984, 3.3984, 3.3984, 3.3984, 3.398, 3.3977, 3.3971, 3.3927, 3.3954, 3.389, 3.3846, 3.3597, 3.3165, 3.2983, 3.3541, 3.3357, 2.9442, 2.8109, 3.1693, 2.627, 2.7115, 2.6239, 3.0127, 2.5347, 2.1058, 2.468, 2.6714, 2.613, 2.5117, 2.0734, 2.0637, 2.1809, 2.0786, 0.3118, 0.8949, 0.7412, 1.116, 1.8698, 1.3899, 1.2519, 2.5775, 0.5838, 2.5725, 1.7955, 0.3584, 0.2188, 0.499, 0.3377, 0.6423, -0.1089, -1.5229]}, \"token.table\": {\"Topic\": [1, 2, 3, 4, 5, 6, 7, 1, 2, 3, 4, 5, 6, 7, 1, 2, 3, 5, 6, 1, 2, 4, 1, 1, 2, 4, 1, 2, 1, 1, 2, 3, 4, 5, 6, 7, 1, 2, 3, 4, 5, 6, 7, 1, 2, 3, 4, 5, 6, 7, 1, 2, 3, 4, 5, 6, 7, 1, 2, 3, 4, 5, 6, 7, 1, 2, 3, 4, 1, 2, 3, 4, 1, 2, 3, 4, 6, 1, 2, 4, 5, 1, 2, 3, 4, 5, 7, 1, 2, 4, 5, 1, 2, 3, 4, 5, 6, 7, 1, 2, 3, 4, 5, 1, 1, 2, 1, 2, 3, 4, 5, 1, 2, 1, 2, 3, 4, 5, 1, 2, 4, 1, 2, 4, 1, 2, 4, 2, 6, 1, 2, 4, 1, 2, 3, 4, 5, 1, 2, 1, 2, 1, 2, 4, 1, 2, 1, 1, 2, 3, 4, 1, 2, 3, 4, 5, 6, 7, 1, 2, 3, 4, 5, 6, 7, 1, 2, 3, 4, 5, 6, 7, 7, 1, 2, 4, 5, 7, 1, 2, 3, 4, 6, 4, 1, 2, 3, 4, 5, 6, 7, 1, 2, 3, 4, 6, 7, 6, 7, 7, 2, 1, 2, 3, 7, 1, 2, 2, 4, 5, 7, 1, 2, 3, 4, 5, 7, 1, 2, 3, 4, 5, 6, 7, 1, 4, 1, 4, 2, 1, 2, 4, 5, 7, 1, 2, 3, 4, 6, 1, 4, 7, 1, 2, 3, 4, 5, 6, 1, 2, 3, 4, 5, 6, 1, 2, 5, 7, 1, 2, 4, 5, 7, 4, 1, 2, 3, 4, 5, 6, 4, 1, 2, 3, 4, 5, 6, 7, 1, 2, 4, 5, 1, 2, 3, 4, 5, 6, 7, 1, 2, 5, 6, 5, 1, 2, 3, 4, 5, 7, 1, 2, 6, 1, 2, 3, 6, 4, 6, 2, 7, 1, 2, 3, 4, 5, 7, 1, 2, 3, 4, 5, 6, 7, 4, 5, 4, 1, 2, 3, 1, 2, 3, 4, 5, 1, 2, 3, 4, 5, 6, 7, 1, 2, 3, 4, 5, 6, 3, 1, 2, 3, 4, 5, 6, 7, 1, 2, 3, 4, 5, 6, 4, 5, 7, 6, 1, 2, 3, 4, 5, 7, 7, 1, 2, 1, 6, 1, 2, 3, 5, 6, 1, 2, 5, 1, 2, 4, 5, 6, 1, 2, 4, 5, 7, 1, 2, 3, 5, 7, 2, 1, 2, 4, 5, 7, 5, 3, 7, 4, 6, 1, 2, 4, 5, 6, 7, 5, 1, 2, 3, 5, 1, 2, 3, 4, 5, 7, 1, 2, 3, 4, 5, 6, 7, 1, 2, 4, 5, 7, 5, 1, 2, 4, 5, 7, 6, 1, 1, 2, 3, 4, 6, 7, 4, 1, 4, 5, 2, 1, 2, 3, 4, 5, 6, 7, 7, 4, 5, 2, 7, 6, 1, 2, 3, 1, 2, 3, 1, 2, 4, 5, 6, 7, 1, 2, 3, 4, 5, 6, 7, 7, 2, 3, 6, 1, 2, 3, 4, 5, 2, 4, 5, 1, 2, 3, 4, 5, 6, 7, 2, 1, 2, 1, 4, 5, 7, 1, 2, 6, 4, 1, 2, 3, 1, 2, 1, 5, 7, 1, 2, 3, 4, 5, 1, 2, 4, 5, 6, 1, 2, 3, 4, 5, 6, 7, 7, 6, 6, 1, 2, 4, 5, 7, 7, 1, 2, 3, 4, 5, 6, 1, 2, 3, 4, 5, 1, 2, 3, 1, 2, 1, 2, 3, 4, 5, 6, 1, 2, 3, 4, 5, 6, 1, 2, 4, 5, 7, 1, 2, 5, 6, 1, 2, 5, 1, 2, 3, 4, 5, 6, 7, 5, 1, 2, 3, 4, 6, 1, 2, 3, 4, 5, 6, 7, 1, 2, 3, 4, 7, 1, 2, 3, 5, 7, 5, 1, 2, 3, 4, 5, 6, 7, 7, 1, 7, 1, 2, 3, 4, 1, 2, 4, 5, 7, 1, 2, 6, 1, 6, 4, 1, 2, 4, 5, 5, 6, 5, 5, 1, 2, 3, 4, 5, 7, 1, 2, 7, 1, 2, 3, 1, 2, 3, 2, 7, 5, 5, 1, 2, 6, 7, 4, 1, 2, 3, 4, 5, 6, 7, 2, 1, 2, 3, 4, 1, 3, 4, 2, 1, 7, 5, 1, 2, 3, 4, 5, 6, 7, 1, 2, 3, 4, 6, 2, 7, 5, 1, 2, 3, 4, 5, 7, 1, 2, 4, 7, 2, 7, 7, 1, 3, 6, 7, 2, 1, 2, 3, 4, 5, 1, 2, 3, 4, 6, 1, 1, 2, 2, 5, 7, 1, 2, 3, 4, 5, 1, 2, 6, 2, 1, 2, 1, 2, 5, 7, 1, 2, 3, 4, 1, 2, 3, 4, 5, 6, 7, 1, 2, 4, 1, 2, 4, 5, 7, 1, 2, 3, 4, 5, 7, 1, 2, 4, 7, 1, 2, 3, 6, 6, 1, 4, 6, 1, 2, 3, 4, 1, 2, 4, 5, 6, 7, 1, 2, 4, 5, 1, 2, 3, 4, 5, 6, 1, 2, 3, 4, 5, 6, 7, 5, 5, 6, 1, 2, 3, 4, 5, 6, 7, 7, 1, 2, 3, 4, 5, 7, 2, 7, 6, 2, 1, 2, 4, 5, 6, 7, 1, 2, 3, 4, 5, 6, 7, 1, 2, 3, 4, 5, 6, 7, 4, 2, 4, 3, 1, 2, 3, 5, 6, 7, 5, 2, 1, 2, 3, 4, 5, 6, 1, 2, 3, 4, 5, 3, 1, 2, 3, 4, 5, 6, 7, 1, 2, 3, 4, 4, 7, 1, 2, 4, 6, 1, 2, 6, 1, 6, 1, 5, 6, 1, 2, 3, 4, 5, 7, 1, 2, 3, 4, 5, 6, 7, 2, 5, 1, 2, 5, 7, 7, 4, 4, 2, 2, 5, 7, 1, 2, 4, 5, 7, 7, 6, 1, 2, 3, 4, 5, 6, 7, 4, 5, 6, 1, 2, 3, 4, 5, 6, 1, 5, 1, 2, 3, 4, 5, 7, 1, 2, 4, 5, 1, 1, 2, 3, 4, 6, 1, 3, 6, 5, 1, 2, 4, 7, 1, 2, 3, 4, 5, 6, 7, 1, 2, 3, 4, 5, 6, 7, 1, 2, 4, 5, 7, 1, 2, 3, 4, 5, 6, 7, 1, 2, 3, 4, 5, 6, 7, 2, 5, 1, 2, 4, 5, 7, 1, 2, 3, 4, 5, 7, 4, 7, 6, 1, 2, 3, 4, 5, 6, 1, 2, 4, 1, 2, 3, 5, 6, 1, 2, 3, 4, 5, 6, 7, 1, 2, 1, 2, 4, 5, 6, 7, 1, 2, 3, 4, 5, 6, 7, 1, 2, 3, 4, 5, 1, 2, 1, 2, 4, 5, 7, 4, 7, 1, 2, 3, 6, 1, 2, 4, 5, 1, 2, 4, 5, 3, 1, 2, 3, 4, 1, 4, 1, 2, 3, 5, 7, 1, 2, 5, 4, 2, 5, 5, 5, 1, 2, 3, 4, 5, 6, 7, 1, 2, 4, 5, 6, 3, 1, 2, 1, 4, 1, 2, 3, 4, 5, 7, 2, 7, 5, 1, 2, 4, 7, 4, 1, 2, 3, 1, 2, 3, 4, 5, 6, 7, 1, 2, 4, 5, 6, 7, 1, 2, 3, 4, 5, 6, 2, 4, 4, 5, 6, 5, 1, 2, 6, 1, 2, 3, 4, 5, 6, 7, 7, 2, 1, 2, 3, 4, 5, 6, 1, 2, 3, 2, 1, 2, 3, 4, 5, 7, 1, 2, 3, 4, 5, 6, 7, 1, 2, 4, 5, 7, 2, 1, 2, 3, 4, 6, 1, 2, 3, 4, 5, 6, 1, 2, 3, 4, 5, 6, 4, 3, 6, 1, 2, 3, 4, 5, 6, 1, 6, 2, 4, 4, 1, 2, 3, 7, 1, 2, 3, 4, 5, 7, 1, 2, 3, 3, 3, 3, 7, 1, 2, 3, 4, 5, 6, 1, 2, 3, 4, 6, 2, 7, 4, 2, 1, 2, 3, 4, 5, 7, 1, 2, 3, 4, 5, 6, 7, 1, 2, 3, 4, 6, 5, 7, 5, 7, 1, 2, 3, 7, 2, 1, 2, 4, 5, 7, 1, 2, 4, 5, 7, 1, 2, 3, 5, 4, 1, 2, 4, 5, 2, 1, 2, 3, 4, 6, 1, 2, 3, 4, 5, 7, 1, 2, 3, 4, 5, 6, 7, 1, 2, 4, 5, 6, 7, 1, 2, 3, 1, 2, 4, 7, 7, 7, 1, 2, 5, 1, 2, 3, 4, 5, 6, 7, 1, 2, 4, 5, 1, 2, 3, 4, 5, 6, 6, 6, 4, 5, 7, 7], \"Freq\": [0.41982367192755476, 0.5264633746899016, 0.002245046373944143, 0.011225231869720716, 0.01459280143063693, 0.02132794055246936, 0.005612615934860358, 0.1599964619999782, 0.6808871991878771, 0.10826828255637622, 0.01323279009022376, 0.004811923669172276, 0.027668561097740588, 0.004811923669172276, 0.014868326042405821, 0.9600690530239187, 0.0021240465774865457, 0.012744279464919274, 0.008496186309946183, 0.934076876080114, 0.05676710296619478, 0.005160645724199525, 0.9197953975089306, 0.9533445715027873, 0.03287395074147542, 0.03287395074147542, 0.9684789891736093, 0.026175107815502956, 0.9535765170862979, 0.04837727811512873, 0.9191682841874458, 0.0021501012495612768, 0.02150101249561277, 0.0021501012495612768, 0.0021501012495612768, 0.0043002024991225535, 0.3455428000979795, 0.4997184525878803, 0.09331684229651892, 0.020286270064460633, 0.009466926030081629, 0.0277245690880962, 0.004057254012892127, 0.2698355529988914, 0.5533494059193855, 0.11730178417616936, 0.01450728779563932, 0.00787538480334706, 0.033988502835497834, 0.003730445433164397, 0.7087431367397274, 0.19402471686633674, 0.04423361420786952, 0.025132735345380408, 0.01105840355196738, 0.01608495062104346, 0.0020106188276304325, 0.42727194688327647, 0.37471978229335473, 0.12658217036007227, 0.01873598911466774, 0.011424383606504718, 0.03473012616377434, 0.005940679475382453, 0.03128333342873148, 0.07299444466704011, 0.8863611138140585, 0.010427777809577158, 0.053525495082788914, 0.035683663388525945, 0.8920915847131485, 0.017841831694262972, 0.19427177074435287, 0.30854928294691336, 0.011427751220256051, 0.034283253660768155, 0.44568229758998595, 0.893714056649834, 0.07994886129774874, 0.019987215324437185, 0.0028553164749195977, 0.7642012665602251, 0.1866072860205201, 0.001974680275349419, 0.03356956468094012, 0.008886061239072386, 0.003949360550698838, 0.9157219904511886, 0.04578609952255943, 0.028616312201599645, 0.005723262440319929, 0.7257505954898422, 0.1608289181542078, 0.06627121250575396, 0.02262919451415989, 0.0056572986285399725, 0.01778008140398277, 0.0016163710367257066, 0.10200390201385016, 0.8542826793659951, 0.006375243875865635, 0.006375243875865635, 0.03187621937932818, 0.9337244906163178, 0.9728416138307951, 0.01485254372260756, 0.9489652911044176, 0.037414402158238685, 0.001700654643556304, 0.006802618574225216, 0.005101963930668912, 0.9553993577917975, 0.026538871049772154, 0.32110364577712197, 0.6223860788519525, 0.043606667945041255, 0.007928485080916592, 0.003964242540458296, 0.9562210237549001, 0.02353116613267092, 0.019252772290367117, 0.928974471453305, 0.035055640432200184, 0.017527820216100092, 0.9382987893705739, 0.05141363229427802, 0.012853408073569505, 0.036261929621293175, 0.9428101701536227, 0.9505637194501074, 0.012398657210218792, 0.02893020015717718, 0.9488537423725781, 0.006411173934949853, 0.006411173934949853, 0.006411173934949853, 0.032055869674749264, 0.9697015307991804, 0.01999384599585939, 0.9657790485357559, 0.031154162855992124, 0.9654146198241812, 0.01970233918008533, 0.9332466771418604, 0.9394260770570427, 0.04369423614218804, 0.9445267497713999, 0.8897227364097593, 0.09365502488523782, 0.005203056938068768, 0.010406113876137536, 0.6001525652541843, 0.05274499979668602, 0.2836825664740681, 0.03706405391118477, 0.007127702675227841, 0.014255405350455682, 0.004276621605136705, 0.7259800424029382, 0.06285541492666132, 0.17913793254098476, 0.02042800985116493, 0.001571385373166533, 0.009428312238999198, 0.001571385373166533, 0.34151236492254583, 0.6034241034345734, 0.0025677621422747804, 0.007703286426824342, 0.016690453924786075, 0.023109859280473027, 0.003851643213412171, 0.778687502072404, 0.020572405922635414, 0.020572405922635414, 0.22629646514898957, 0.5760273658337917, 0.16457924738108332, 0.6495246428126069, 0.0612117464430729, 0.24654731206237698, 0.010201957740512151, 0.03230619951162181, 0.8500057068491207, 0.3565873241289834, 0.2793880065340488, 0.16175095115129143, 0.14153208225738, 0.025733105864978185, 0.03124734283604494, 0.003676157980711169, 0.13673435730687505, 0.6777268144775547, 0.005944972056820655, 0.13673435730687505, 0.005944972056820655, 0.029724860284103274, 0.7461885897234778, 0.18654714743086945, 0.7906386970251115, 0.9818921847584603, 0.020034305354247724, 0.5843339061655586, 0.3906689544078306, 0.8491838163843863, 0.9617379637532528, 0.02914357465918948, 0.0889079469667947, 0.0889079469667947, 0.8001715227011523, 0.7902349859173283, 0.16183253689472119, 0.10788835792981413, 0.017981392988302355, 0.4405441282134077, 0.2337581088479306, 0.026972089482453533, 0.287919924291768, 0.2343534267491135, 0.053566497542654516, 0.20422227188137035, 0.20087436578495443, 0.0033479060964159073, 0.020087436578495443, 0.1343635214344558, 0.8061811286067347, 0.0854465452627926, 0.8544654526279261, 0.9701187094336635, 0.3529886472765251, 0.25795324224053756, 0.04525495477904168, 0.33036116988700426, 0.009050990955808337, 0.05995888523292668, 0.8244346719527418, 0.02997944261646334, 0.0037474303270579176, 0.07869603686821626, 0.08862619310780287, 0.08862619310780287, 0.7976357379702259, 0.8662992817694847, 0.11758632910444529, 0.0023997210021315368, 0.0023997210021315368, 0.011998605010657684, 0.0023997210021315368, 0.7223861692693784, 0.21008169208344166, 0.0018428218603810673, 0.01842821860381067, 0.03685643720762134, 0.009214109301905336, 0.1407699101300259, 0.697450918371492, 0.05118905822910033, 0.1087767487368382, 0.06596176511083575, 0.06596176511083575, 0.2902317664876773, 0.4749247087980174, 0.0791541181330029, 0.8825335519465185, 0.3407860575939427, 0.11359535253131423, 0.012621705836812692, 0.06310852918406346, 0.1514604700417523, 0.32816435175713, 0.913904993883882, 0.5693722886398707, 0.2585681494281981, 0.010447197956694873, 0.06007138825099552, 0.045706491060540075, 0.040482892082192634, 0.01567079693504231, 0.37823097676111106, 0.44533647263808235, 0.05490449662661289, 0.12200999250358421, 0.6749176407756178, 0.15125272928869776, 0.12710313385604854, 0.015252376062725826, 0.008897219369923399, 0.020336501416967766, 0.0012710313385604854, 0.03097583731546613, 0.03097583731546613, 0.03097583731546613, 0.8982992821485178, 0.8946904232368398, 0.07616102265334569, 0.10154803020446093, 0.06346751887778808, 0.26656357928670993, 0.4696596396956318, 0.025387007551115233, 0.04612253632312824, 0.09224507264625648, 0.8302056538163083, 0.030733732500902, 0.01152514968783825, 0.9527457075279621, 0.8514696786287831, 0.05390715268327068, 0.8625144429323309, 0.9837430040501133, 0.9283917580055117, 0.2723810940134366, 0.32865817955340276, 0.033766251323979736, 0.23861484268945682, 0.09004333686394597, 0.033766251323979736, 0.2925661134727235, 0.2810929325522245, 0.02007806661087318, 0.16062453288698544, 0.16636112334723493, 0.04206833004182952, 0.0382439364016632, 0.9264733950824435, 0.05790458719265272, 0.9279225513186745, 0.036838144354083294, 0.05157340209571661, 0.906218351110449, 0.27315621687148, 0.6346865039072623, 0.00401700318928647, 0.07230605740715647, 0.02008501594643235, 0.6178785774318684, 0.34813307907541835, 0.002305517079969658, 0.007685056933232193, 0.009990574013201851, 0.013064596786494728, 0.0007685056933232193, 0.16321549356449278, 0.1331494815920862, 0.31784069799401227, 0.1245591924571129, 0.02147572283743326, 0.23623295121176585, 0.9376540516171751, 0.2786435369134117, 0.11334652349020137, 0.14640592617484344, 0.1983564161078524, 0.21724750335621928, 0.0047227718120917235, 0.03778217449673379, 0.4390439645567591, 0.40910914879152555, 0.0399130876869781, 0.02827177044494282, 0.054880495569594887, 0.02827177044494282, 0.10092375432094354, 0.8073900345675483, 0.07569281574070764, 0.9242702917113015, 0.22428994702550648, 0.30046389129831996, 0.004231885792934084, 0.3300870918488586, 0.1354203453738907, 0.004231885792934084, 0.8849773266104696, 0.018448388610303068, 0.9777645963460626, 0.18881252995937875, 0.755250119837515, 0.025393224316968048, 0.025393224316968048, 0.17775257021877633, 0.17775257021877633, 0.5840441592902651, 0.025452768417183743, 0.9544788156443904, 0.012726384208591872, 0.45145767308681894, 0.3339549910505236, 0.030921758430604036, 0.006184351686120807, 0.17934619889750342, 0.12986231070303983, 0.08657487380202655, 0.4473035146438038, 0.10100401943569763, 0.21643718450506635, 0.08588547593025625, 0.06441410694769219, 0.08588547593025625, 0.6656124384594859, 0.08588547593025625, 0.9838550665792616, 0.024804276151522787, 0.049608552303045575, 0.4960855230304557, 0.26044489959098927, 0.16122779498489812, 0.9076919852825392, 0.8971830458248459, 0.8766979979980944, 0.8821557481422787, 0.8515189050478069, 0.328052973844503, 0.24121542194448747, 0.07236462658334625, 0.23639111350559772, 0.09166186033890523, 0.0289458506333385, 0.8389459659005513, 0.3877458716904199, 0.2197226606245713, 0.05816188075356299, 0.3360464221316973, 0.132637257472829, 0.14147974130435093, 0.008842483831521933, 0.3802268047554431, 0.265274514945658, 0.07073987065217546, 0.10308893744748295, 0.34995981396645526, 0.2333065426443035, 0.12479187164695303, 0.06782166937334404, 0.07867313647307908, 0.037980134849072665, 0.06833293804977214, 0.04555529203318143, 0.40999762829863284, 0.04555529203318143, 0.40999762829863284, 0.9068621745107813, 0.07876391788983754, 0.05250927859322503, 0.10501855718645006, 0.3938195894491877, 0.3413103108559627, 0.9595160097369363, 0.9617531587748063, 0.7939029073514063, 0.16053183788355643, 0.002918760688791935, 0.03502512826550322, 0.002918760688791935, 0.002918760688791935, 0.849701064607087, 0.06143850814303457, 0.860139114002484, 0.06143850814303457, 0.9780867594250263, 0.5044841296409435, 0.321188229204734, 0.11434973605194719, 0.024383399599312267, 0.009248875710083964, 0.02354259271657736, 0.003363227530939623, 0.8740285932576224, 0.922268370078998, 0.878774275586061, 0.12301910785204807, 0.8611337549643365, 0.8310892848412734, 0.046939222084894795, 0.09387844416978959, 0.8449059975281064, 0.2175047141165393, 0.12428840806659389, 0.6525141423496179, 0.025668877424360814, 0.025668877424360814, 0.7187285678821027, 0.07700663227308244, 0.025668877424360814, 0.12834438712180407, 0.3184729204909346, 0.26751725321238506, 0.05095566727854954, 0.05732512568836823, 0.2611477948025664, 0.019108375229456076, 0.02547783363927477, 0.884929639182013, 0.09386665779825669, 0.18773331559651338, 0.7039999334869251, 0.18898945817165458, 0.5784222810708216, 0.01718085983378678, 0.117402542197543, 0.09735820572479176, 0.06188453096807307, 0.18565359290421923, 0.7426143716168769, 0.5502374728001185, 0.3221301103762952, 0.09402274795247195, 0.014716604027343436, 0.0179869604778642, 0.0008175891126301908, 0.0008175891126301908, 0.9838130467718975, 0.014054019588846946, 0.9837813712192862, 0.9629421603702158, 0.8398179937174811, 0.05998699955124865, 0.05998699955124865, 0.9324080039437892, 0.035407898883941365, 0.023605265922627575, 0.8991361782978301, 0.03797266074770696, 0.01898633037385348, 0.9379247204683618, 0.9528481188697749, 0.030737036092573385, 0.9576315977161038, 0.7788508573368311, 0.15577017146736624, 0.032459208183140666, 0.032459208183140666, 0.22721445728198464, 0.6491841636628133, 0.032459208183140666, 0.01993913014868265, 0.05981739044604795, 0.737747815501258, 0.13957391104077854, 0.01993913014868265, 0.6676481839259824, 0.1561047912057153, 0.00240161217239562, 0.120080608619781, 0.04322901910312116, 0.00240161217239562, 0.007204836517186859, 0.7553570094707623, 0.9243032904140647, 0.924360954665875, 0.014349735125410325, 0.014349735125410325, 0.08609841075246195, 0.4878909942639511, 0.3874428483860788, 0.8440325188732839, 0.4854731814426129, 0.40779747241179487, 0.05243110359580219, 0.007767570903081807, 0.005825678177311355, 0.040779747241179484, 0.8940427422716618, 0.08559983702601018, 0.002377773250722505, 0.00951109300289002, 0.007133319752167514, 0.029850662994572032, 0.1970143757641754, 0.764176972661044, 0.013170883494794111, 0.9746453786147643, 0.5113483579210242, 0.17531943700149402, 0.014609953083457835, 0.02921990616691567, 0.014609953083457835, 0.26297915550224105, 0.5889635849207698, 0.2663465893590743, 0.05064336558235919, 0.0168811218607864, 0.005627040620262132, 0.07127584785665368, 0.050068985368586276, 0.07510347805287941, 0.30041391221151764, 0.5257243463701559, 0.025034492684293138, 0.06727848955320663, 0.033639244776603315, 0.8746203641916863, 0.9595160097369363, 0.8882977487709376, 0.10285552880505593, 0.0046752513093207245, 0.36771541883761516, 0.15321475784900632, 0.0061285903139602525, 0.3248152866398934, 0.11031462565128455, 0.018385770941880757, 0.018385770941880757, 0.8494604441231706, 0.04200581006077857, 0.04200581006077857, 0.08401162012155713, 0.6930958660028463, 0.1260174301823357, 0.7106243910093342, 0.11379279463874958, 0.006966905794209158, 0.030189925108239687, 0.004644603862806106, 0.13237121008997402, 0.004644603862806106, 0.13694916821611405, 0.06847458410805703, 0.03423729205402851, 0.7189831331345988, 0.03423729205402851, 0.9404220480557952, 0.04374056037468815, 0.7925506383222483, 0.893303126688003, 0.059553541779200206, 0.8960423890076155, 0.2847888833184899, 0.3337369726388554, 0.3114878411295983, 0.020024218358331323, 0.01779930520740562, 0.02669895781110843, 0.004449826301851405, 0.9269547322796151, 0.9365887743580564, 0.7897982214105215, 0.025339795372830286, 0.025339795372830286, 0.7728637588713237, 0.16470866992339686, 0.11725574529206854, 0.2345114905841371, 0.09380459623365484, 0.5159252792851016, 0.02345114905841371, 0.0137094501649947, 0.9870804118796185, 0.9242627618976959, 0.0506923290959486, 0.9124619237270748, 0.9271950935994937, 0.3283993536654833, 0.11493977378291916, 0.5418589335480475, 0.016419967683274164, 0.8246182756263029, 0.9243978643836646, 0.9067357527943168, 0.9380582754897726, 0.11768780605686993, 0.339986995275402, 0.019614634342811653, 0.2484520350089476, 0.2222991892185321, 0.05230569158083108, 0.03793068916327913, 0.9482672290819782, 0.789413118487587, 0.08198655824677079, 0.35527508573600675, 0.5568253747593183, 0.0375459466599402, 0.022527567995964122, 0.9386486664985051, 0.9834228193211892, 0.8245328099577234, 0.9068405061118822, 0.8597439302805637, 0.021117439924105863, 0.06335231977231759, 0.8658150368883404, 0.021117439924105863, 0.8763292569791666, 0.6977755003289121, 0.26067839446249924, 0.009215902834532802, 0.013165575477904002, 0.014482133025694403, 0.0026331150955808003, 0.0013165575477904002, 0.9840317205451458, 0.024896780643319006, 0.012448390321659503, 0.9460776644461222, 0.012448390321659503, 0.07228846176245114, 0.7951730793869625, 0.07228846176245114, 0.9853108572629486, 0.12919700247570257, 0.7751820148542155, 0.9073430383250565, 0.23855437250468167, 0.3578315587570225, 0.0033132551736761344, 0.23192786215732938, 0.12921695177336923, 0.0033132551736761344, 0.03313255173676134, 0.02619667492289153, 0.013098337461445765, 0.9561786346855408, 0.9072158201777427, 0.8513435584011945, 0.15789001217353896, 0.7894500608676948, 0.9067036683563345, 0.5223281182325413, 0.1466811838872205, 0.017887949254539088, 0.050086257912709445, 0.25400887941445505, 0.007155179701815635, 0.014058874141931205, 0.05623549656772482, 0.8716501967997347, 0.04217662242579361, 0.9837294020544951, 0.7901574163821402, 0.789101990911287, 0.9626434623554175, 0.09771740904446313, 0.8305979768779366, 0.048858704522231566, 0.9818612167833657, 0.12292480142999028, 0.020487466904998378, 0.846815298739933, 0.09527159849161071, 0.8574443864244964, 0.202061597994262, 0.16640366893645103, 0.07131585811562188, 0.05942988176301823, 0.49921100680935315, 0.9512206032902152, 0.8955982445787741, 0.09056611462032547, 0.11232767529801324, 0.2808191882450331, 0.5616383764900662, 0.1394298467091147, 0.16731581605093765, 0.6413772948619276, 0.03485746167727868, 0.020914477006367206, 0.31764176555716395, 0.11911566208393648, 0.5558730897250369, 0.9720319058939516, 0.018705480762836315, 0.9726849996674883, 0.032087678889279235, 0.032087678889279235, 0.8984550088998187, 0.032087678889279235, 0.0666590493665431, 0.03999542961992586, 0.8798994516383688, 0.006665904936654309, 0.38717523215389055, 0.42237298053151695, 0.03519774837762641, 0.013199155641609905, 0.004399718547203301, 0.13639127496330236, 0.004399718547203301, 0.04575010441514275, 0.04575010441514275, 0.915002088302855, 0.0683762156409155, 0.0683762156409155, 0.6381780126485447, 0.15954450316213617, 0.04558414376061033, 0.6383993024173973, 0.10373988664282707, 0.0239399738406524, 0.09176989972250087, 0.051869943321413536, 0.0837899084422834, 0.9251114378680777, 0.06260152587077218, 0.006955725096752464, 0.006955725096752464, 0.03078760160561363, 0.015393800802806815, 0.9467187493726191, 0.924225085777403, 0.8515482380145991, 0.05082373095047472, 0.10164746190094943, 0.8131796952075955, 0.08561867429593667, 0.09632100858292876, 0.6528423915065171, 0.16053501430488126, 0.08914233788623009, 0.2037539151685259, 0.050938478792131474, 0.10187695758426295, 0.4966501682232819, 0.06367309849016435, 0.8957281624385149, 0.07094876534166455, 0.01773719133541614, 0.01773719133541614, 0.5021515061779781, 0.33852910528852453, 0.008463227632213114, 0.036673986406256825, 0.002821075877404371, 0.11002195921877048, 0.5033830837096579, 0.13362532767565463, 0.18304839407623924, 0.10799855250498115, 0.0237962912299111, 0.03844016275601024, 0.009152419703811962, 0.92876808208667, 0.9068640123065604, 0.9244175982586633, 0.13147838766693895, 0.47950941384413026, 0.08507425084331344, 0.0541381596275631, 0.007734022803937585, 0.01546804560787517, 0.22428666131418998, 0.8955768517838577, 0.3313102450826056, 0.20877083936712135, 0.009076993015961798, 0.19061685333519776, 0.21784783238308314, 0.04084646857182809, 0.1336773731759668, 0.8020642390558008, 0.8513324212299378, 0.981894401269484, 0.20732856496179697, 0.26188871363595406, 0.29462480284044834, 0.19641653522696553, 0.01091202973483142, 0.027280074337078547, 0.48623272170790705, 0.260277515737762, 0.16160087515586322, 0.06292423457396444, 0.02288153984507798, 0.0028601924806347474, 0.004290288720952121, 0.3558473885485686, 0.3659731272471051, 0.05641482989184625, 0.09836431878578321, 0.09113164828682856, 0.020251477397073014, 0.011572272798327435, 0.927756650414029, 0.05427304502250851, 0.8683687203601361, 0.9534880928046975, 0.1549887102462198, 0.26348080741857366, 0.03099774204924396, 0.0774943551231099, 0.10849209717235386, 0.3564740335663055, 0.8836417643059205, 0.9798048903719108, 0.24456940488814236, 0.09782776195525694, 0.13043701594034257, 0.01630462699254282, 0.01630462699254282, 0.4891388097762847, 0.2084274734686846, 0.4266632986300132, 0.3163193420877684, 0.03678131884741493, 0.009808351692643982, 0.799085441304962, 0.4690414901146268, 0.35508940395825195, 0.07939887293476441, 0.058078805202281376, 0.023525591980670935, 0.010292446491543535, 0.004411048496375801, 0.191900260595852, 0.11339560853391255, 0.671650912085482, 0.017445478235986547, 0.927415926929103, 0.7901574163821402, 0.09203090886239282, 0.3681236354495713, 0.023007727215598205, 0.5061699987431605, 0.08397372863137378, 0.08397372863137378, 0.7977504219980509, 0.1584832017449783, 0.7924160087248915, 0.04155934264342761, 0.2909153985039932, 0.6649494822948417, 0.10273259368069045, 0.12644011529931132, 0.007902507206206957, 0.5610780116406939, 0.18966017294896698, 0.015805014412413915, 0.2089139718762595, 0.23149926613315244, 0.0028231617821116153, 0.381126840585068, 0.11010330950235299, 0.05928639742434392, 0.008469485346334845, 0.099974873640443, 0.799798989123544, 0.018225138992965833, 0.018225138992965833, 0.5649793087819408, 0.3827279188522825, 0.8931902745993976, 0.9271722774947119, 0.9245358320818179, 0.9877539242794598, 0.9868771057076858, 0.7908888561671114, 0.12167520864109406, 0.10126558333362713, 0.14177181666707797, 0.04050623333345085, 0.26329051666743053, 0.4658216833346848, 0.7897289555747624, 0.9242691361548435, 0.2924180428398994, 0.25586578748491196, 0.3906522291064281, 0.01142257979843357, 0.02284515959686714, 0.004569031919373428, 0.02284515959686714, 0.08424582428455675, 0.9267040671301243, 0.8310892848412734, 0.10887739540652396, 0.4718020467616038, 0.28353488387115616, 0.08846288376780072, 0.03402418606453873, 0.013609674425815494, 0.10796033585279123, 0.8636826868223298, 0.1751626526759521, 0.37292693795525284, 0.02825204075418582, 0.3333740808993927, 0.08475612226255747, 0.7901574163821402, 0.0776309389036596, 0.0258769796345532, 0.6210475112292768, 0.258769796345532, 0.9512308012394524, 0.1422487719735948, 0.1422487719735948, 0.3362243701194059, 0.03879511962916222, 0.34915607666246, 0.1389367446363479, 0.046312248212115964, 0.7873082196059714, 0.9247703719472234, 0.3312903265254056, 0.1656451632627028, 0.13251613061016224, 0.3644193591779461, 0.43961624295899565, 0.2637697457753974, 0.019113749693869378, 0.1682009973060505, 0.045872999265286506, 0.011468249816321626, 0.053518499142834255, 0.13327612949198747, 0.06663806474599374, 0.01110634412433229, 0.28876494723263957, 0.18880785011364895, 0.21657371042447968, 0.09440392505682448, 0.049031287806252495, 0.06537505040833666, 0.22881267642917832, 0.39225030245001996, 0.2451564390312625, 0.4120581255909772, 0.18313694470710098, 0.021976433364852117, 0.2454035059075153, 0.10438805848304755, 0.009156847235355049, 0.025639172258994137, 0.061519902091171, 0.39278091335132254, 0.028393800965155848, 0.11120905378019373, 0.2957687600537067, 0.04495685152816342, 0.06861835233245997, 0.0797833887142808, 0.8776172758570888, 0.01625295251707582, 0.9751771510245492, 0.06447733075416671, 0.7737279690500005, 0.12895466150833343, 0.3266943936374589, 0.31562000741246027, 0.011074386224998607, 0.29900842807496236, 0.03322315867499582, 0.022148772449997214, 0.10581954654071513, 0.846556372325721, 0.9243020972192312, 0.6919162001329524, 0.10644864617430037, 0.09428308661152318, 0.03345528879763726, 0.0045620848360414445, 0.06843127254062167, 0.9439785956555496, 0.02697081701872999, 0.890767056792863, 0.9298643747330656, 0.042822701467970126, 0.012235057562277179, 0.006117528781138589, 0.006117528781138589, 0.12132022780704872, 0.4766151806705486, 0.2773033778446828, 0.02888576852548779, 0.07510299816626825, 0.008665730557646337, 0.017331461115292674, 0.9222572421690102, 0.07004485383562102, 0.2404798348898076, 0.16352628772506916, 0.16352628772506916, 0.06733435376914612, 0.3270525754501383, 0.02885758018677691, 0.15775250697728885, 0.05915719011648332, 0.5061226265521351, 0.1741850597874231, 0.036151616182295364, 0.062443700678510176, 0.006573021124053702, 0.3914672392714176, 0.5526596319125895, 0.004605496932604912, 0.02533023312932702, 0.02533023312932702, 0.9596219136368068, 0.022060273876708204, 0.015037006975013775, 0.03007401395002755, 0.7518503487506887, 0.1804440837001653, 0.8494299190325457, 0.8933368396864483, 0.8412790067645705, 0.1376579343130189, 0.07780665852474981, 0.7780665852474982, 0.005985127578826909, 0.021323315156638024, 0.04264663031327605, 0.2772030970362943, 0.6610227698557787, 0.07784899825354194, 0.019462249563385485, 0.7979522320988048, 0.07784899825354194, 0.8090025966650708, 0.0338718063639332, 0.02258120424262213, 0.8355045569770189, 0.1016154190917996, 0.953249749289559, 0.9545060082875158, 0.5222017604151604, 0.08033873237156315, 0.013389788728593859, 0.1606774647431263, 0.21423661965750174, 0.058935070986863625, 0.029467535493431812, 0.9134936002963862, 0.9272031865243934, 0.0976047941903176, 0.8784431477128584, 0.9066397173369403, 0.9055428601914198, 0.4510734727694512, 0.34690805225361915, 0.10416542051583202, 0.08184425897672516, 0.010230532372090645, 0.00465024198731393, 0.0009300483974627859, 0.3518682676029784, 0.0879670669007446, 0.02199176672518615, 0.0439835334503723, 0.4838188679540953, 0.8318078786274687, 0.9772846171272755, 0.010396644863056123, 0.05975094458355023, 0.8962641687532534, 0.014189565097085481, 0.014189565097085481, 0.014189565097085481, 0.18446434626211128, 0.2696017368446242, 0.5250139085921628, 0.985989116420297, 0.7913645154529704, 0.8259089458742154, 0.057762746899514814, 0.34657648139708885, 0.17328824069854443, 0.3754578548468463, 0.8499139921556291, 0.023303433664670668, 0.023303433664670668, 0.943789063419162, 0.24143440859296275, 0.28204954274878824, 0.01579477439393214, 0.1872808963851954, 0.20533206712111784, 0.029333152445873978, 0.04061513415582551, 0.025772845431043963, 0.4123655268967034, 0.3672630473923765, 0.16752349530178576, 0.012886422715521982, 0.006443211357760991, 0.29740502782504097, 0.19524299536605744, 0.19751326275403486, 0.2065943323059445, 0.047675615147525656, 0.05448641731145789, 0.06030160406416298, 0.9045240609624448, 0.9278854924748254, 0.907617301496073, 0.8513519772174178, 0.9068224861416185, 0.047767046758650795, 0.047767046758650795, 0.907573888414365, 0.28109018032395344, 0.4248054604895838, 0.029588440034100362, 0.1373749001583231, 0.054949960063329244, 0.01268076001461444, 0.059176880068200724, 0.7901574163821402, 0.9839882554643826, 0.691992078752356, 0.11678455737130441, 0.15861783165356272, 0.022659690236223246, 0.0017430530950940956, 0.008715265475470479, 0.937815071188355, 0.032338450730632934, 0.8974848703396523, 0.981774766436006, 0.40138525625152754, 0.2582556299912929, 0.02178059530047049, 0.003111513614352927, 0.2675901708343517, 0.0466727042152939, 0.15430484585558532, 0.24926167407440702, 0.011869603527352716, 0.03560881058205815, 0.16617444938293802, 0.18991365643764346, 0.17804405291029074, 0.018161037866715007, 0.018161037866715007, 0.3813817952010152, 0.27241556800072514, 0.32689868160087016, 0.985312652911266, 0.14963087918463724, 0.4258725022947367, 0.08057047340711236, 0.01151006762958748, 0.32228189362844945, 0.06895155450951256, 0.5697575819996563, 0.3012094223310285, 0.04717737940124543, 0.01088708755413356, 0.0018145145923555933, 0.45813119121708107, 0.18807491007859117, 0.03375703514231124, 0.24594411317969614, 0.009644867183517496, 0.06751407028462247, 0.8497654108384454, 0.27149449338065296, 0.6938192608616687, 0.5901607118192636, 0.1846143765178209, 0.048423443021067776, 0.06355576896515146, 0.024211721510533888, 0.09079395566450209, 0.09896026175146858, 0.86590229032535, 0.9838385035834772, 0.8845275956515003, 0.927716740118561, 0.023737458004904146, 0.011868729002452073, 0.9494983201961659, 0.8287343938927761, 0.18618546142790368, 0.07839387849595945, 0.07839387849595945, 0.24498087029987328, 0.3233747487958327, 0.09799234811994931, 0.03078560326156562, 0.01539280163078281, 0.9543537011085342, 0.842586201731936, 0.9533741520736709, 0.900616740561629, 0.7897289555747624, 0.8974121907366206, 0.04985623281870114, 0.0261151695717006, 0.009496425298800218, 0.01661874427290038, 0.0023741063247000546, 0.17018608185962122, 0.4504925696284091, 0.10010945991742425, 0.02002189198348485, 0.26028459578530305, 0.09274135596178958, 0.8346722036561062, 0.8616357467760822, 0.9751708165402705, 0.08782744651962195, 0.060991282305293014, 0.3635080425395464, 0.28299954989655957, 0.1536980314093384, 0.04879302584423441, 0.14456228796237172, 0.28912457592474344, 0.08369395618874152, 0.0608683317736302, 0.42607832241541144, 0.007608541471703775, 0.007608541471703775, 0.03048189807818617, 0.03048189807818617, 0.9296978913846782, 0.8502328028011167, 0.9242379020798623, 0.8574923435144834, 0.8915141054179233, 0.2431032343972788, 0.6482752917260768, 0.04080862295296781, 0.09522012022359157, 0.8433782076946682, 0.013602874317655937, 0.9838081222042843, 0.18811544125246096, 0.03135257354207682, 0.21946801479453779, 0.1254102941683073, 0.40758345604699875, 0.1983558004986273, 0.7616862739147289, 0.007934232019945092, 0.007934232019945092, 0.023802696059835277, 0.029507840568135584, 0.022130880426101687, 0.9147430576122031, 0.029507840568135584, 0.9273078059766762, 0.04752770363788149, 0.09505540727576298, 0.14258311091364448, 0.7129155545682224, 0.9838075427753011, 0.06954575962980808, 0.056901076060752065, 0.6132671530992168, 0.06322341784528007, 0.19599259532036822, 0.1123401629921316, 0.07302110594488555, 0.7077430268504291, 0.07863811409449213, 0.01685102444881974, 0.00561700814960658, 0.7454350250431656, 0.21455777858972694, 0.008582311143589079, 0.014712533389009849, 0.011034400041757386, 0.003678133347252462, 0.001226044449084154, 0.2185194488149597, 0.19120451771308972, 0.264044333984743, 0.30956921915452623, 0.009104977033956654, 0.018209954067913307, 0.026888965548717152, 0.30653420725537556, 0.6614685524984419, 0.3988461038226089, 0.3115985186114132, 0.06231970372228264, 0.2243509334002175, 0.7916238061754758, 0.8690903477150761, 0.2153233369544333, 0.770195012952396, 0.008281666805939742, 0.381792159308012, 0.15554495379215305, 0.07777247689607653, 0.11665871534411477, 0.2580632187915266, 0.0035351125861852965, 0.007070225172370593, 0.016925099181798107, 0.033850198363596214, 0.3892772811813564, 0.5585282729993375, 0.20381550968610804, 0.17046388082838126, 0.5262145886441335, 0.08893767695393806, 0.003705736539747419, 0.011117209619242258, 0.9243836051019069, 0.8974692284994027, 0.3305712016430944, 0.2644569613144755, 0.36362832180740384, 0.8764251404853365], \"Term\": [\" 0\", \" 0\", \" 0\", \" 0\", \" 0\", \" 0\", \" 0\", \" 0_vaga\", \" 0_vaga\", \" 0_vaga\", \" 0_vaga\", \" 0_vaga\", \" 0_vaga\", \" 0_vaga\", \" 1000-1500\", \" 1000-1500\", \" 1000-1500\", \" 1000-1500\", \" 1000-1500\", \" 10000-20000\", \" 10000-20000\", \" 10000-20000\", \" 104.99999999999996_area\", \" 110.00000000000004_area\", \" 110.00000000000004_area\", \" 110.00000000000004_area\", \" 119.99999999999996_area\", \" 119.99999999999996_area\", \" 129.99999999999997_area\", \" 1500-2000\", \" 1500-2000\", \" 1500-2000\", \" 1500-2000\", \" 1500-2000\", \" 1500-2000\", \" 1500-2000\", \" 1_banheiro\", \" 1_banheiro\", \" 1_banheiro\", \" 1_banheiro\", \" 1_banheiro\", \" 1_banheiro\", \" 1_banheiro\", \" 1_quarto\", \" 1_quarto\", \" 1_quarto\", \" 1_quarto\", \" 1_quarto\", \" 1_quarto\", \" 1_quarto\", \" 1_vaga\", \" 1_vaga\", \" 1_vaga\", \" 1_vaga\", \" 1_vaga\", \" 1_vaga\", \" 1_vaga\", \" 2000-3000\", \" 2000-3000\", \" 2000-3000\", \" 2000-3000\", \" 2000-3000\", \" 2000-3000\", \" 2000-3000\", \" 22.000000000000004_area\", \" 22.000000000000004_area\", \" 22.000000000000004_area\", \" 22.000000000000004_area\", \" 23.0_area\", \" 23.0_area\", \" 23.0_area\", \" 23.0_area\", \" 28.0_area\", \" 28.0_area\", \" 28.0_area\", \" 28.0_area\", \" 28.0_area\", \" 2_banheiro\", \" 2_banheiro\", \" 2_banheiro\", \" 2_banheiro\", \" 2_quarto\", \" 2_quarto\", \" 2_quarto\", \" 2_quarto\", \" 2_quarto\", \" 2_quarto\", \" 2_vaga\", \" 2_vaga\", \" 2_vaga\", \" 2_vaga\", \" 3000-4000\", \" 3000-4000\", \" 3000-4000\", \" 3000-4000\", \" 3000-4000\", \" 3000-4000\", \" 3000-4000\", \" 34.99999999999999_area\", \" 34.99999999999999_area\", \" 34.99999999999999_area\", \" 34.99999999999999_area\", \" 34.99999999999999_area\", \" 341.00000000000006_area\", \" 3_banheiro\", \" 3_banheiro\", \" 3_quarto\", \" 3_quarto\", \" 3_quarto\", \" 3_quarto\", \" 3_quarto\", \" 3_vaga\", \" 3_vaga\", \" 40.0_area\", \" 40.0_area\", \" 40.0_area\", \" 40.0_area\", \" 40.0_area\", \" 4000-5000\", \" 4000-5000\", \" 4000-5000\", \" 4_banheiro\", \" 4_banheiro\", \" 4_banheiro\", \" 4_quarto\", \" 4_quarto\", \" 4_quarto\", \" 500-1000\", \" 500-1000\", \" 5000-6000\", \" 5000-6000\", \" 5000-6000\", \" 6000-7000\", \" 6000-7000\", \" 6000-7000\", \" 6000-7000\", \" 6000-7000\", \" 7000-8000\", \" 7000-8000\", \" 85.00000000000001_area\", \" 85.00000000000001_area\", \" 9000-10000\", \" 9000-10000\", \" 93.00000000000004_area\", \" 95.0_area\", \" 95.0_area\", \" 98.00000000000004_area\", \" area_de_servico\", \" area_de_servico\", \" area_de_servico\", \" area_de_servico\", \" piscina\", \" piscina\", \" piscina\", \" piscina\", \" piscina\", \" piscina\", \" piscina\", \" salao_de_festas\", \" salao_de_festas\", \" salao_de_festas\", \" salao_de_festas\", \" salao_de_festas\", \" salao_de_festas\", \" salao_de_festas\", \"0\", \"0\", \"0\", \"0\", \"0\", \"0\", \"0\", \"abranger\", \"abrigar\", \"abrigar\", \"abrigar\", \"abrigar\", \"abrigar\", \"academia\", \"academia\", \"academia\", \"academia\", \"academia\", \"acervar\", \"acesso\", \"acesso\", \"acesso\", \"acesso\", \"acesso\", \"acesso\", \"acesso\", \"aclimacao\", \"aclimacao\", \"aclimacao\", \"aclimacao\", \"aclimacao\", \"aclimacao\", \"acontecer\", \"acontecer\", \"adaptar\", \"adjacente\", \"administracao\", \"administracao\", \"administracao\", \"adquirir\", \"adulto\", \"adulto\", \"agitar\", \"agitar\", \"agitar\", \"agostar\", \"ainda\", \"ainda\", \"ainda\", \"ainda\", \"ainda\", \"ainda\", \"alar\", \"alar\", \"alar\", \"alar\", \"alar\", \"alar\", \"alar\", \"algo\", \"algo\", \"alimentacao\", \"alimentacao\", \"allianz\", \"alto\", \"alto\", \"alto\", \"alto\", \"alto\", \"aluguel\", \"aluguel\", \"aluguel\", \"aluguel\", \"aluguel\", \"amarar\", \"amarar\", \"amarar\", \"ambientar\", \"ambientar\", \"ambientar\", \"ambientar\", \"ambientar\", \"ambientar\", \"amplo\", \"amplo\", \"amplo\", \"amplo\", \"amplo\", \"amplo\", \"ano\", \"ano\", \"ano\", \"ano\", \"antigo\", \"antigo\", \"antigo\", \"antigo\", \"antigo\", \"anuncios\", \"apartamento\", \"apartamento\", \"apartamento\", \"apartamento\", \"apartamento\", \"apartamento\", \"apreciar\", \"area\", \"area\", \"area\", \"area\", \"area\", \"area\", \"area\", \"armario\", \"armario\", \"armario\", \"armario\", \"armarios\", \"armarios\", \"armarios\", \"armarios\", \"armarios\", \"armarios\", \"armarios\", \"arouche\", \"arouche\", \"arouche\", \"arouche\", \"arranhar\", \"arte\", \"arte\", \"arte\", \"arte\", \"arte\", \"arte\", \"artesanato\", \"artesanato\", \"artesanato\", \"assessoria\", \"assessoria\", \"assessoria\", \"astron\", \"atrativos\", \"atrativos\", \"atua\", \"atual\", \"avenida\", \"avenida\", \"avenida\", \"avenida\", \"avenida\", \"avenida\", \"bairro\", \"bairro\", \"bairro\", \"bairro\", \"bairro\", \"bairro\", \"bairro\", \"balar\", \"balar\", \"baldeacoes\", \"bancario\", \"bancario\", \"bancario\", \"banco\", \"banco\", \"banco\", \"banco\", \"banco\", \"banheiro\", \"banheiro\", \"banheiro\", \"banheiro\", \"banheiro\", \"banheiro\", \"banheiro\", \"bar\", \"bar\", \"bar\", \"bar\", \"bar\", \"bar\", \"bebido\", \"belo\", \"belo\", \"belo\", \"belo\", \"belo\", \"belo\", \"belo\", \"bem\", \"bem\", \"bem\", \"bem\", \"bem\", \"bem\", \"bixiga\", \"bixiga\", \"bixiga\", \"bk\", \"bom\", \"bom\", \"bom\", \"bom\", \"bom\", \"bom\", \"botelho\", \"bradesco\", \"bradesco\", \"cacau\", \"cacau\", \"cafe\", \"cafe\", \"cafe\", \"cafe\", \"cafe\", \"caixa\", \"caixa\", \"caixa\", \"cama\", \"cama\", \"cama\", \"cama\", \"cama\", \"caminhar\", \"caminhar\", \"caminhar\", \"caminhar\", \"caminhar\", \"campo\", \"campo\", \"campo\", \"campo\", \"campo\", \"capacitar\", \"capital\", \"capital\", \"capital\", \"capital\", \"capital\", \"caracterizar\", \"cardapios\", \"carlos\", \"cartaz\", \"cartoes\", \"casar\", \"casar\", \"casar\", \"casar\", \"casar\", \"casar\", \"casaroes\", \"cecilia\", \"cecilia\", \"cecilia\", \"cecilia\", \"central\", \"central\", \"central\", \"central\", \"central\", \"central\", \"centrar\", \"centrar\", \"centrar\", \"centrar\", \"centrar\", \"centrar\", \"centrar\", \"cesar\", \"cesar\", \"cesar\", \"cesar\", \"cesar\", \"ceus\", \"chamar\", \"chamar\", \"chamar\", \"chamar\", \"chamar\", \"champs\", \"churrasco\", \"churrasqueira\", \"churrasqueira\", \"churrasqueira\", \"churrasqueira\", \"churrasqueira\", \"churrasqueira\", \"ciclovias\", \"circulacao\", \"circulacao\", \"circulacao\", \"cliente\", \"codigo\", \"codigo\", \"codigo\", \"codigo\", \"codigo\", \"codigo\", \"codigo\", \"coimbra\", \"colecao\", \"compreender\", \"comunidade\", \"comunidade\", \"conciliar\", \"condicoes\", \"condicoes\", \"condicoes\", \"conferir\", \"conferir\", \"conferir\", \"considerar\", \"considerar\", \"considerar\", \"considerar\", \"considerar\", \"considerar\", \"consolacao\", \"consolacao\", \"consolacao\", \"consolacao\", \"consolacao\", \"consolacao\", \"consolacao\", \"construir\", \"consulto\", \"consulto\", \"consulto\", \"contar\", \"contar\", \"contar\", \"contar\", \"contar\", \"contribuir\", \"contribuir\", \"contribuir\", \"cozinhar\", \"cozinhar\", \"cozinhar\", \"cozinhar\", \"cozinhar\", \"cozinhar\", \"cozinhar\", \"credibilidade\", \"creditar\", \"creditar\", \"cruzamento\", \"cruzar\", \"cruzar\", \"cruzar\", \"curtir\", \"curtir\", \"curtir\", \"degustar\", \"departamento\", \"departamento\", \"departamento\", \"dependencia\", \"dependencia\", \"descontracao\", \"desenvolvimento\", \"desenvolvimento\", \"desfrutar\", \"desfrutar\", \"desfrutar\", \"desfrutar\", \"desfrutar\", \"destacar\", \"destacar\", \"destacar\", \"destacar\", \"destacar\", \"dia\", \"dia\", \"dia\", \"dia\", \"dia\", \"dia\", \"dia\", \"direcao\", \"disco\", \"discreto\", \"distrito\", \"distrito\", \"distrito\", \"distrito\", \"distrito\", \"dois\", \"dormitorio\", \"dormitorio\", \"dormitorio\", \"dormitorio\", \"dormitorio\", \"dormitorio\", \"dormitorios\", \"dormitorios\", \"dormitorios\", \"dormitorios\", \"dormitorios\", \"duvidar\", \"duvidar\", \"duvidar\", \"economica\", \"economica\", \"edificio\", \"edificio\", \"edificio\", \"edificio\", \"edificio\", \"edificio\", \"elevador\", \"elevador\", \"elevador\", \"elevador\", \"elevador\", \"elevador\", \"elevar\", \"elevar\", \"elevar\", \"elevar\", \"elevar\", \"eliseos\", \"eliseos\", \"eliseos\", \"elysees\", \"empregar\", \"empregar\", \"empregar\", \"encontrar\", \"encontrar\", \"encontrar\", \"encontrar\", \"encontrar\", \"encontrar\", \"encontrar\", \"escadaria\", \"escolher\", \"escolher\", \"escolher\", \"escolher\", \"escolher\", \"espaco\", \"espaco\", \"espaco\", \"espaco\", \"espaco\", \"espaco\", \"espaco\", \"espacos\", \"espacos\", \"espacos\", \"espacos\", \"espacos\", \"espacosa\", \"espacosa\", \"especialidade\", \"espigao\", \"espigao\", \"estabelecer\", \"estacao\", \"estacao\", \"estacao\", \"estacao\", \"estacao\", \"estacao\", \"estacao\", \"estrar\", \"estrategica\", \"estrategico\", \"executivo\", \"executivo\", \"executivo\", \"executivo\", \"existir\", \"existir\", \"existir\", \"existir\", \"existir\", \"experiencia\", \"experiencia\", \"extravagante\", \"exuberante\", \"exuberante\", \"fabricar\", \"facilidade\", \"facilidade\", \"facilidade\", \"facilidade\", \"faixar\", \"farma\", \"fator\", \"fazendeiro\", \"fazer\", \"fazer\", \"fazer\", \"fazer\", \"fazer\", \"fazer\", \"federal\", \"federal\", \"festival\", \"fianca\", \"fianca\", \"fianca\", \"financiamento\", \"financiamento\", \"financiamento\", \"focar\", \"fonte\", \"franz\", \"fundar\", \"galeria\", \"galeria\", \"galeria\", \"galeria\", \"ganhar\", \"garagem\", \"garagem\", \"garagem\", \"garagem\", \"garagem\", \"garagem\", \"garagem\", \"garantidor\", \"gasto\", \"gasto\", \"gasto\", \"gasto\", \"genebra\", \"genebra\", \"genebra\", \"gestao\", \"gloriar\", \"gloriar\", \"goulart\", \"grande\", \"grande\", \"grande\", \"grande\", \"grande\", \"grande\", \"grande\", \"gratuito\", \"gratuito\", \"gratuito\", \"grupo\", \"haddock\", \"haver\", \"haver\", \"heep\", \"higienopolis\", \"higienopolis\", \"higienopolis\", \"higienopolis\", \"higienopolis\", \"higienopolis\", \"historico\", \"historico\", \"historico\", \"historico\", \"honestidade\", \"horacio\", \"ibge\", \"iconico\", \"imediato\", \"imediato\", \"imediato\", \"imobiliarias\", \"imobiliario\", \"imobiliario\", \"imobiliario\", \"importancia\", \"importancia\", \"incluso\", \"incluso\", \"incluso\", \"incluso\", \"incluso\", \"indoor\", \"infantil\", \"infantil\", \"iniciar\", \"iniciar\", \"iniciar\", \"interessar\", \"interessar\", \"interessar\", \"interessar\", \"interessar\", \"interfone\", \"interfone\", \"interfone\", \"intermediacao\", \"intermediacoes\", \"intermediacoes\", \"inumeras\", \"inumeras\", \"inumeras\", \"inumeras\", \"investimento\", \"investimento\", \"investimento\", \"investimento\", \"iptu\", \"iptu\", \"iptu\", \"iptu\", \"iptu\", \"iptu\", \"iptu\", \"ir\", \"ir\", \"ir\", \"italiano\", \"italiano\", \"italiano\", \"italiano\", \"italiano\", \"jardim\", \"jardim\", \"jardim\", \"jardim\", \"jardim\", \"jardim\", \"jogo\", \"jogo\", \"jogo\", \"jogo\", \"juridica\", \"juridica\", \"juridica\", \"karibe\", \"kitchen\", \"lanche\", \"lanche\", \"lanche\", \"lanchonetes\", \"lanchonetes\", \"lanchonetes\", \"lanchonetes\", \"largar\", \"largar\", \"largar\", \"largar\", \"largar\", \"largar\", \"lavabo\", \"lavabo\", \"lavabo\", \"lavabo\", \"lavanderia\", \"lavanderia\", \"lavanderia\", \"lavanderia\", \"lavanderia\", \"lavanderia\", \"lazer\", \"lazer\", \"lazer\", \"lazer\", \"lazer\", \"lazer\", \"lazer\", \"leforte\", \"levi\", \"lgbt\", \"liberdade\", \"liberdade\", \"liberdade\", \"liberdade\", \"liberdade\", \"liberdade\", \"liberdade\", \"limite\", \"linha\", \"linha\", \"linha\", \"linha\", \"linha\", \"linha\", \"livro\", \"livro\", \"lobo\", \"locacoes\", \"local\", \"local\", \"local\", \"local\", \"local\", \"local\", \"localizacao\", \"localizacao\", \"localizacao\", \"localizacao\", \"localizacao\", \"localizacao\", \"localizacao\", \"localizar\", \"localizar\", \"localizar\", \"localizar\", \"localizar\", \"localizar\", \"localizar\", \"locomover\", \"logo\", \"logo\", \"long\", \"luzir\", \"luzir\", \"luzir\", \"luzir\", \"luzir\", \"luzir\", \"mansoes\", \"marinar\", \"mensal\", \"mensal\", \"mensal\", \"mensal\", \"mensal\", \"mensal\", \"mercar\", \"mercar\", \"mercar\", \"mercar\", \"mercar\", \"mercure\", \"metro\", \"metro\", \"metro\", \"metro\", \"metro\", \"metro\", \"metro\", \"microonda\", \"microonda\", \"microonda\", \"microonda\", \"milhar\", \"milliet\", \"min\", \"min\", \"min\", \"min\", \"mirante\", \"mirante\", \"mirante\", \"mobiliados\", \"mobiliados\", \"modernista\", \"modernista\", \"modernista\", \"morador\", \"morador\", \"morador\", \"morador\", \"morador\", \"morador\", \"morar\", \"morar\", \"morar\", \"morar\", \"morar\", \"morar\", \"morar\", \"movimentacao\", \"movimentacao\", \"municipio\", \"municipio\", \"municipio\", \"municipio\", \"nascer\", \"nativo\", \"natureza\", \"necessaria\", \"negociacao\", \"nivel\", \"nivel\", \"nome\", \"nome\", \"nome\", \"nome\", \"nome\", \"noroeste\", \"noturnas\", \"novo\", \"novo\", \"novo\", \"novo\", \"novo\", \"novo\", \"novo\", \"observar\", \"observar\", \"ocasionar\", \"oferecer\", \"oferecer\", \"oferecer\", \"oferecer\", \"oferecer\", \"oferecer\", \"oficial\", \"oficial\", \"onibus\", \"onibus\", \"onibus\", \"onibus\", \"onibus\", \"oswald\", \"otimas\", \"otimas\", \"otimas\", \"otimas\", \"outdoor\", \"pacote\", \"pacote\", \"pacote\", \"pacote\", \"pacote\", \"pago\", \"pago\", \"pago\", \"palacio\", \"paraiso\", \"paraiso\", \"paraiso\", \"paraiso\", \"parque\", \"parque\", \"parque\", \"parque\", \"parque\", \"parque\", \"parque\", \"partir\", \"partir\", \"partir\", \"partir\", \"partir\", \"partir\", \"partir\", \"passar\", \"passar\", \"passar\", \"passar\", \"passar\", \"paulista\", \"paulista\", \"paulista\", \"paulista\", \"paulista\", \"paulista\", \"paulista\", \"paulo\", \"paulo\", \"paulo\", \"paulo\", \"paulo\", \"paulo\", \"paulo\", \"peco\", \"peco\", \"personalizar\", \"personalizar\", \"pertencente\", \"pertencente\", \"pertencente\", \"perto\", \"perto\", \"perto\", \"perto\", \"perto\", \"perto\", \"pesquisar\", \"pesquisar\", \"piano\", \"piscina\", \"piscina\", \"piscina\", \"piscina\", \"piscina\", \"piscina\", \"pizza\", \"pizza\", \"pizzaria\", \"playground\", \"playground\", \"playground\", \"playground\", \"playground\", \"poder\", \"poder\", \"poder\", \"poder\", \"poder\", \"poder\", \"poder\", \"poliesportiva\", \"poliesportiva\", \"pontar\", \"pontar\", \"pontar\", \"pontar\", \"pontar\", \"pontar\", \"ponto\", \"ponto\", \"ponto\", \"ponto\", \"ponto\", \"ponto\", \"ponto\", \"portar\", \"portar\", \"portar\", \"portar\", \"portar\", \"possibilitar\", \"possibilitar\", \"possivel\", \"possivel\", \"possivel\", \"possivel\", \"possuia\", \"potenciar\", \"povoar\", \"preciso\", \"preciso\", \"preciso\", \"preciso\", \"predios\", \"predios\", \"predios\", \"predios\", \"preferir\", \"preferir\", \"preferir\", \"preferir\", \"preocupacoes\", \"preocupar\", \"preocupar\", \"preocupar\", \"preocupar\", \"preparar\", \"pretender\", \"primeiro\", \"primeiro\", \"primeiro\", \"primeiro\", \"primeiro\", \"principalmente\", \"principalmente\", \"principalmente\", \"producao\", \"programar\", \"programar\", \"projetados\", \"provir\", \"proximo\", \"proximo\", \"proximo\", \"proximo\", \"proximo\", \"proximo\", \"proximo\", \"proximos\", \"proximos\", \"proximos\", \"proximos\", \"proximos\", \"quality\", \"quente\", \"quente\", \"quesito\", \"quesito\", \"quot\", \"quot\", \"quot\", \"quot\", \"quot\", \"quot\", \"ramo\", \"raul\", \"razao\", \"realizar\", \"realizar\", \"realizar\", \"realizar\", \"recontar\", \"referir\", \"referir\", \"referir\", \"regiao\", \"regiao\", \"regiao\", \"regiao\", \"regiao\", \"regiao\", \"regiao\", \"regioes\", \"regioes\", \"regioes\", \"regioes\", \"regioes\", \"regioes\", \"restaurante\", \"restaurante\", \"restaurante\", \"restaurante\", \"restaurante\", \"restaurante\", \"reune\", \"reune\", \"reunem\", \"reunir\", \"riema\", \"rino\", \"rock\", \"rock\", \"rock\", \"ruir\", \"ruir\", \"ruir\", \"ruir\", \"ruir\", \"ruir\", \"ruir\", \"sabino\", \"safra\", \"salao_de_festas\", \"salao_de_festas\", \"salao_de_festas\", \"salao_de_festas\", \"salao_de_festas\", \"salao_de_festas\", \"samaritano\", \"samaritano\", \"sansiro\", \"santander\", \"santo\", \"santo\", \"santo\", \"santo\", \"santo\", \"santo\", \"sao\", \"sao\", \"sao\", \"sao\", \"sao\", \"sao\", \"sao\", \"seculo\", \"seculo\", \"seculo\", \"seculo\", \"seculo\", \"seguradora\", \"seguranca_24h\", \"seguranca_24h\", \"seguranca_24h\", \"seguranca_24h\", \"seguranca_24h\", \"segurar\", \"segurar\", \"segurar\", \"segurar\", \"segurar\", \"segurar\", \"servicos\", \"servicos\", \"servicos\", \"servicos\", \"servicos\", \"servicos\", \"setima\", \"sf\", \"sf\", \"shopping\", \"shopping\", \"shopping\", \"shopping\", \"shopping\", \"shopping\", \"show\", \"show\", \"sicred\", \"simbolica\", \"simbolicas\", \"similar\", \"similar\", \"similar\", \"sitiar\", \"situar\", \"situar\", \"situar\", \"situar\", \"situar\", \"situar\", \"solucao\", \"solucao\", \"solucao\", \"somar\", \"stay\", \"street\", \"sudoestar\", \"suite\", \"suite\", \"suite\", \"suite\", \"suite\", \"suite\", \"sujeitar\", \"sujeitar\", \"sujeitar\", \"sujeitar\", \"sujeitar\", \"surgir\", \"surgir\", \"sustentavel\", \"tal\", \"tambem\", \"tambem\", \"tambem\", \"tambem\", \"tambem\", \"tambem\", \"teatro\", \"teatro\", \"teatro\", \"teatro\", \"teatro\", \"teatro\", \"teatro\", \"telefone\", \"telefone\", \"telefone\", \"tematica\", \"tematico\", \"temporarias\", \"teoria\", \"terra\", \"terra\", \"tirar\", \"tirar\", \"tirar\", \"tirar\", \"tokio\", \"tornar\", \"tornar\", \"tornar\", \"tornar\", \"tornar\", \"total\", \"total\", \"total\", \"total\", \"total\", \"tradicao\", \"tradicao\", \"tradicao\", \"tradicao\", \"traduzir\", \"transitar\", \"transitar\", \"transitar\", \"transitar\", \"transparencia\", \"unidade\", \"unidade\", \"unidade\", \"unidade\", \"unidade\", \"usar\", \"usar\", \"usar\", \"usar\", \"usar\", \"usar\", \"vago\", \"vago\", \"vago\", \"vago\", \"vago\", \"vago\", \"vago\", \"variar\", \"variar\", \"variar\", \"variar\", \"variar\", \"variar\", \"vender\", \"vender\", \"vender\", \"vergueiro\", \"vergueiro\", \"vergueiro\", \"vergueiro\", \"versao\", \"vez\", \"visitar\", \"visitar\", \"visitar\", \"visto\", \"visto\", \"visto\", \"visto\", \"visto\", \"visto\", \"visto\", \"vizinhanca\", \"vizinhanca\", \"vizinhanca\", \"vizinhanca\", \"voce\", \"voce\", \"voce\", \"voce\", \"voce\", \"voce\", \"vovo\", \"wireless\", \"x\", \"x\", \"x\", \"zoologico\"]}, \"R\": 30, \"lambda.step\": 0.01, \"plot.opts\": {\"xlab\": \"PC1\", \"ylab\": \"PC2\"}, \"topic.order\": [4, 2, 7, 3, 1, 5, 6]};\n",
       "\n",
       "function LDAvis_load_lib(url, callback){\n",
       "  var s = document.createElement('script');\n",
       "  s.src = url;\n",
       "  s.async = true;\n",
       "  s.onreadystatechange = s.onload = callback;\n",
       "  s.onerror = function(){console.warn(\"failed to load library \" + url);};\n",
       "  document.getElementsByTagName(\"head\")[0].appendChild(s);\n",
       "}\n",
       "\n",
       "if(typeof(LDAvis) !== \"undefined\"){\n",
       "   // already loaded: just create the visualization\n",
       "   !function(LDAvis){\n",
       "       new LDAvis(\"#\" + \"ldavis_el2756017002400845448536599246\", ldavis_el2756017002400845448536599246_data);\n",
       "   }(LDAvis);\n",
       "}else if(typeof define === \"function\" && define.amd){\n",
       "   // require.js is available: use it to load d3/LDAvis\n",
       "   require.config({paths: {d3: \"https://d3js.org/d3.v5\"}});\n",
       "   require([\"d3\"], function(d3){\n",
       "      window.d3 = d3;\n",
       "      LDAvis_load_lib(\"https://cdn.jsdelivr.net/gh/bmabey/pyLDAvis@3.3.1/pyLDAvis/js/ldavis.v3.0.0.js\", function(){\n",
       "        new LDAvis(\"#\" + \"ldavis_el2756017002400845448536599246\", ldavis_el2756017002400845448536599246_data);\n",
       "      });\n",
       "    });\n",
       "}else{\n",
       "    // require.js not available: dynamically load d3 & LDAvis\n",
       "    LDAvis_load_lib(\"https://d3js.org/d3.v5.js\", function(){\n",
       "         LDAvis_load_lib(\"https://cdn.jsdelivr.net/gh/bmabey/pyLDAvis@3.3.1/pyLDAvis/js/ldavis.v3.0.0.js\", function(){\n",
       "                 new LDAvis(\"#\" + \"ldavis_el2756017002400845448536599246\", ldavis_el2756017002400845448536599246_data);\n",
       "            })\n",
       "         });\n",
       "}\n",
       "</script>"
      ],
      "text/plain": [
       "PreparedData(topic_coordinates=              x         y  topics  cluster       Freq\n",
       "topic                                                \n",
       "3     -0.118299 -0.112352       1        1  39.964717\n",
       "1     -0.093002 -0.081623       2        1  30.674324\n",
       "6     -0.200607  0.090766       3        1   9.345261\n",
       "2      0.072170 -0.080237       4        1   7.596184\n",
       "0      0.154317 -0.085307       5        1   6.110776\n",
       "4     -0.057127  0.163190       6        1   3.534956\n",
       "5      0.242548  0.105562       7        1   2.773783, topic_info=            Term         Freq        Total Category  logprob  loglift\n",
       "3       1_quarto  2412.000000  2412.000000  Default  30.0000  30.0000\n",
       "59        bairro  1045.000000  1045.000000  Default  29.0000  29.0000\n",
       "52     2000-3000  2188.000000  2188.000000  Default  28.0000  28.0000\n",
       "1306    gratuito   305.000000   305.000000  Default  27.0000  27.0000\n",
       "1      1500-2000   930.000000   930.000000  Default  26.0000  26.0000\n",
       "...          ...          ...          ...      ...      ...      ...\n",
       "576        santo    14.683591   321.386992   Topic7  -5.4989   0.4990\n",
       "357      centrar    14.332354   368.613752   Topic7  -5.5231   0.3377\n",
       "147       parque    13.792348   261.591790   Topic7  -5.5615   0.6423\n",
       "237     paulista    13.583764   546.039469   Topic7  -5.5767  -0.1089\n",
       "52     2000-3000    13.236944  2188.301869   Topic7  -5.6026  -1.5229\n",
       "\n",
       "[536 rows x 6 columns], token_table=      Topic      Freq       Term\n",
       "term                            \n",
       "0         1  0.419824          0\n",
       "0         2  0.526463          0\n",
       "0         3  0.002245          0\n",
       "0         4  0.011225          0\n",
       "0         5  0.014593          0\n",
       "...     ...       ...        ...\n",
       "2031      6  0.897469   wireless\n",
       "1010      4  0.330571          x\n",
       "1010      5  0.264457          x\n",
       "1010      7  0.363628          x\n",
       "1012      7  0.876425  zoologico\n",
       "\n",
       "[1395 rows x 3 columns], R=30, lambda_step=0.01, plot_opts={'xlab': 'PC1', 'ylab': 'PC2'}, topic_order=[4, 2, 7, 3, 1, 5, 6])"
      ]
     },
     "execution_count": 35,
     "metadata": {},
     "output_type": "execute_result"
    }
   ],
   "source": [
    "# Visualize the topics\n",
    "pyLDAvis.enable_notebook()\n",
    "vis3 = pyLDAvis.gensim_models.prepare(lda_model, corpus, id2word)\n",
    "vis3"
   ]
  },
  {
   "cell_type": "code",
   "execution_count": 36,
   "id": "e232cce4",
   "metadata": {},
   "outputs": [
    {
     "name": "stdout",
     "output_type": "stream",
     "text": [
      "<gensim.interfaces.TransformedCorpus object at 0x0000018BC9A094C0>\n"
     ]
    }
   ],
   "source": [
    "def Sort_Tuple(tup):   \n",
    "    tup.sort(key = lambda x: x[-1])   \n",
    "    return tup   \n",
    "\n",
    "doc_num, topic_num, prob = [], [], []\n",
    "print(lda_model.get_document_topics(corpus))\n",
    "for n in range(len(OLX1)):\n",
    "    get_document_topics = lda_model.get_document_topics(corpus[n])\n",
    "    doc_num.append(n)\n",
    "    sorted_doc_topics = Sort_Tuple(get_document_topics)\n",
    "    topic_num.append(sorted_doc_topics[0][0])\n",
    "    prob.append(sorted_doc_topics[0][1])\n",
    "OLX1['Doc'] = doc_num\n",
    "OLX1['Topic'] = topic_num\n",
    "OLX1['Probability'] = prob\n"
   ]
  },
  {
   "cell_type": "code",
   "execution_count": 37,
   "id": "11ffab1f",
   "metadata": {},
   "outputs": [],
   "source": [
    "import ipywidgets as widgets\n",
    "from IPython.display import display"
   ]
  },
  {
   "cell_type": "markdown",
   "id": "1debb268",
   "metadata": {},
   "source": [
    "#### FUNÇÃO DE RECOMENDAÇÃO"
   ]
  },
  {
   "cell_type": "code",
   "execution_count": 38,
   "id": "8218d800",
   "metadata": {},
   "outputs": [],
   "source": [
    "\n",
    "def recommend_by_storyline(n_id, df):\n",
    "    recommended = []\n",
    "    top10_list = []\n",
    "   \n",
    "    topic_num = df[df['ID']==n_id].Topic.values\n",
    "    doc_num = df[df['ID']==n_id].Doc.values \n",
    "     \n",
    "    output_df = df[df['Topic']==topic_num[0]].sort_values('Probability', ascending=False).reset_index(drop=True)\n",
    "    index = output_df[output_df['Doc']==doc_num[0]].index[0]\n",
    " \n",
    "    top10_list += list(output_df.iloc[index-15:index].index)\n",
    "    top10_list += list(output_df.iloc[index+1:index+16].index)\n",
    " \n",
    "    output_df['ID'] = output_df['ID'].str.title()\n",
    " \n",
    "    for each in top10_list:\n",
    "        recommended.append(output_df.iloc[each].ID)\n",
    " \n",
    "    return recommended"
   ]
  },
  {
   "cell_type": "code",
   "execution_count": 39,
   "id": "d2b66f49",
   "metadata": {},
   "outputs": [
    {
     "data": {
      "text/html": [
       "<div>\n",
       "<style scoped>\n",
       "    .dataframe tbody tr th:only-of-type {\n",
       "        vertical-align: middle;\n",
       "    }\n",
       "\n",
       "    .dataframe tbody tr th {\n",
       "        vertical-align: top;\n",
       "    }\n",
       "\n",
       "    .dataframe thead th {\n",
       "        text-align: right;\n",
       "    }\n",
       "</style>\n",
       "<table border=\"1\" class=\"dataframe\">\n",
       "  <thead>\n",
       "    <tr style=\"text-align: right;\">\n",
       "      <th></th>\n",
       "      <th>ID</th>\n",
       "      <th>TITULO</th>\n",
       "      <th>LINK</th>\n",
       "      <th>AREA</th>\n",
       "      <th>QUARTOS</th>\n",
       "      <th>BANHEIROS</th>\n",
       "      <th>VAGA</th>\n",
       "      <th>DESC_1</th>\n",
       "      <th>DESC_2</th>\n",
       "      <th>IPTU</th>\n",
       "      <th>COND</th>\n",
       "      <th>IMOBILIARIA</th>\n",
       "      <th>VALOR</th>\n",
       "      <th>CEP</th>\n",
       "      <th>Doc</th>\n",
       "      <th>Topic</th>\n",
       "      <th>Probability</th>\n",
       "      <th>PONT</th>\n",
       "    </tr>\n",
       "  </thead>\n",
       "  <tbody>\n",
       "    <tr>\n",
       "      <th>0</th>\n",
       "      <td>id-944660349</td>\n",
       "      <td>apartamento 1 dorm 1 vaga 44m2 campos eiiseos</td>\n",
       "      <td>https://sp.olx.com.br/sao-paulo-e-regiao/imove...</td>\n",
       "      <td>44.0</td>\n",
       "      <td>1</td>\n",
       "      <td>1</td>\n",
       "      <td>1</td>\n",
       "      <td>0</td>\n",
       "      <td>codigo do anuncio ed5170 apartamento 1 dormito...</td>\n",
       "      <td>0</td>\n",
       "      <td>506.0</td>\n",
       "      <td>edge empreendimentos imobiliarios ltda</td>\n",
       "      <td>1350.0</td>\n",
       "      <td>1204001.0</td>\n",
       "      <td>0</td>\n",
       "      <td>2</td>\n",
       "      <td>0.038714</td>\n",
       "      <td>0</td>\n",
       "    </tr>\n",
       "  </tbody>\n",
       "</table>\n",
       "</div>"
      ],
      "text/plain": [
       "             ID                                         TITULO  \\\n",
       "0  id-944660349  apartamento 1 dorm 1 vaga 44m2 campos eiiseos   \n",
       "\n",
       "                                                LINK  AREA  QUARTOS  \\\n",
       "0  https://sp.olx.com.br/sao-paulo-e-regiao/imove...  44.0        1   \n",
       "\n",
       "   BANHEIROS  VAGA DESC_1                                             DESC_2  \\\n",
       "0          1     1      0  codigo do anuncio ed5170 apartamento 1 dormito...   \n",
       "\n",
       "   IPTU   COND                             IMOBILIARIA   VALOR        CEP  \\\n",
       "0     0  506.0  edge empreendimentos imobiliarios ltda  1350.0  1204001.0   \n",
       "\n",
       "   Doc  Topic  Probability  PONT  \n",
       "0    0      2     0.038714     0  "
      ]
     },
     "execution_count": 39,
     "metadata": {},
     "output_type": "execute_result"
    }
   ],
   "source": [
    "OLX1_N = OLX1\n",
    "colunas_1 = ['ID', 'TITULO', 'LINK', 'AREA', 'QUARTO', 'BANHEIRO','VAGA','DESC_1','DESC_2','IPTU','COND','ENDERECO','IMOBILIARIA','VALOR', 'CEP', 'FAIXAS', 'ORIGEM']\n",
    "lista = ['list_id','title', 'link', 'size', 'rooms','bathrooms','garage_spaces','apartment_features', 'desc', 'iptu', 'condominio','sellername','price','zipcode', 'Doc', 'Topic', 'Probability']\n",
    "OLX1_N = OLX1_N[lista]\n",
    "OLX1_N = OLX1_N.rename(columns = {'list_id':\"ID\",'title':\"TITULO\", 'link':'LINK', 'size':\"AREA\", 'rooms':\"QUARTOS\",'bathrooms':\"BANHEIROS\",'garage_spaces':\"VAGA\",'apartment_features':\"DESC_1\",'desc':\"DESC_2\",'iptu':\"IPTU\", 'condominio':\"COND\",'sellername':\"IMOBILIARIA\",'price':\"VALOR\",'zipcode':\"CEP\"})\n",
    "\n",
    "NID = []\n",
    "for index, row in OLX1_N.iterrows():\n",
    "    NID.append('id-'+ str(row['ID']))\n",
    "OLX1_N['ID'] = NID\n",
    "OLX1_N['PONT'] = 0\n",
    "OLX1_N.head(1)\n"
   ]
  },
  {
   "cell_type": "code",
   "execution_count": 42,
   "id": "2eaa7b16",
   "metadata": {},
   "outputs": [],
   "source": [
    "#print(recommend_by_storyline('id-919650400',OLX1_N))"
   ]
  },
  {
   "cell_type": "code",
   "execution_count": 43,
   "id": "902c0487",
   "metadata": {},
   "outputs": [],
   "source": [
    "import ipywidgets as widgets\n",
    "from IPython.display import display"
   ]
  },
  {
   "cell_type": "code",
   "execution_count": null,
   "id": "9ef5dad6",
   "metadata": {},
   "outputs": [],
   "source": [
    "global ids\n",
    "ids2 = ''\n",
    "doc_selec = ''\n",
    "doc_list = []\n",
    "for d in range(len(lda_model.print_topics())):\n",
    "    doc_list.append(d)\n",
    "\n",
    "    \n",
    "if doc_selec == '':\n",
    "    doc_selec = np.random.choice(doc_list)\n",
    "\n",
    "    \n",
    "ids = np.random.choice(OLX1_N[OLX1_N['Topic']==doc_selec].ID.values) \n",
    "\n",
    "\n",
    "OLX1_N2 = OLX1_N.loc[OLX1_N['ID'] == ids]\n",
    "\n",
    "button1 = widgets.Button(description=\"CURTIR\")\n",
    "button2 = widgets.Button(description=\"PROXIMO\")\n",
    "\n",
    "output = widgets.Output()\n",
    "\n",
    "\n",
    "display(button1,button2, output, OLX1_N2)\n",
    "webbrowser.open(OLX1_N2['LINK'].values[0], new=2)\n",
    "\n",
    "\n",
    "def on_button_clicked1(button1):\n",
    "    with output:\n",
    "        output.clear_output()\n",
    "        global ids2\n",
    "        if len(ids2) == 0:\n",
    "            ids2 = ids\n",
    "        \n",
    "        OLX1_N['PONT'][OLX1_N['ID'] == str(ids2)] = OLX1_N['PONT'][OLX1_N['ID'] == str(ids2)]+1\n",
    "        ids2 = str(np.random.choice(recommend_by_storyline(ids,OLX1_N)).lower())\n",
    "        OLX1_N2 = OLX1_N.loc[OLX1_N['ID'] == ids2]\n",
    "        print(\"Curtiu\")   \n",
    "        webbrowser.open(OLX1_N2['LINK'].values[0], new=2)\n",
    "        display(OLX1_N2)\n",
    "        \n",
    "        \n",
    "\n",
    "def on_button_clicked2(button2):\n",
    "    with output:\n",
    "        doc_selec2 = doc_selec\n",
    "        output.clear_output()\n",
    "        doc_list2 = list(filter(lambda a: a != doc_selec2, doc_list))\n",
    "        doc_selec2 = np.random.choice(doc_list2)\n",
    "        ids = np.random.choice(OLX1_N[OLX1_N['Topic']==doc_selec2].ID.values)\n",
    "        OLX1_N2 = OLX1_N.loc[OLX1_N['ID'] == str(ids)]\n",
    "        print(\"Não Curtiu \" + str(doc_selec2))\n",
    "        webbrowser.open(OLX1_N2['LINK'].values[0], new=2)\n",
    "        display(OLX1_N2)\n",
    "        \n",
    "       \n",
    "        \n",
    "button1.on_click(on_button_clicked1)\n",
    "button2.on_click(on_button_clicked2)"
   ]
  },
  {
   "cell_type": "markdown",
   "id": "77122ddb",
   "metadata": {},
   "source": [
    "<img src=./img/app1.jpg width=\"1200\" />"
   ]
  }
 ],
 "metadata": {
  "kernelspec": {
   "display_name": "Python 3.8.16 64-bit ('Anaconda3')",
   "language": "python",
   "name": "python3"
  },
  "language_info": {
   "codemirror_mode": {
    "name": "ipython",
    "version": 3
   },
   "file_extension": ".py",
   "mimetype": "text/x-python",
   "name": "python",
   "nbconvert_exporter": "python",
   "pygments_lexer": "ipython3",
   "version": "3.8.16"
  },
  "vscode": {
   "interpreter": {
    "hash": "809bf3cb40558a57fdf8e1d5c88b4d8645e43317530673dfc5c6aa3a17a141e7"
   }
  }
 },
 "nbformat": 4,
 "nbformat_minor": 5
}
