{
 "cells": [
  {
   "cell_type": "code",
   "execution_count": 1,
   "id": "840f6694-79ac-4d36-8261-eb68fa7f8080",
   "metadata": {},
   "outputs": [],
   "source": [
    "import pandas as pd\n",
    "import numpy as np\n",
    "import re\n",
    "import time\n",
    "from datetime import datetime\n",
    "import random\n",
    "import math\n",
    "from collections import defaultdict\n",
    "\n",
    "import json\n",
    "import tqdm\n",
    "import os\n",
    "\n",
    "import matplotlib.pyplot as plt\n",
    "from matplotlib import cm as cmap\n",
    "import seaborn as sns\n",
    "\n",
    "import folium\n",
    "import folium.plugins\n",
    "\n",
    "import branca\n",
    "import branca.colormap as cm\n",
    "\n",
    "import warnings\n",
    "warnings.filterwarnings(\"ignore\")\n",
    "\n",
    "%config Completer.use_jedi = False\n",
    "sns.set()\n",
    "plt.style.use('seaborn-whitegrid')\n",
    "plt.rcParams['axes.grid'] = True"
   ]
  },
  {
   "cell_type": "code",
   "execution_count": 3,
   "id": "e09b4bae-52ef-48ff-9175-b1bea0e730b0",
   "metadata": {},
   "outputs": [],
   "source": [
    "path = './data/03_cleaned_df/'\n",
    "\n",
    "# Nome dos arquivos dentro do diretorio acima (raw_df)\n",
    "filenames = os.listdir(path)\n",
    "\n",
    "# Dataframe dos dados sem tratamento\n",
    "df = pd.read_csv(path + filenames[-1], sep='|') # -1 para pegar o ultimo dataframe adquirido"
   ]
  },
  {
   "cell_type": "markdown",
   "id": "2f4461f6-f2cf-41aa-a4fe-d310544341f6",
   "metadata": {},
   "source": [
    "# Criando coluna com a padrão do bairro (alta, média ou baixa)"
   ]
  },
  {
   "cell_type": "code",
   "execution_count": 4,
   "id": "3c8bce7f-9704-4eb7-a602-5384119011a4",
   "metadata": {},
   "outputs": [
    {
     "data": {
      "text/plain": [
       "bairro\n",
       "morro dos ingleses               4822.923077\n",
       "santa cecilia                    3940.500000\n",
       "varzea da barra funda            3600.000000\n",
       "consolacao                       3283.808118\n",
       "parque industrial tomas edson    2912.142857\n",
       "aclimacao                        2570.000000\n",
       "barra funda                      2524.922330\n",
       "bela vista                       2485.918864\n",
       "santa efigenia                   2449.875000\n",
       "belenzinho                       2225.620690\n",
       "republica                        2103.272727\n",
       "cambuci                          2080.034247\n",
       "se                               2040.064516\n",
       "centro                           2000.892857\n",
       "bom retiro                       1907.238095\n",
       "vila buarque                     1899.923077\n",
       "vila deodoro                     1837.500000\n",
       "liberdade                        1688.247423\n",
       "campos eliseos                   1518.682927\n",
       "luz                              1500.307692\n",
       "Name: price, dtype: float64"
      ]
     },
     "execution_count": 4,
     "metadata": {},
     "output_type": "execute_result"
    }
   ],
   "source": [
    "bairros = df.groupby('bairro').mean()['price'].sort_values(ascending=False)\n",
    "bairros"
   ]
  },
  {
   "cell_type": "code",
   "execution_count": 5,
   "id": "b4daab83-f8d7-4df1-9e58-8ce822c4fe1c",
   "metadata": {},
   "outputs": [
    {
     "data": {
      "text/html": [
       "<div>\n",
       "<style scoped>\n",
       "    .dataframe tbody tr th:only-of-type {\n",
       "        vertical-align: middle;\n",
       "    }\n",
       "\n",
       "    .dataframe tbody tr th {\n",
       "        vertical-align: top;\n",
       "    }\n",
       "\n",
       "    .dataframe thead th {\n",
       "        text-align: right;\n",
       "    }\n",
       "</style>\n",
       "<table border=\"1\" class=\"dataframe\">\n",
       "  <thead>\n",
       "    <tr style=\"text-align: right;\">\n",
       "      <th></th>\n",
       "      <th>bairro</th>\n",
       "      <th>padrao_bairro</th>\n",
       "    </tr>\n",
       "  </thead>\n",
       "  <tbody>\n",
       "    <tr>\n",
       "      <th>0</th>\n",
       "      <td>campos eliseos</td>\n",
       "      <td>1.0</td>\n",
       "    </tr>\n",
       "    <tr>\n",
       "      <th>1</th>\n",
       "      <td>aclimacao</td>\n",
       "      <td>3.0</td>\n",
       "    </tr>\n",
       "    <tr>\n",
       "      <th>2</th>\n",
       "      <td>aclimacao</td>\n",
       "      <td>3.0</td>\n",
       "    </tr>\n",
       "    <tr>\n",
       "      <th>3</th>\n",
       "      <td>cambuci</td>\n",
       "      <td>2.0</td>\n",
       "    </tr>\n",
       "    <tr>\n",
       "      <th>4</th>\n",
       "      <td>cambuci</td>\n",
       "      <td>2.0</td>\n",
       "    </tr>\n",
       "    <tr>\n",
       "      <th>...</th>\n",
       "      <td>...</td>\n",
       "      <td>...</td>\n",
       "    </tr>\n",
       "    <tr>\n",
       "      <th>2166</th>\n",
       "      <td>vila buarque</td>\n",
       "      <td>1.0</td>\n",
       "    </tr>\n",
       "    <tr>\n",
       "      <th>2167</th>\n",
       "      <td>republica</td>\n",
       "      <td>2.0</td>\n",
       "    </tr>\n",
       "    <tr>\n",
       "      <th>2168</th>\n",
       "      <td>bela vista</td>\n",
       "      <td>2.0</td>\n",
       "    </tr>\n",
       "    <tr>\n",
       "      <th>2169</th>\n",
       "      <td>campos eliseos</td>\n",
       "      <td>1.0</td>\n",
       "    </tr>\n",
       "    <tr>\n",
       "      <th>2170</th>\n",
       "      <td>bela vista</td>\n",
       "      <td>2.0</td>\n",
       "    </tr>\n",
       "  </tbody>\n",
       "</table>\n",
       "<p>2171 rows × 2 columns</p>\n",
       "</div>"
      ],
      "text/plain": [
       "              bairro  padrao_bairro\n",
       "0     campos eliseos            1.0\n",
       "1          aclimacao            3.0\n",
       "2          aclimacao            3.0\n",
       "3            cambuci            2.0\n",
       "4            cambuci            2.0\n",
       "...              ...            ...\n",
       "2166    vila buarque            1.0\n",
       "2167       republica            2.0\n",
       "2168      bela vista            2.0\n",
       "2169  campos eliseos            1.0\n",
       "2170      bela vista            2.0\n",
       "\n",
       "[2171 rows x 2 columns]"
      ]
     },
     "execution_count": 5,
     "metadata": {},
     "output_type": "execute_result"
    }
   ],
   "source": [
    "bairros = df.groupby('bairro').mean()['price'].sort_values(ascending=False)\n",
    "\n",
    "split = 3 # Numeros de grupos \n",
    "n = len(bairros) // split # Tamanho de cada grupo\n",
    "\n",
    "bairros[:n] = 3 # Classe alta\n",
    "bairros[n:n*2] = 2 # Classe média\n",
    "bairros[n*2:] = 1 # Classe baixa\n",
    "\n",
    "df['padrao_bairro'] = df.replace({\"bairro\": bairros.to_dict()})['bairro']\n",
    "df[['bairro', 'padrao_bairro']]"
   ]
  },
  {
   "cell_type": "markdown",
   "id": "85640bc2-8b50-4a38-a13f-3861298d42b3",
   "metadata": {},
   "source": [
    "# Preço Total (feature `price` + `condominio`)"
   ]
  },
  {
   "cell_type": "code",
   "execution_count": 7,
   "id": "a8e53642-9b95-47d8-af55-3d1bceb7b867",
   "metadata": {},
   "outputs": [],
   "source": [
    "df['price_total'] = df['price'] + df['condominio']"
   ]
  },
  {
   "cell_type": "markdown",
   "id": "d239c098-dccf-471b-9694-812d78568c3d",
   "metadata": {},
   "source": [
    "# Encoding o bairro"
   ]
  },
  {
   "cell_type": "code",
   "execution_count": 8,
   "id": "55f4c17f-42cd-46ce-9207-e225e299cdae",
   "metadata": {},
   "outputs": [],
   "source": [
    "# df = pd.concat([df.drop('bairro', axis=1), pd.get_dummies(df['bairro'], drop_first=True)], axis=1) # get_dummies da feature bairro\n",
    "df = pd.concat([df, pd.get_dummies(df['bairro'], drop_first=True)], axis=1) # get_dummies da feature bairro modelo riobson"
   ]
  },
  {
   "cell_type": "markdown",
   "id": "07882450-42ae-46a0-8322-5dc4dbb91a66",
   "metadata": {},
   "source": [
    "# Tratamento das variaveis categoricas para o LSI & LDA"
   ]
  },
  {
   "cell_type": "code",
   "execution_count": 9,
   "id": "8711ad5d-37ec-4627-a37b-313e7627f40a",
   "metadata": {},
   "outputs": [],
   "source": [
    "df_olx = df.copy() # Duplicando o dataframe para salvar separadamente"
   ]
  },
  {
   "cell_type": "code",
   "execution_count": 10,
   "id": "52b4b027-eec5-45a0-919d-932999a699af",
   "metadata": {},
   "outputs": [
    {
     "name": "stdout",
     "output_type": "stream",
     "text": [
      "area_de_servico, permitido_animais, 2_quarto, 79.99999999999997_area, 2_banheiro, 1_vaga, aclimacao\n"
     ]
    }
   ],
   "source": [
    "desc_1 = []\n",
    "desc_1b = []\n",
    "df_olx['apartment_features'].fillna('', inplace = True)\n",
    "df_olx['apartment_complex_features'].fillna('', inplace = True)\n",
    "df_olx['garage_spaces'].fillna(0, inplace = True)\n",
    "\n",
    "for index, row in df_olx.iterrows():\n",
    "    if (row['apartment_complex_features'] != ''):\n",
    "        desc_1.append (str(row['apartment_features']).replace(' ','_').replace(',_',', ')+ ', '+ str(row['apartment_complex_features']).replace(' ','_').replace(',_',',')\\\n",
    "        + ', ' + str(row['rooms'])+'_quarto'\\\n",
    "        + ', ' + str(row['size'])+'_area'\\\n",
    "        + ', ' + str(row['bathrooms'])+'_banheiro'\\\n",
    "        + ', ' + str(row['garage_spaces'])+'_vaga'\\\n",
    "        + ', ' + str(row['bairro']))\n",
    "                      \n",
    "    else:\n",
    "        if (row['apartment_features'] != ''):\n",
    "            desc_1.append (str(row['apartment_features']).replace(' ','_').replace(',_',', ')\\\n",
    "            + ', ' + str(row['rooms'])+'_quarto'\\\n",
    "            + ', ' + str(row['size'])+'_area'\\\n",
    "            + ', ' + str(row['bathrooms'])+'_banheiro'\\\n",
    "            + ', ' + str(row['garage_spaces'])+'_vaga'\\\n",
    "            + ', ' + str(row['bairro']))\n",
    "            \n",
    "        else:\n",
    "            desc_1.append(str(row['rooms'])+'_quarto'\\\n",
    "            + ', ' + str(row['rooms'])+'_quarto'\\\n",
    "            + ', ' + str(row['size'])+'_area'\\\n",
    "            + ', ' + str(row['bathrooms'])+'_banheiro'\\\n",
    "             + ', ' + str(row['garage_spaces'])+'_vaga'\\\n",
    "        + ', ' + str(row['bairro']))\n",
    "df_olx['DESC_3'] = desc_1\n",
    "print(desc_1[1])"
   ]
  },
  {
   "cell_type": "markdown",
   "id": "cd5c160d-d5fb-48ac-8bf8-f0083bd4d39b",
   "metadata": {},
   "source": [
    "## Dropando colunas e preparando os dataframes para os modelos lda e rf"
   ]
  },
  {
   "cell_type": "code",
   "execution_count": 11,
   "id": "e217e4ed-05c9-4a79-8e44-d8aeecfad2e9",
   "metadata": {},
   "outputs": [],
   "source": [
    "# Dropando colunas e preparando o dataframe para o rf\n",
    "cols_df1 = ['title', 'logradouro', 'latitude', \\\n",
    "        'longitude', 'zipcode', 'source_x', 'altitude', 'sellername', 'state', 'region', 'complemento', \\\n",
    "        'bairro', 'apartment_complex_features_rf',\n",
    "       'apartment_features_rf', 'apartment_complex_features', 'apartment_features', 'desc', 'iptu']\n",
    "\n",
    "df_rf = df.drop(cols_df1, axis=1) # Dataframe modificado para o rf\n",
    "df_rf = df_rf[~df_rf['list_id'].duplicated(keep='first')] # Dropando as colunas duplicadas"
   ]
  },
  {
   "cell_type": "code",
   "execution_count": 12,
   "id": "8d4de69e-68a1-48c5-9e26-f422963d54a8",
   "metadata": {},
   "outputs": [],
   "source": [
    "cols = ['list_id', 'link', 'title', 'price', 'condominio', 'rooms', 'bathrooms',\n",
    "       'garage_spaces', 'size', 'sellername', 'desc', 'apartment_features',\n",
    "       'pictures', 'apartment_complex_features', 'zipcode', 'state', 'region', 'bairro', \n",
    "        'logradouro', 'DESC_3', 'iptu']\n",
    "\n",
    "df_lda = df_olx[cols]\n",
    "df_lda = df_lda[~df_lda['list_id'].duplicated(keep='first')] # Dropando as colunas duplicadas"
   ]
  },
  {
   "cell_type": "code",
   "execution_count": 13,
   "id": "ff130634-3b58-45b5-9961-5945a2fd8d07",
   "metadata": {},
   "outputs": [],
   "source": [
    "# Salvando os dfs\n",
    "now = datetime.now().strftime(\"%Y-%m-%d_%H%M%S\") # Data e horario\n",
    "df_rf.to_csv(f'./data/04_feat_eng_df/feat_end_df_{now}_rf.csv', sep='|',  index=False) # Cria o dataframe rf\n",
    "df_lda.to_csv(f'./data/04_feat_eng_df/feat_end_df_{now}_lda.csv', sep='|',  index=False) # Cria o dataframe lda"
   ]
  }
 ],
 "metadata": {
  "kernelspec": {
   "display_name": "Python 3.8.16 64-bit ('Anaconda3')",
   "language": "python",
   "name": "python3"
  },
  "language_info": {
   "codemirror_mode": {
    "name": "ipython",
    "version": 3
   },
   "file_extension": ".py",
   "mimetype": "text/x-python",
   "name": "python",
   "nbconvert_exporter": "python",
   "pygments_lexer": "ipython3",
   "version": "3.8.16"
  },
  "vscode": {
   "interpreter": {
    "hash": "809bf3cb40558a57fdf8e1d5c88b4d8645e43317530673dfc5c6aa3a17a141e7"
   }
  }
 },
 "nbformat": 4,
 "nbformat_minor": 5
}
