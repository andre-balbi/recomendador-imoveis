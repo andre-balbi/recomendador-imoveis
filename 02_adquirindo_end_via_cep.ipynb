{
 "cells": [
  {
   "cell_type": "code",
   "execution_count": 5,
   "id": "ffa3a168-553b-4b68-9fc2-7bafdd18fede",
   "metadata": {},
   "outputs": [],
   "source": [
    "import pandas as pd\n",
    "import numpy as np\n",
    "import re\n",
    "import time\n",
    "from datetime import datetime\n",
    "from unidecode import unidecode\n",
    "\n",
    "import pycep_correios as pycep\n",
    "\n",
    "import requests as rq\n",
    "import bs4\n",
    "import json\n",
    "import tqdm\n",
    "import glob\n",
    "import os\n",
    "\n",
    "import warnings\n",
    "warnings.filterwarnings(\"ignore\")\n",
    "\n",
    "%config Completer.use_jedi = False"
   ]
  },
  {
   "cell_type": "markdown",
   "id": "c4f88d3a-3bba-4648-a4bf-92fc426a5252",
   "metadata": {},
   "source": [
    "# Lendo o arquivo"
   ]
  },
  {
   "cell_type": "code",
   "execution_count": 6,
   "id": "e4c00549-b0a7-42c1-9659-5ab9b2f260be",
   "metadata": {},
   "outputs": [],
   "source": [
    "path = './data/01_raw_df/'\n",
    "\n",
    "# Nome dos arquivos dentro do diretorio acima (raw_df)\n",
    "filenames = os.listdir(path)\n",
    "\n",
    "# Dataframe dos dados sem tratamento \n",
    "df = pd.read_csv(path + filenames[-1], sep='|') # -1 para pegar o ultimo dataframe adquirido\n",
    "# Dataframe dos dados ja adquiridos\n",
    "cep_df= pd.read_json(f'./03_parsed_ceps/parsed_cep_details.json', lines=True).dropna(how= 'all')\n",
    "cep_df=cep_df.rename(columns = {'cep': 'zipcode'})\n",
    "\n",
    "sem_cep = df['zipcode'].isnull().sum()"
   ]
  },
  {
   "cell_type": "markdown",
   "id": "ba99a53b-ede9-4dd7-83d9-4541b0577620",
   "metadata": {},
   "source": [
    "## Itens sem CEP"
   ]
  },
  {
   "cell_type": "code",
   "execution_count": 7,
   "id": "141e7f2f-8eb5-4c98-a6d8-b9054a48b776",
   "metadata": {},
   "outputs": [
    {
     "name": "stdout",
     "output_type": "stream",
     "text": [
      "Quantidade de itens sem CEP: 85\n"
     ]
    }
   ],
   "source": [
    "print('Quantidade de itens sem CEP:', sem_cep)"
   ]
  },
  {
   "cell_type": "markdown",
   "id": "a52cc07c-8bfb-4332-81e4-2cf14cea8ed6",
   "metadata": {},
   "source": [
    "# Adquirindo dados do endereço via API www.cepaberto.com"
   ]
  },
  {
   "cell_type": "code",
   "execution_count": 8,
   "id": "9991d24f-ad54-4dc7-b4f5-e15697cce828",
   "metadata": {},
   "outputs": [],
   "source": [
    "# Selecionando apenas os itens com CEP\n",
    "df_temp = df[df['zipcode'].notna()]\n",
    "\n",
    "# Usando a API: https://www.cepaberto.com/\n",
    "# Ref https://github.com/edumucelli/cepaberto-api-examples/blob/master/api/v3/api.py\n",
    "token = \"262cd9ff6f7507bf4030953c5da76e79\"\n",
    "headers = {'Authorization': 'Token token=%s' % token}\n",
    "\n",
    "def geoloc_by_cep(cep):\n",
    "    cep = str(int(cep)).zfill(8) # Preenchendo zeros a esquerda para o formato CEP\n",
    "    url = f'https://www.cepaberto.com/api/v3/cep?cep={cep}'\n",
    "    response = rq.get(url, headers=headers)\n",
    "    time.sleep(1)\n",
    "    return response.json()"
   ]
  },
  {
   "cell_type": "code",
   "execution_count": 11,
   "id": "90c3e7ef-08cf-4a12-a42a-df4d7efab4ea",
   "metadata": {},
   "outputs": [
    {
     "data": {
      "text/plain": [
       "{'altitude': 760.0,\n",
       " 'cep': '01323020',\n",
       " 'latitude': '-23.5350399951',\n",
       " 'longitude': '-46.6501372767',\n",
       " 'logradouro': 'Rua João Julião',\n",
       " 'bairro': 'Bela Vista',\n",
       " 'cidade': {'ddd': 11, 'ibge': '3550308', 'nome': 'São Paulo'},\n",
       " 'estado': {'sigla': 'SP'}}"
      ]
     },
     "execution_count": 11,
     "metadata": {},
     "output_type": "execute_result"
    }
   ],
   "source": [
    "geoloc_by_cep(1323020) # Exemplo de output"
   ]
  },
  {
   "cell_type": "code",
   "execution_count": 10,
   "id": "30f2cb53-fa34-460c-86f3-4cee79b7cf16",
   "metadata": {
    "scrolled": true,
    "tags": []
   },
   "outputs": [
    {
     "name": "stdout",
     "output_type": "stream",
     "text": [
      "quantidade de ceps para adquirir: 44\n"
     ]
    },
    {
     "data": {
      "application/vnd.jupyter.widget-view+json": {
       "model_id": "e97c2174079547059e65d48dd634aa65",
       "version_major": 2,
       "version_minor": 0
      },
      "text/plain": [
       "  0%|          | 0/44 [00:00<?, ?it/s]"
      ]
     },
     "metadata": {},
     "output_type": "display_data"
    },
    {
     "name": "stdout",
     "output_type": "stream",
     "text": [
      "CEP 1307010 não encontrado \n",
      "\n",
      "CEP: 1323020\n",
      "{'altitude': 760.0, 'cep': '01323020', 'latitude': '-23.5350399951', 'longitude': '-46.6501372767', 'logradouro': 'Rua João Julião', 'bairro': 'Bela Vista', 'cidade': {'ddd': 11, 'ibge': '3550308', 'nome': 'São Paulo'}, 'estado': {'sigla': 'SP'}} \n",
      "\n",
      "CEP: 1046925\n",
      "{'altitude': 760.0, 'cep': '01046925', 'latitude': '-23.548', 'longitude': '-46.6388470922', 'logradouro': 'Avenida Ipiranga 200', 'bairro': 'República', 'cidade': {'ddd': 11, 'ibge': '3550308', 'nome': 'São Paulo'}, 'estado': {'sigla': 'SP'}} \n",
      "\n",
      "CEP: 1330060\n",
      "{'altitude': 760.0, 'cep': '01330060', 'latitude': '-23.5343199959', 'longitude': '-46.6210773202', 'logradouro': 'Rua Una', 'bairro': 'Bela Vista', 'cidade': {'ddd': 11, 'ibge': '3550308', 'nome': 'São Paulo'}, 'estado': {'sigla': 'SP'}} \n",
      "\n",
      "CEP: 1136030\n",
      "{'altitude': 760.0, 'cep': '01136030', 'latitude': '-23.548', 'longitude': '-46.6413014861', 'logradouro': 'Rua Gaspar Ricardo Júnior', 'bairro': 'Barra Funda', 'cidade': {'ddd': 11, 'ibge': '3550308', 'nome': 'São Paulo'}, 'estado': {'sigla': 'SP'}} \n",
      "\n",
      "CEP: 1120030\n",
      "{'altitude': 760.0, 'cep': '01120030', 'latitude': '-23.548', 'longitude': '-46.6400252012', 'logradouro': 'Parque da Luz', 'bairro': 'Bom Retiro', 'cidade': {'ddd': 11, 'ibge': '3550308', 'nome': 'São Paulo'}, 'estado': {'sigla': 'SP'}} \n",
      "\n",
      "CEP: 1012001\n",
      "{'altitude': 760.0, 'cep': '01012001', 'latitude': '-23.5473699958', 'longitude': '-46.6353127669', 'logradouro': 'Rua Álvares Penteado', 'bairro': 'Centro', 'complemento': '- lado ímpar', 'cidade': {'ddd': 11, 'ibge': '3550308', 'nome': 'São Paulo'}, 'estado': {'sigla': 'SP'}} \n",
      "\n",
      "CEP: 1526050\n",
      "{'altitude': 760.0, 'cep': '01526050', 'latitude': '-23.5689700097', 'longitude': '-46.6131250989', 'logradouro': 'Rua Dom Raimundo Brito', 'bairro': 'Aclimação', 'cidade': {'ddd': 11, 'ibge': '3550308', 'nome': 'São Paulo'}, 'estado': {'sigla': 'SP'}} \n",
      "\n",
      "CEP: 1508900\n",
      "{'altitude': 737.0, 'cep': '01508900', 'latitude': '-23.548', 'longitude': '-46.6145977351', 'logradouro': 'Rua São Joaquim 381', 'bairro': 'Liberdade', 'cidade': {'ddd': 11, 'ibge': '3550308', 'nome': 'São Paulo'}, 'estado': {'sigla': 'SP'}} \n",
      "\n",
      "CEP: 1308070\n",
      "{'altitude': 760.0, 'cep': '01308070', 'latitude': '-23.5364799938', 'longitude': '-46.6485664702', 'logradouro': 'Rua Engenheiro Monlevade', 'bairro': 'Bela Vista', 'cidade': {'ddd': 11, 'ibge': '3550308', 'nome': 'São Paulo'}, 'estado': {'sigla': 'SP'}} \n",
      "\n",
      "CEP: 1520040\n",
      "{'altitude': 760.0, 'cep': '01520040', 'latitude': '-23.548', 'longitude': '-46.6135178025', 'logradouro': 'Rua Piquerobi', 'bairro': 'Cambuci', 'cidade': {'ddd': 11, 'ibge': '3550308', 'nome': 'São Paulo'}, 'estado': {'sigla': 'SP'}} \n",
      "\n",
      "CEP: 3163050\n",
      "{'altitude': 760.0, 'cep': '03163050', 'latitude': '-23.6825500149', 'longitude': '-46.4892276173', 'logradouro': 'Praça Barão de Tietê', 'bairro': 'Belenzinho', 'cidade': {'ddd': 11, 'ibge': '3550308', 'nome': 'São Paulo'}, 'estado': {'sigla': 'SP'}} \n",
      "\n",
      "CEP: 1535020\n",
      "{'altitude': 760.0, 'cep': '01535020', 'latitude': '-23.5262199951', 'longitude': '-46.6597584753', 'logradouro': 'Rua Batista do Carmo', 'bairro': 'Cambuci', 'cidade': {'ddd': 11, 'ibge': '3550308', 'nome': 'São Paulo'}, 'estado': {'sigla': 'SP'}} \n",
      "\n",
      "CEP: 1321902\n",
      "{'altitude': 751.0, 'cep': '01321902', 'latitude': '-23.5339599956', 'longitude': '-46.636', 'logradouro': 'Rua Martiniano de Carvalho 880', 'bairro': 'Bela Vista', 'cidade': {'ddd': 11, 'ibge': '3550308', 'nome': 'São Paulo'}, 'estado': {'sigla': 'SP'}} \n",
      "\n",
      "CEP: 1128110\n",
      "{'altitude': 760.0, 'cep': '01128110', 'latitude': '-23.5436799958', 'longitude': '-46.6312875716', 'logradouro': 'Praça Jerusalém', 'bairro': 'Bom Retiro', 'cidade': {'ddd': 11, 'ibge': '3550308', 'nome': 'São Paulo'}, 'estado': {'sigla': 'SP'}} \n",
      "\n",
      "CEP: 1141040\n",
      "{'altitude': 760.0, 'cep': '01141040', 'latitude': '-23.5534900027', 'longitude': '-46.6300112918', 'logradouro': 'Rua Federação Paulista de Futebol', 'bairro': 'Várzea da Barra Funda', 'cidade': {'ddd': 11, 'ibge': '3550308', 'nome': 'São Paulo'}, 'estado': {'sigla': 'SP'}} \n",
      "\n",
      "CEP: 1502000\n",
      "{'altitude': 760.0, 'cep': '01502000', 'latitude': '-23.5674400034', 'longitude': '-46.636', 'logradouro': 'Avenida da Liberdade', 'bairro': 'Liberdade', 'complemento': '- até 368 - lado par', 'cidade': {'ddd': 11, 'ibge': '3550308', 'nome': 'São Paulo'}, 'estado': {'sigla': 'SP'}} \n",
      "\n",
      "CEP: 1321906\n",
      "{'altitude': 760.0, 'cep': '01321906', 'latitude': '-23.5608700095', 'longitude': '-46.6500391063', 'logradouro': 'Rua Humaitá 107', 'bairro': 'Bela Vista', 'cidade': {'ddd': 11, 'ibge': '3550308', 'nome': 'São Paulo'}, 'estado': {'sigla': 'SP'}} \n",
      "\n",
      "CEP: 1524020\n",
      "{'altitude': 760.0, 'cep': '01524020', 'latitude': '-23.56879001', 'longitude': '-46.6133214495', 'logradouro': 'Rua Doutor Valentim Amaral', 'bairro': 'Cambuci', 'cidade': {'ddd': 11, 'ibge': '3550308', 'nome': 'São Paulo'}, 'estado': {'sigla': 'SP'}} \n",
      "\n",
      "CEP: 1230901\n",
      "{'altitude': 780.0, 'cep': '01230901', 'latitude': '-23.548', 'longitude': '-46.6460139017', 'logradouro': 'Rua Doutor Albuquerque Lins 574', 'bairro': 'Santa Cecília', 'cidade': {'ddd': 11, 'ibge': '3550308', 'nome': 'São Paulo'}, 'estado': {'sigla': 'SP'}} \n",
      "\n",
      "CEP: 1220020\n",
      "{'altitude': 760.0, 'cep': '01220020', 'latitude': '-23.5551100087', 'longitude': '-46.636', 'logradouro': 'Rua Araújo', 'bairro': 'República', 'cidade': {'ddd': 11, 'ibge': '3550308', 'nome': 'São Paulo'}, 'estado': {'sigla': 'SP'}} \n",
      "\n",
      "CEP: 1306040\n",
      "{'altitude': 760.0, 'cep': '01306040', 'latitude': '-23.5367499914', 'longitude': '-46.6482719464', 'logradouro': 'Rua Martinho Prado', 'bairro': 'Bela Vista', 'cidade': {'ddd': 11, 'ibge': '3550308', 'nome': 'São Paulo'}, 'estado': {'sigla': 'SP'}} \n",
      "\n",
      "CEP: 1321020\n",
      "{'altitude': 760.0, 'cep': '01321020', 'latitude': '-23.5608700094', 'longitude': '-46.636', 'logradouro': 'Rua Vicente Prado', 'bairro': 'Bela Vista', 'cidade': {'ddd': 11, 'ibge': '3550308', 'nome': 'São Paulo'}, 'estado': {'sigla': 'SP'}} \n",
      "\n",
      "CEP: 1028030\n",
      "{'altitude': 760.0, 'cep': '01028030', 'latitude': '-23.5462899946', 'longitude': '-46.6341346597', 'logradouro': 'Jardim Itu', 'bairro': 'Centro', 'cidade': {'ddd': 11, 'ibge': '3550308', 'nome': 'São Paulo'}, 'estado': {'sigla': 'SP'}} \n",
      "\n",
      "CEP: 1107010\n",
      "{'altitude': 760.0, 'cep': '01107010', 'latitude': '-23.5445799995', 'longitude': '-46.6397306694', 'logradouro': 'Rua Luís Pacheco', 'bairro': 'Luz', 'cidade': {'ddd': 11, 'ibge': '3550308', 'nome': 'São Paulo'}, 'estado': {'sigla': 'SP'}} \n",
      "\n",
      "CEP: 1229901\n",
      "{'altitude': 759.0, 'cep': '01229901', 'latitude': '-23.5388199966', 'longitude': '-46.636', 'logradouro': 'Rua Doutor Veiga Filho 340', 'bairro': 'Santa Cecília', 'cidade': {'ddd': 11, 'ibge': '3550308', 'nome': 'São Paulo'}, 'estado': {'sigla': 'SP'}} \n",
      "\n",
      "CEP: 1501904\n",
      "{'altitude': 737.0, 'cep': '01501904', 'latitude': '-23.548', 'longitude': '-46.6149904384', 'logradouro': 'Praça Carlos Gomes 67', 'bairro': 'Centro', 'cidade': {'ddd': 11, 'ibge': '3550308', 'nome': 'São Paulo'}, 'estado': {'sigla': 'SP'}} \n",
      "\n",
      "CEP: 1026000\n",
      "{'altitude': 760.0, 'cep': '01026000', 'latitude': '-23.5495300076', 'longitude': '-46.636', 'logradouro': 'Avenida Senador Queirós', 'bairro': 'Centro', 'complemento': '- lado par ', 'cidade': {'ddd': 11, 'ibge': '3550308', 'nome': 'São Paulo'}, 'estado': {'sigla': 'SP'}} \n",
      "\n",
      "CEP: 1314900\n",
      "{'altitude': 782.0, 'cep': '01314900', 'latitude': '-23.548', 'longitude': '-46.650137274', 'logradouro': 'Rua Santo Antônio 184', 'bairro': 'Bela Vista', 'cidade': {'ddd': 11, 'ibge': '3550308', 'nome': 'São Paulo'}, 'estado': {'sigla': 'SP'}} \n",
      "\n",
      "CEP: 1415009\n",
      "{'altitude': 799.0, 'cep': '01415009', 'latitude': '-23.548', 'longitude': '-46.6536715949', 'logradouro': 'Rua Bela Cintra', 'bairro': 'Consolação', 'complemento': '- de 2119 ao fim - lado ímpar', 'cidade': {'ddd': 11, 'ibge': '3550308', 'nome': 'São Paulo'}, 'estado': {'sigla': 'SP'}} \n",
      "\n",
      "CEP: 1022050\n",
      "{'altitude': 760.0, 'cep': '01022050', 'latitude': '-23.548', 'longitude': '-46.6345273612', 'logradouro': 'Parque Dom Pedro II', 'bairro': 'Centro', 'complemento': '- até 500 - lado par', 'cidade': {'ddd': 11, 'ibge': '3550308', 'nome': 'São Paulo'}, 'estado': {'sigla': 'SP'}} \n",
      "\n",
      "CEP: 1036902\n",
      "{'altitude': 769.0, 'cep': '01036902', 'latitude': '-23.5514200013', 'longitude': '-46.6322693297', 'logradouro': 'Avenida São João 802', 'bairro': 'Centro', 'cidade': {'ddd': 11, 'ibge': '3550308', 'nome': 'São Paulo'}, 'estado': {'sigla': 'SP'}} \n",
      "\n",
      "CEP: 1041000\n",
      "{'altitude': 760.0, 'cep': '01041000', 'latitude': '-23.5502500075', 'longitude': '-46.6384543956', 'logradouro': 'Rua Vinte e Quatro de Maio', 'bairro': 'República', 'complemento': '- lado par', 'cidade': {'ddd': 11, 'ibge': '3550308', 'nome': 'São Paulo'}, 'estado': {'sigla': 'SP'}} \n",
      "\n",
      "CEP: 1025001\n",
      "{'altitude': 760.0, 'cep': '01025001', 'latitude': '-23.5464699989', 'longitude': '-46.6343310153', 'logradouro': 'Rua Carlos de Sousa Nazaré', 'bairro': 'Centro', 'complemento': '- lado ímpar', 'cidade': {'ddd': 11, 'ibge': '3550308', 'nome': 'São Paulo'}, 'estado': {'sigla': 'SP'}} \n",
      "\n",
      "CEP: 1004010\n",
      "{'altitude': 760.0, 'cep': '01004010', 'latitude': '-23.548', 'longitude': '-46.6361963528', 'logradouro': 'Rua Quintino Bocaiúva', 'bairro': 'Sé', 'cidade': {'ddd': 11, 'ibge': '3550308', 'nome': 'São Paulo'}, 'estado': {'sigla': 'SP'}} \n",
      "\n",
      "CEP 1502959 não encontrado \n",
      "\n",
      "CEP: 1313904\n",
      "{'altitude': 799.0, 'cep': '01313904', 'latitude': '-23.5609600027', 'longitude': '-46.6501372744', 'logradouro': 'Rua Doutor Plínio Barreto 249', 'bairro': 'Bela Vista', 'cidade': {'ddd': 11, 'ibge': '3550308', 'nome': 'São Paulo'}, 'estado': {'sigla': 'SP'}} \n",
      "\n",
      "CEP: 1046000\n",
      "{'altitude': 787.0, 'cep': '01046000', 'latitude': '-23.5454347', 'longitude': '-46.6432158', 'logradouro': 'Avenida São Luís', 'bairro': 'República', 'complemento': '- lado par', 'cidade': {'ddd': 11, 'ibge': '3550308', 'nome': 'São Paulo'}, 'estado': {'sigla': 'SP'}} \n",
      "\n",
      "CEP: 1105010\n",
      "{'altitude': 760.0, 'cep': '01105010', 'latitude': '-23.5512400033', 'longitude': '-46.6324656786', 'logradouro': 'Rua Dutra Rodrigues', 'bairro': 'Luz', 'cidade': {'ddd': 11, 'ibge': '3550308', 'nome': 'São Paulo'}, 'estado': {'sigla': 'SP'}} \n",
      "\n",
      "CEP: 1046001\n",
      "{'altitude': 760.0, 'cep': '01046001', 'latitude': '-23.5505200039', 'longitude': '-46.636', 'logradouro': 'Avenida São Luís', 'bairro': 'República', 'complemento': '- lado ímpar', 'cidade': {'ddd': 11, 'ibge': '3550308', 'nome': 'São Paulo'}, 'estado': {'sigla': 'SP'}} \n",
      "\n",
      "CEP: 1126001\n",
      "{'altitude': 760.0, 'cep': '01126001', 'latitude': '-23.548', 'longitude': '-46.640417903', 'logradouro': 'Rua Júlio Conceição', 'bairro': 'Bom Retiro', 'complemento': '- lado ímpar', 'cidade': {'ddd': 11, 'ibge': '3550308', 'nome': 'São Paulo'}, 'estado': {'sigla': 'SP'}} \n",
      "\n",
      "CEP: 3172080\n",
      "{'altitude': 760.0, 'cep': '03172080', 'latitude': '-23.6834500177', 'longitude': '-46.4882458592', 'logradouro': 'Largo Ubirajara', 'bairro': 'Belenzinho', 'cidade': {'ddd': 11, 'ibge': '3550308', 'nome': 'São Paulo'}, 'estado': {'sigla': 'SP'}} \n",
      "\n",
      "CEP: 1302010\n",
      "{'altitude': 760.0, 'cep': '01302010', 'latitude': '-23.548', 'longitude': '-46.6240225863', 'logradouro': 'Rua Maceió', 'bairro': 'Consolação', 'cidade': {'ddd': 11, 'ibge': '3550308', 'nome': 'São Paulo'}, 'estado': {'sigla': 'SP'}} \n",
      "\n",
      "CEP: 1320060\n",
      "{'altitude': 760.0, 'cep': '01320060', 'latitude': '-23.5351299952', 'longitude': '-46.636', 'logradouro': 'Viaduto Condessa de São Joaquim', 'bairro': 'Bela Vista', 'cidade': {'ddd': 11, 'ibge': '3550308', 'nome': 'São Paulo'}, 'estado': {'sigla': 'SP'}} \n",
      "\n"
     ]
    }
   ],
   "source": [
    "# Ceps já adquiridos anteriormente\n",
    "ceps_antigos= pd.read_json(f'./03_parsed_ceps/parsed_cep_details.json', lines=True)['cep']\n",
    "# Ceps adquiridos no scrapping\n",
    "ceps_novos = df_temp['zipcode'].unique()\n",
    "# Ceps ainda nao adquiridos\n",
    "ceps = list(set(ceps_novos).difference(set(ceps_antigos)))\n",
    "\n",
    "print(f'quantidade de ceps para adquirir: {len(ceps)}')\n",
    "\n",
    "for i in tqdm.tqdm_notebook(ceps):\n",
    "    try:\n",
    "        data = geoloc_by_cep(i)\n",
    "    except:\n",
    "        print('\\n===== Erro! =====\\n')\n",
    "        \n",
    "    # Checando se o dicionario veio vazio (nao retornou nada)\n",
    "    if bool(data) == True: # True --> nao retornou vazio\n",
    "        print(f'CEP: {int(i)}')\n",
    "        with open(f\"./03_parsed_ceps/parsed_cep_details.json\", \"a+\") as output:\n",
    "            output.write(\"{}\\n\".format(json.dumps(data)))\n",
    "            print(data, '\\n')\n",
    "    else:\n",
    "        print(f'CEP {int(i)} não encontrado \\n')"
   ]
  },
  {
   "cell_type": "code",
   "execution_count": 12,
   "id": "2d3485fe-2bdd-4a2f-b685-675c2894270c",
   "metadata": {},
   "outputs": [],
   "source": [
    "# Dataframe dos dados ja adquiridos\n",
    "cep_df= pd.read_json(f'./03_parsed_ceps/parsed_cep_details.json', lines=True).dropna(how= 'all')\n",
    "cep_df=cep_df.rename(columns = {'cep': 'zipcode'})\n",
    "cep_df['zipcode'] = cep_df['zipcode'].astype(int)\n",
    "\n",
    "df_joined = pd.merge(df, cep_df, on='zipcode')"
   ]
  },
  {
   "cell_type": "code",
   "execution_count": 13,
   "id": "c09f3db3-4b22-43bc-8539-e653e69a9717",
   "metadata": {},
   "outputs": [],
   "source": [
    "now = datetime.now().strftime(\"%m-%d-%Y_%H%M%S\") # Data e horario\n",
    "df_joined.to_csv(f'./data/02_raw_df_w_end/raw_df_w_end_{now}.csv', sep='|',  index=False) # Cria o dataframe"
   ]
  },
  {
   "cell_type": "code",
   "execution_count": null,
   "id": "83397ab0-9903-402a-ab80-fc2e67ca6466",
   "metadata": {},
   "outputs": [],
   "source": []
  }
 ],
 "metadata": {
  "kernelspec": {
   "display_name": "Python 3.8.16 64-bit ('Anaconda3')",
   "language": "python",
   "name": "python3"
  },
  "language_info": {
   "codemirror_mode": {
    "name": "ipython",
    "version": 3
   },
   "file_extension": ".py",
   "mimetype": "text/x-python",
   "name": "python",
   "nbconvert_exporter": "python",
   "pygments_lexer": "ipython3",
   "version": "3.8.16"
  },
  "vscode": {
   "interpreter": {
    "hash": "809bf3cb40558a57fdf8e1d5c88b4d8645e43317530673dfc5c6aa3a17a141e7"
   }
  }
 },
 "nbformat": 4,
 "nbformat_minor": 5
}
